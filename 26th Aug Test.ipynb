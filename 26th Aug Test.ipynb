{
 "cells": [
  {
   "cell_type": "markdown",
   "id": "45937d75",
   "metadata": {},
   "source": [
    "Question 1\n",
    "\n",
    "Create a matrix of size 4,6 filled with numbers between 15 to 60(included) using random.randint()"
   ]
  },
  {
   "cell_type": "code",
   "execution_count": 1,
   "id": "742e8968",
   "metadata": {},
   "outputs": [
    {
     "data": {
      "text/plain": [
       "array([[39, 23, 35, 54, 47, 21],\n",
       "       [38, 45, 59, 19, 34, 38],\n",
       "       [22, 46, 24, 54, 35, 15],\n",
       "       [59, 48, 31, 45, 41, 27]])"
      ]
     },
     "execution_count": 1,
     "metadata": {},
     "output_type": "execute_result"
    }
   ],
   "source": [
    "#Answer\n",
    "\n",
    "from numpy.random import randint\n",
    "matrix = randint(15,61,24).reshape(4,6)\n",
    "matrix"
   ]
  },
  {
   "cell_type": "markdown",
   "id": "5637e83f",
   "metadata": {},
   "source": [
    "Question 2\n",
    "\n",
    "Imagine you have registered your User ID(data_science@xyz.com) and set password (123456) with bank and you are trying to login into bank portal.\n",
    "\n",
    "Write python+numpy code to valid user entered id and password. If id or password is wrong then generate 4 digit OTP and validate the OTP. If the wrong OTP is entered, you need to allow user 3 attempts for the same OTP. If all the attempts fails then print max attempts reached try after sometime. Print appropriate messages at every stage to let user know the status."
   ]
  },
  {
   "cell_type": "code",
   "execution_count": 2,
   "id": "50348e7e",
   "metadata": {},
   "outputs": [],
   "source": [
    "from numpy.random import randint as ri"
   ]
  },
  {
   "cell_type": "code",
   "execution_count": 3,
   "id": "faea4c82",
   "metadata": {},
   "outputs": [
    {
     "name": "stdout",
     "output_type": "stream",
     "text": [
      "Enter user id - data\n",
      "Enter password -science\n",
      "Enter user id - data_science@xyz.com\n",
      "Enter password -1234\n",
      "Forgot Password\n",
      "Forget password Y or N -Y\n",
      "Your OTP is - [8036]\n",
      "Enter OTP 8035\n",
      "Your entered OTP is 8035\n",
      "\n",
      "\t OTP Mismatch, Reenter your OTP\n",
      "Enter OTP - 8036\n",
      "Login success\n"
     ]
    }
   ],
   "source": [
    "#Answer\n",
    "\n",
    "#One of the real time example of randint is\n",
    "\n",
    "reg_id = 'data_science@xyz.com'\n",
    "reg_password = 123456\n",
    "\n",
    "######\n",
    "while True:\n",
    "    u_id = input ('Enter user id - ')\n",
    "    password = input('Enter password -')\n",
    "    if u_id == reg_id and password==reg_password:\n",
    "        print ('Login success')\n",
    "        break\n",
    "        \n",
    "    elif u_id !=reg_id and password == reg_password:\n",
    "        print ('User id mismatch. Please enter the correct user ID')\n",
    "        \n",
    "    elif u_id == reg_id and password != reg_password:\n",
    "        print ('Forgot Password')\n",
    "        forgot_password = input('Forget password Y or N -')\n",
    "        if forgot_password == 'Y':\n",
    "            otp1 = ri(1000,10000,1)\n",
    "            print ('Your OTP is -', otp1)\n",
    "            user_otp = int(input('Enter OTP '))\n",
    "            print ('Your entered OTP is', user_otp)\n",
    "            \n",
    "            if otp1 == user_otp:\n",
    "                print('Login Success')\n",
    "                break\n",
    "            else:\n",
    "                print('\\n\\t OTP Mismatch, Reenter your OTP')\n",
    "                attempts=1\n",
    "                while True:\n",
    "                    if attempts == 3:\n",
    "                        print('Max attempts reached, try after sometime')\n",
    "                        break\n",
    "                    else:\n",
    "                        attempts +=1\n",
    "                        user_otp = int(input('Enter OTP - '))\n",
    "                        if otp1 == user_otp:\n",
    "                            print('Login success')\n",
    "                            success = True\n",
    "                            break\n",
    "                        else:\n",
    "                            continue\n",
    "                if success:\n",
    "                    break\n",
    "                else:\n",
    "                    continue\n",
    "        else:\n",
    "            print('Renter login details')\n",
    "            continue\n",
    "                            \n",
    "                    "
   ]
  },
  {
   "cell_type": "code",
   "execution_count": null,
   "id": "455366e9",
   "metadata": {},
   "outputs": [],
   "source": []
  }
 ],
 "metadata": {
  "kernelspec": {
   "display_name": "Python 3 (ipykernel)",
   "language": "python",
   "name": "python3"
  },
  "language_info": {
   "codemirror_mode": {
    "name": "ipython",
    "version": 3
   },
   "file_extension": ".py",
   "mimetype": "text/x-python",
   "name": "python",
   "nbconvert_exporter": "python",
   "pygments_lexer": "ipython3",
   "version": "3.10.9"
  }
 },
 "nbformat": 4,
 "nbformat_minor": 5
}
