{
 "cells": [
  {
   "cell_type": "markdown",
   "id": "0ce12973",
   "metadata": {},
   "source": [
    "ANOVA (Analysis of Variance)\n",
    "\n",
    "Anova is used to compare difference of means among more than 2 groups. It does this by looking at variation in the data and where that variation is found (hence its name). Specifically, ANOVA compares the amount of variation within groups\n",
    "\n",
    "1 Null Hypothesis, typically is that all means are equal\n",
    "2 The Independent variables are categorical\n",
    "3 Dependent variables are continues\n",
    "\n",
    "F Value\n",
    "F = Sample means of between groups/sample means of within groups"
   ]
  },
  {
   "cell_type": "markdown",
   "id": "0d68970c",
   "metadata": {},
   "source": [
    "There are several types of ANOVA tests designed for different experimental designs and scenarios. Here are some of the common ANOVA tests \n",
    "\n",
    "One Way Anova:\n",
    "\n",
    "Used when comparing means from multiple independent groups (or treatments). Determines if there are significant differences in means among the groups.\n",
    "Example: Comparing the effect of different teaching methods on student exam scores\n",
    "\n",
    "Two-way ANOVA\n",
    "\n",
    "Used when there are two independent categorical variables (factors) that may influence the dependent variable. Investigates the effect of each factor and their interavtion effect\n",
    "Example 2: Studying the impact of both gender and treatment type on patient recovery time"
   ]
  },
  {
   "cell_type": "markdown",
   "id": "ff6c1e7e",
   "metadata": {},
   "source": [
    "One Way ANOVA\n",
    "\n",
    "Example: ANOVA test for fertilizer effectiveness\n",
    "\n",
    "Scenario: A botanist is conducting an experiment to compare the growth of plants using three different types of fertilizers. Fertilizer A, B and C. The experiment involves assigning 30 random plants to each fertilizer group and measure the height of plants after a certain group\n",
    "\n",
    "Hypothesis:\n",
    "\n",
    "Null Hypothesis (HO): There is no significant difference in growth of plants among the three types of fertilizers\n",
    "\n",
    "Alternate Hypothesis (Ha): Atleast one fertilizer type effects plant growth"
   ]
  },
  {
   "cell_type": "code",
   "execution_count": 2,
   "id": "325152b5",
   "metadata": {},
   "outputs": [
    {
     "name": "stdout",
     "output_type": "stream",
     "text": [
      "Reject Null Hypothesis: There is a significant difference in the growth of plants across fertilizers\n"
     ]
    }
   ],
   "source": [
    "import numpy as np\n",
    "from scipy.stats import f_oneway\n",
    "\n",
    "#Heights of plants for each fertilizer group\n",
    "fertilizer_a = np.array([15.2, 16.5, 14.8,17.3,15.9,16.1,17.8,15.6,16.4,\n",
    "                         14.7, 16.8, 16.2, 16.7, 15.5, 16.0, 16.6, 15.9, 15.3,\n",
    "                         16.5, 16.9, 15.7, 16.3, 15.8, 17.1, 15.4, 16.5, 16.2,\n",
    "                         17.0, 15.1, 16.4, 16.6])\n",
    "\n",
    "fertilizer_b = np.array([14.3, 13.8, 13.5,14.7,13.9,14.5,14.0,14.9,13.7,\n",
    "                         14.4, 14.2, 14.6, 14.1, 13.6, 14.3, 14.8, 14.2, 14.5,\n",
    "                         14.7, 13.9, 14.4, 13.8, 14.6, 14.1, 13.5, 14.2, 13.7,\n",
    "                         14.0, 14.3, 14.5, 14.1])\n",
    "\n",
    "fertilizer_c= np.array([17.7, 18.3, 17.0,18.6,17.9,17.2,18.1,17.7,18.0,\n",
    "                         17.3, 17.8, 18.2, 17.4, 18.5, 17.6, 18.4, 18.1, 17.1,\n",
    "                         18.2, 18.3, 17.8, 18.0, 17.9, 18.1, 17.7, 18.2, 18.6,\n",
    "                         17.3, 18.3, 18.4, 17.6])\n",
    "\n",
    "#Perform one way ANOVA\n",
    "f_statistic, p_value = f_oneway(fertilizer_a,fertilizer_b,fertilizer_c)\n",
    "\n",
    "#Interpret the results\n",
    "alpha = 0.05 #significant level\n",
    "if p_value<alpha:\n",
    "    print('Reject Null Hypothesis: There is a significant difference in the growth of plants across fertilizers')\n",
    "else:\n",
    "    print('Failed to reject Null Hypothesis: There is no difference in the growth of plants across fertilizers ')"
   ]
  },
  {
   "cell_type": "markdown",
   "id": "e329526b",
   "metadata": {},
   "source": [
    "Two way ANOVA\n",
    "\n",
    "Scenario: Researchers are conducting a study to determine the effects of diet type (Factor A:Low Carb, Balanced, Low Fat) and exercise level (Factor B: Sedentary, Moderate, Active) on weight loss. They recruit participants and measure their weight before and after a specified period.\n",
    "\n",
    "Hypothesis:\n",
    "\n",
    "Null Hypothesis (HO): There is no ineraction between diet type and exercise on weight loss\n",
    "\n",
    "Alternative Hypothesis (Ha): There is an interaction between diet type and exercise on weight loss"
   ]
  },
  {
   "cell_type": "code",
   "execution_count": 3,
   "id": "32155d0c",
   "metadata": {},
   "outputs": [
    {
     "data": {
      "text/html": [
       "<div>\n",
       "<style scoped>\n",
       "    .dataframe tbody tr th:only-of-type {\n",
       "        vertical-align: middle;\n",
       "    }\n",
       "\n",
       "    .dataframe tbody tr th {\n",
       "        vertical-align: top;\n",
       "    }\n",
       "\n",
       "    .dataframe thead th {\n",
       "        text-align: right;\n",
       "    }\n",
       "</style>\n",
       "<table border=\"1\" class=\"dataframe\">\n",
       "  <thead>\n",
       "    <tr style=\"text-align: right;\">\n",
       "      <th></th>\n",
       "      <th>Diet</th>\n",
       "      <th>Exercises</th>\n",
       "      <th>Weightloss</th>\n",
       "    </tr>\n",
       "  </thead>\n",
       "  <tbody>\n",
       "    <tr>\n",
       "      <th>0</th>\n",
       "      <td>Low Carb</td>\n",
       "      <td>Sedentary</td>\n",
       "      <td>2.3</td>\n",
       "    </tr>\n",
       "    <tr>\n",
       "      <th>1</th>\n",
       "      <td>Low Carb</td>\n",
       "      <td>Moderate</td>\n",
       "      <td>3.1</td>\n",
       "    </tr>\n",
       "    <tr>\n",
       "      <th>2</th>\n",
       "      <td>Low Carb</td>\n",
       "      <td>Active</td>\n",
       "      <td>4.2</td>\n",
       "    </tr>\n",
       "    <tr>\n",
       "      <th>3</th>\n",
       "      <td>Balanced</td>\n",
       "      <td>Sedentary</td>\n",
       "      <td>1.5</td>\n",
       "    </tr>\n",
       "    <tr>\n",
       "      <th>4</th>\n",
       "      <td>Balanced</td>\n",
       "      <td>Moderate</td>\n",
       "      <td>2.0</td>\n",
       "    </tr>\n",
       "    <tr>\n",
       "      <th>5</th>\n",
       "      <td>Balanced</td>\n",
       "      <td>Active</td>\n",
       "      <td>2.8</td>\n",
       "    </tr>\n",
       "    <tr>\n",
       "      <th>6</th>\n",
       "      <td>Low Fat</td>\n",
       "      <td>Sedentary</td>\n",
       "      <td>1.0</td>\n",
       "    </tr>\n",
       "    <tr>\n",
       "      <th>7</th>\n",
       "      <td>Low Fat</td>\n",
       "      <td>Moderate</td>\n",
       "      <td>1.2</td>\n",
       "    </tr>\n",
       "    <tr>\n",
       "      <th>8</th>\n",
       "      <td>Low Fat</td>\n",
       "      <td>Active</td>\n",
       "      <td>1.5</td>\n",
       "    </tr>\n",
       "  </tbody>\n",
       "</table>\n",
       "</div>"
      ],
      "text/plain": [
       "       Diet  Exercises  Weightloss\n",
       "0  Low Carb  Sedentary         2.3\n",
       "1  Low Carb   Moderate         3.1\n",
       "2  Low Carb     Active         4.2\n",
       "3  Balanced  Sedentary         1.5\n",
       "4  Balanced   Moderate         2.0\n",
       "5  Balanced     Active         2.8\n",
       "6   Low Fat  Sedentary         1.0\n",
       "7   Low Fat   Moderate         1.2\n",
       "8   Low Fat     Active         1.5"
      ]
     },
     "execution_count": 3,
     "metadata": {},
     "output_type": "execute_result"
    }
   ],
   "source": [
    "import pandas as pd\n",
    "\n",
    "#Create a dataframe with simulated data\n",
    "data = {\n",
    "    'Diet':['Low Carb', 'Low Carb', 'Low Carb', 'Balanced', 'Balanced', 'Balanced', 'Low Fat', 'Low Fat', 'Low Fat'],\n",
    "    'Exercises': ['Sedentary', 'Moderate', 'Active','Sedentary', 'Moderate', 'Active','Sedentary', 'Moderate', 'Active'],\n",
    "    'Weightloss': [2.3, 3.1, 4.2, 1.5, 2.0, 2.8, 1.0, 1.2, 1.5]\n",
    "    }\n",
    "\n",
    "df=pd.DataFrame(data)\n",
    "df"
   ]
  },
  {
   "cell_type": "code",
   "execution_count": 8,
   "id": "582896cb",
   "metadata": {},
   "outputs": [
    {
     "name": "stdout",
     "output_type": "stream",
     "text": [
      "            df    sum_sq   mean_sq          F    PR(>F)\n",
      "Diet       2.0  5.828889  2.914444  23.419643  0.006190\n",
      "Exercises  2.0  2.308889  1.154444   9.276786  0.031455\n",
      "Residual   4.0  0.497778  0.124444        NaN       NaN\n"
     ]
    }
   ],
   "source": [
    "import statsmodels.api as sm\n",
    "from statsmodels.formula.api import ols\n",
    "\n",
    "#Fit two way ANOVA model\n",
    "model = ols('Weightloss ~ Diet + Exercises', data=df).fit()\n",
    "anova_table = sm.stats.anova_lm(model)\n",
    "\n",
    "#Interpret the results\n",
    "print(anova_table)"
   ]
  },
  {
   "cell_type": "markdown",
   "id": "b3882c28",
   "metadata": {},
   "source": [
    "Nested ANOVA\n",
    "\n",
    "Scenario: A study is conducted to assess the effects of different instructors (nested within schools) on student exam scores. Students are nested within instructors, and instructors are nested sithin schools "
   ]
  },
  {
   "cell_type": "code",
   "execution_count": 5,
   "id": "70df36f4",
   "metadata": {},
   "outputs": [
    {
     "data": {
      "text/html": [
       "<div>\n",
       "<style scoped>\n",
       "    .dataframe tbody tr th:only-of-type {\n",
       "        vertical-align: middle;\n",
       "    }\n",
       "\n",
       "    .dataframe tbody tr th {\n",
       "        vertical-align: top;\n",
       "    }\n",
       "\n",
       "    .dataframe thead th {\n",
       "        text-align: right;\n",
       "    }\n",
       "</style>\n",
       "<table border=\"1\" class=\"dataframe\">\n",
       "  <thead>\n",
       "    <tr style=\"text-align: right;\">\n",
       "      <th></th>\n",
       "      <th>School</th>\n",
       "      <th>Instructor</th>\n",
       "      <th>ExamScore</th>\n",
       "    </tr>\n",
       "  </thead>\n",
       "  <tbody>\n",
       "    <tr>\n",
       "      <th>0</th>\n",
       "      <td>A</td>\n",
       "      <td>X</td>\n",
       "      <td>85</td>\n",
       "    </tr>\n",
       "    <tr>\n",
       "      <th>1</th>\n",
       "      <td>A</td>\n",
       "      <td>Y</td>\n",
       "      <td>88</td>\n",
       "    </tr>\n",
       "    <tr>\n",
       "      <th>2</th>\n",
       "      <td>B</td>\n",
       "      <td>X</td>\n",
       "      <td>82</td>\n",
       "    </tr>\n",
       "    <tr>\n",
       "      <th>3</th>\n",
       "      <td>B</td>\n",
       "      <td>Y</td>\n",
       "      <td>89</td>\n",
       "    </tr>\n",
       "    <tr>\n",
       "      <th>4</th>\n",
       "      <td>B</td>\n",
       "      <td>Z</td>\n",
       "      <td>86</td>\n",
       "    </tr>\n",
       "    <tr>\n",
       "      <th>5</th>\n",
       "      <td>C</td>\n",
       "      <td>Z</td>\n",
       "      <td>90</td>\n",
       "    </tr>\n",
       "    <tr>\n",
       "      <th>6</th>\n",
       "      <td>C</td>\n",
       "      <td>Y</td>\n",
       "      <td>91</td>\n",
       "    </tr>\n",
       "    <tr>\n",
       "      <th>7</th>\n",
       "      <td>C</td>\n",
       "      <td>Z</td>\n",
       "      <td>87</td>\n",
       "    </tr>\n",
       "    <tr>\n",
       "      <th>8</th>\n",
       "      <td>C</td>\n",
       "      <td>X</td>\n",
       "      <td>88</td>\n",
       "    </tr>\n",
       "  </tbody>\n",
       "</table>\n",
       "</div>"
      ],
      "text/plain": [
       "  School Instructor  ExamScore\n",
       "0      A          X         85\n",
       "1      A          Y         88\n",
       "2      B          X         82\n",
       "3      B          Y         89\n",
       "4      B          Z         86\n",
       "5      C          Z         90\n",
       "6      C          Y         91\n",
       "7      C          Z         87\n",
       "8      C          X         88"
      ]
     },
     "execution_count": 5,
     "metadata": {},
     "output_type": "execute_result"
    }
   ],
   "source": [
    "import pandas as pd\n",
    "import statsmodels.api as sm\n",
    "from statsmodels.formula.api import ols\n",
    "\n",
    "#Create a dataframe with simulated data\n",
    "data ={\n",
    "    'School': ['A', 'A', 'B', 'B', 'B', 'C', 'C', 'C', 'C'],\n",
    "    'Instructor': ['X', 'Y', 'X', 'Y', 'Z', 'Z', 'Y', 'Z', 'X'],\n",
    "    'ExamScore': [85, 88, 82, 89, 86, 90, 91, 87, 88]\n",
    "}\n",
    "\n",
    "df = pd.DataFrame(data)\n",
    "df"
   ]
  },
  {
   "cell_type": "code",
   "execution_count": 8,
   "id": "d62155e1",
   "metadata": {},
   "outputs": [
    {
     "name": "stdout",
     "output_type": "stream",
     "text": [
      "                    df     sum_sq    mean_sq         F    PR(>F)\n",
      "School             2.0  20.833333  10.416667  2.314815  0.421464\n",
      "Instructor         2.0  28.433333  14.216667  3.159259  0.369648\n",
      "School:Instructor  4.0  10.733333   2.683333  0.596296  0.734989\n",
      "Residual           1.0   4.500000   4.500000       NaN       NaN\n"
     ]
    }
   ],
   "source": [
    "#Fit Nested Anova Model\n",
    "model = ols('ExamScore ~ School + Instructor + School:Instructor', data=df).fit()\n",
    "anova_table = sm.stats.anova_lm(model)\n",
    "\n",
    "#Interpret the results\n",
    "print(anova_table)"
   ]
  }
 ],
 "metadata": {
  "kernelspec": {
   "display_name": "Python 3 (ipykernel)",
   "language": "python",
   "name": "python3"
  },
  "language_info": {
   "codemirror_mode": {
    "name": "ipython",
    "version": 3
   },
   "file_extension": ".py",
   "mimetype": "text/x-python",
   "name": "python",
   "nbconvert_exporter": "python",
   "pygments_lexer": "ipython3",
   "version": "3.10.9"
  }
 },
 "nbformat": 4,
 "nbformat_minor": 5
}
