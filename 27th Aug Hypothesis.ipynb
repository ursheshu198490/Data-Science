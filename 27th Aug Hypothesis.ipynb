{
 "cells": [
  {
   "cell_type": "markdown",
   "id": "4cf111cf",
   "metadata": {},
   "source": [
    "Hypothesis:\n",
    "\n",
    "Null Hypothesis = Ho => Decision always leads to status quo. Current status/assumption doesn't change\n",
    "Alternate Hypothesis = Ha> Decision leads to opposite of Ho\n",
    "\n",
    "One Tail and Two Tail Tests\n",
    "\n",
    "One Tail test\n",
    "\n",
    "Left Tail test\n",
    "\n",
    "Example - Car mileage test\n",
    "\n",
    "Ho - All our cars average mileage is greater than 25KMPL\n",
    "Ha - Average mileage is less than 25kmpl\n",
    "\n",
    "Left tailed test: The alternative hypothesis contains the \"<\" sign\n",
    "\n",
    "Right tail test\n",
    "\n",
    "Example - New method will reduce delivery time\n",
    "\n",
    "Ho - Our new home delivery method reduces delivery time\n",
    "Ha - New method will increase the delivery time\n",
    "\n",
    "Right tailed test: The alternative hypothesis contains the \">\" sign"
   ]
  },
  {
   "cell_type": "markdown",
   "id": "6e4a85bf",
   "metadata": {},
   "source": [
    "Problem\n",
    "\n",
    "A car manufacturing company of all their cars is 25KMPL. The population standard deviation is known from the past experience is 1.5kmpl. A car rental company wants to sell the Null Hypothesis that the average mileage is atleast 25kmpl. \n",
    "Car rental representative drove 30 cars(samples) of the same company and recorded each car mileage. The average mileage of the sample turned out to be 24.2 kmpl.\n",
    "\n",
    "Test the null hypothesis?\n",
    "\n",
    "(HO) Null Hypothesis>=25\n",
    "(H1) Alternative Hypothesis < 25"
   ]
  },
  {
   "cell_type": "code",
   "execution_count": 3,
   "id": "2436ff4c",
   "metadata": {},
   "outputs": [],
   "source": [
    "import numpy as np\n",
    "mean = 25\n",
    "sample_mean = 24.2\n",
    "std = 1.5\n",
    "n = 30"
   ]
  },
  {
   "cell_type": "code",
   "execution_count": 4,
   "id": "07562426",
   "metadata": {},
   "outputs": [
    {
     "data": {
      "text/plain": [
       "-2.921186973360889"
      ]
     },
     "execution_count": 4,
     "metadata": {},
     "output_type": "execute_result"
    }
   ],
   "source": [
    "z = (sample_mean - mean)/(std/np.sqrt(30))\n",
    "z\n",
    "\n",
    "#Below z score need to check in the z-table to get the p-value (z-table.com)"
   ]
  },
  {
   "cell_type": "code",
   "execution_count": null,
   "id": "123ce520",
   "metadata": {},
   "outputs": [],
   "source": [
    "#Using Statistics tools"
   ]
  },
  {
   "cell_type": "code",
   "execution_count": 5,
   "id": "6a2ae423",
   "metadata": {},
   "outputs": [
    {
     "data": {
      "text/plain": [
       "0.0017435024460706768"
      ]
     },
     "execution_count": 5,
     "metadata": {},
     "output_type": "execute_result"
    }
   ],
   "source": [
    "import scipy.stats as st\n",
    "import numpy as np\n",
    "p_value = st.norm.cdf(sample_mean,loc=mean,scale=std/np.sqrt(30))\n",
    "p_value"
   ]
  },
  {
   "cell_type": "markdown",
   "id": "e188a041",
   "metadata": {},
   "source": [
    "#if samples are >=3o we consider it as normal distribution hence norm\n",
    "#Cumulative Density fuction = cdf\n",
    "#p_value is probability value"
   ]
  },
  {
   "cell_type": "markdown",
   "id": "8fcd5399",
   "metadata": {},
   "source": [
    "p_value or probability value determines if the result is statistically significant or not. If it is significant then it means outcome is not by chance or random luck\n",
    "\n",
    "Important points\n",
    "a) Standard alpha level = 0.05\n",
    "b) if p_value is <0.05 then we reject Null Hypothesis (Ho)\n",
    "c) if p_value is >0.05 then we failed to reject the Ho\n",
    "\n",
    "Conclusion: As the p_value is less than alpha(0.05), we reject the Null Hypothesis (mileage>=25kmpl). Which also means that all the cars do not give 25 mileage so rental company will not buy the cars"
   ]
  },
  {
   "cell_type": "markdown",
   "id": "481a72c2",
   "metadata": {},
   "source": [
    "Type 1 Error If Ho is true and you reject Ho\n",
    "example: if average car mileage is 25 or >25 and the rental agency reject its Type 1 error\n",
    "\n",
    "Type 2 Error if Ho is false and you fail to reject Ho\n",
    "example: if average car mileage <25 and the rental agency buys the cars its Type 2 error"
   ]
  },
  {
   "cell_type": "markdown",
   "id": "745307ad",
   "metadata": {},
   "source": [
    "Statistical Tools\n",
    "\n",
    "1 ttest or student's ttest\n",
    "2 ANOVA\n",
    "3 Chi-square"
   ]
  },
  {
   "cell_type": "markdown",
   "id": "b43a09cd",
   "metadata": {},
   "source": [
    "ttest\n",
    "\n",
    "One sample ttest\n",
    "1 A sample ttest is used to determine whether the mean of a sample is significantly different from a known mean\n",
    "\n",
    "Two sample ttest\n",
    "1 Two sample ttest is used to determine if there is a significant difference between two independent groups mean value"
   ]
  },
  {
   "cell_type": "code",
   "execution_count": 9,
   "id": "f853190a",
   "metadata": {},
   "outputs": [
    {
     "data": {
      "text/html": [
       "<div>\n",
       "<style scoped>\n",
       "    .dataframe tbody tr th:only-of-type {\n",
       "        vertical-align: middle;\n",
       "    }\n",
       "\n",
       "    .dataframe tbody tr th {\n",
       "        vertical-align: top;\n",
       "    }\n",
       "\n",
       "    .dataframe thead th {\n",
       "        text-align: right;\n",
       "    }\n",
       "</style>\n",
       "<table border=\"1\" class=\"dataframe\">\n",
       "  <thead>\n",
       "    <tr style=\"text-align: right;\">\n",
       "      <th></th>\n",
       "      <th>ID</th>\n",
       "      <th>Gender</th>\n",
       "      <th>Race</th>\n",
       "      <th>SEB</th>\n",
       "      <th>School</th>\n",
       "      <th>Prog</th>\n",
       "      <th>Read</th>\n",
       "      <th>Write</th>\n",
       "      <th>Math1</th>\n",
       "      <th>Math2</th>\n",
       "      <th>SST</th>\n",
       "    </tr>\n",
       "  </thead>\n",
       "  <tbody>\n",
       "    <tr>\n",
       "      <th>0</th>\n",
       "      <td>70</td>\n",
       "      <td>0</td>\n",
       "      <td>4</td>\n",
       "      <td>1</td>\n",
       "      <td>1</td>\n",
       "      <td>1</td>\n",
       "      <td>57</td>\n",
       "      <td>52</td>\n",
       "      <td>41</td>\n",
       "      <td>47</td>\n",
       "      <td>57</td>\n",
       "    </tr>\n",
       "    <tr>\n",
       "      <th>1</th>\n",
       "      <td>121</td>\n",
       "      <td>1</td>\n",
       "      <td>4</td>\n",
       "      <td>2</td>\n",
       "      <td>1</td>\n",
       "      <td>3</td>\n",
       "      <td>68</td>\n",
       "      <td>59</td>\n",
       "      <td>53</td>\n",
       "      <td>63</td>\n",
       "      <td>61</td>\n",
       "    </tr>\n",
       "    <tr>\n",
       "      <th>2</th>\n",
       "      <td>86</td>\n",
       "      <td>0</td>\n",
       "      <td>4</td>\n",
       "      <td>3</td>\n",
       "      <td>1</td>\n",
       "      <td>1</td>\n",
       "      <td>44</td>\n",
       "      <td>33</td>\n",
       "      <td>54</td>\n",
       "      <td>58</td>\n",
       "      <td>31</td>\n",
       "    </tr>\n",
       "    <tr>\n",
       "      <th>3</th>\n",
       "      <td>141</td>\n",
       "      <td>0</td>\n",
       "      <td>4</td>\n",
       "      <td>3</td>\n",
       "      <td>1</td>\n",
       "      <td>3</td>\n",
       "      <td>63</td>\n",
       "      <td>44</td>\n",
       "      <td>47</td>\n",
       "      <td>53</td>\n",
       "      <td>56</td>\n",
       "    </tr>\n",
       "    <tr>\n",
       "      <th>4</th>\n",
       "      <td>172</td>\n",
       "      <td>0</td>\n",
       "      <td>4</td>\n",
       "      <td>2</td>\n",
       "      <td>1</td>\n",
       "      <td>2</td>\n",
       "      <td>47</td>\n",
       "      <td>52</td>\n",
       "      <td>57</td>\n",
       "      <td>53</td>\n",
       "      <td>61</td>\n",
       "    </tr>\n",
       "  </tbody>\n",
       "</table>\n",
       "</div>"
      ],
      "text/plain": [
       "    ID  Gender  Race  SEB  School  Prog  Read  Write  Math1  Math2  SST\n",
       "0   70       0     4    1       1     1    57     52     41     47   57\n",
       "1  121       1     4    2       1     3    68     59     53     63   61\n",
       "2   86       0     4    3       1     1    44     33     54     58   31\n",
       "3  141       0     4    3       1     3    63     44     47     53   56\n",
       "4  172       0     4    2       1     2    47     52     57     53   61"
      ]
     },
     "execution_count": 9,
     "metadata": {},
     "output_type": "execute_result"
    }
   ],
   "source": [
    "import pandas as pd\n",
    "hyp = pd.read_csv('Hypothesis ttest.csv')\n",
    "hyp.head()"
   ]
  },
  {
   "cell_type": "markdown",
   "id": "df99e3c1",
   "metadata": {},
   "source": [
    "A teacher wants to teach students for a competitive exam. She collected samples of student marks from different schools and based on her past experience she believes that, these type of students will score than 60 marks in the exams. Now she wants to conduct hypothesis test on the marks"
   ]
  },
  {
   "cell_type": "code",
   "execution_count": null,
   "id": "fa353ac6",
   "metadata": {},
   "outputs": [],
   "source": [
    "#Ho = mu>=60\n",
    "#Ha = mu<60"
   ]
  },
  {
   "cell_type": "code",
   "execution_count": 10,
   "id": "73812210",
   "metadata": {},
   "outputs": [
    {
     "data": {
      "text/plain": [
       "52.645"
      ]
     },
     "execution_count": 10,
     "metadata": {},
     "output_type": "execute_result"
    }
   ],
   "source": [
    "hyp['Math1'].mean()"
   ]
  },
  {
   "cell_type": "code",
   "execution_count": 11,
   "id": "a7d2a0d6",
   "metadata": {},
   "outputs": [],
   "source": [
    "alpha = .05\n",
    "xbar = 52.645\n",
    "mu=60"
   ]
  },
  {
   "cell_type": "markdown",
   "id": "6244ba11",
   "metadata": {},
   "source": [
    "1 Sample t test"
   ]
  },
  {
   "cell_type": "code",
   "execution_count": 12,
   "id": "295127a0",
   "metadata": {},
   "outputs": [],
   "source": [
    "import scipy.stats as st"
   ]
  },
  {
   "cell_type": "code",
   "execution_count": 14,
   "id": "77035ef6",
   "metadata": {},
   "outputs": [
    {
     "data": {
      "text/plain": [
       "TtestResult(statistic=-11.102736525713398, pvalue=1.3339158110547646e-22, df=199)"
      ]
     },
     "execution_count": 14,
     "metadata": {},
     "output_type": "execute_result"
    }
   ],
   "source": [
    "#Since we are conducting test for one sample we will go for 1sample test\n",
    "st.ttest_1samp(hyp.Math1,mu)"
   ]
  },
  {
   "cell_type": "code",
   "execution_count": null,
   "id": "cdd7d334",
   "metadata": {},
   "outputs": [],
   "source": [
    "#when you run ttest you get 2 values 1. t statistics score and 2 pvalue for two tail\n",
    "#pvalue/2"
   ]
  },
  {
   "cell_type": "markdown",
   "id": "e4a0bf08",
   "metadata": {},
   "source": [
    "2 Sample ttest\n",
    "\n",
    "Independent sample\n",
    "paired sample"
   ]
  },
  {
   "cell_type": "code",
   "execution_count": 15,
   "id": "8e08e373",
   "metadata": {},
   "outputs": [
    {
     "data": {
      "text/html": [
       "<div>\n",
       "<style scoped>\n",
       "    .dataframe tbody tr th:only-of-type {\n",
       "        vertical-align: middle;\n",
       "    }\n",
       "\n",
       "    .dataframe tbody tr th {\n",
       "        vertical-align: top;\n",
       "    }\n",
       "\n",
       "    .dataframe thead th {\n",
       "        text-align: right;\n",
       "    }\n",
       "</style>\n",
       "<table border=\"1\" class=\"dataframe\">\n",
       "  <thead>\n",
       "    <tr style=\"text-align: right;\">\n",
       "      <th></th>\n",
       "      <th>ID</th>\n",
       "      <th>Gender</th>\n",
       "      <th>Race</th>\n",
       "      <th>SEB</th>\n",
       "      <th>School</th>\n",
       "      <th>Prog</th>\n",
       "      <th>Read</th>\n",
       "      <th>Write</th>\n",
       "      <th>Math1</th>\n",
       "      <th>Math2</th>\n",
       "      <th>SST</th>\n",
       "    </tr>\n",
       "  </thead>\n",
       "  <tbody>\n",
       "    <tr>\n",
       "      <th>0</th>\n",
       "      <td>70</td>\n",
       "      <td>0</td>\n",
       "      <td>4</td>\n",
       "      <td>1</td>\n",
       "      <td>1</td>\n",
       "      <td>1</td>\n",
       "      <td>57</td>\n",
       "      <td>52</td>\n",
       "      <td>41</td>\n",
       "      <td>47</td>\n",
       "      <td>57</td>\n",
       "    </tr>\n",
       "    <tr>\n",
       "      <th>1</th>\n",
       "      <td>121</td>\n",
       "      <td>1</td>\n",
       "      <td>4</td>\n",
       "      <td>2</td>\n",
       "      <td>1</td>\n",
       "      <td>3</td>\n",
       "      <td>68</td>\n",
       "      <td>59</td>\n",
       "      <td>53</td>\n",
       "      <td>63</td>\n",
       "      <td>61</td>\n",
       "    </tr>\n",
       "    <tr>\n",
       "      <th>2</th>\n",
       "      <td>86</td>\n",
       "      <td>0</td>\n",
       "      <td>4</td>\n",
       "      <td>3</td>\n",
       "      <td>1</td>\n",
       "      <td>1</td>\n",
       "      <td>44</td>\n",
       "      <td>33</td>\n",
       "      <td>54</td>\n",
       "      <td>58</td>\n",
       "      <td>31</td>\n",
       "    </tr>\n",
       "    <tr>\n",
       "      <th>3</th>\n",
       "      <td>141</td>\n",
       "      <td>0</td>\n",
       "      <td>4</td>\n",
       "      <td>3</td>\n",
       "      <td>1</td>\n",
       "      <td>3</td>\n",
       "      <td>63</td>\n",
       "      <td>44</td>\n",
       "      <td>47</td>\n",
       "      <td>53</td>\n",
       "      <td>56</td>\n",
       "    </tr>\n",
       "    <tr>\n",
       "      <th>4</th>\n",
       "      <td>172</td>\n",
       "      <td>0</td>\n",
       "      <td>4</td>\n",
       "      <td>2</td>\n",
       "      <td>1</td>\n",
       "      <td>2</td>\n",
       "      <td>47</td>\n",
       "      <td>52</td>\n",
       "      <td>57</td>\n",
       "      <td>53</td>\n",
       "      <td>61</td>\n",
       "    </tr>\n",
       "  </tbody>\n",
       "</table>\n",
       "</div>"
      ],
      "text/plain": [
       "    ID  Gender  Race  SEB  School  Prog  Read  Write  Math1  Math2  SST\n",
       "0   70       0     4    1       1     1    57     52     41     47   57\n",
       "1  121       1     4    2       1     3    68     59     53     63   61\n",
       "2   86       0     4    3       1     1    44     33     54     58   31\n",
       "3  141       0     4    3       1     3    63     44     47     53   56\n",
       "4  172       0     4    2       1     2    47     52     57     53   61"
      ]
     },
     "execution_count": 15,
     "metadata": {},
     "output_type": "execute_result"
    }
   ],
   "source": [
    "hyp.head()"
   ]
  },
  {
   "cell_type": "code",
   "execution_count": 16,
   "id": "237e75a8",
   "metadata": {},
   "outputs": [
    {
     "data": {
      "text/plain": [
       "1    109\n",
       "0     91\n",
       "Name: Gender, dtype: int64"
      ]
     },
     "execution_count": 16,
     "metadata": {},
     "output_type": "execute_result"
    }
   ],
   "source": [
    "hyp['Gender'].value_counts()"
   ]
  },
  {
   "cell_type": "code",
   "execution_count": 18,
   "id": "04e2944e",
   "metadata": {},
   "outputs": [
    {
     "data": {
      "text/plain": [
       "1     53\n",
       "92    65\n",
       "93    52\n",
       "94    46\n",
       "95    61\n",
       "Name: Math1, dtype: int64"
      ]
     },
     "execution_count": 18,
     "metadata": {},
     "output_type": "execute_result"
    }
   ],
   "source": [
    "#How to subset the data on gender\n",
    "hyp[hyp['Gender']==1].Math1.head()"
   ]
  },
  {
   "cell_type": "markdown",
   "id": "9afca027",
   "metadata": {},
   "source": [
    "Independent sample"
   ]
  },
  {
   "cell_type": "code",
   "execution_count": 22,
   "id": "ec80f868",
   "metadata": {},
   "outputs": [],
   "source": [
    "t,p = st.ttest_ind(hyp[hyp['Gender']==1].Math1,hyp[hyp['Gender']==0].Math1)"
   ]
  },
  {
   "cell_type": "code",
   "execution_count": 23,
   "id": "c5bcc030",
   "metadata": {},
   "outputs": [
    {
     "data": {
      "text/plain": [
       "0.6800544974232143"
      ]
     },
     "execution_count": 23,
     "metadata": {},
     "output_type": "execute_result"
    }
   ],
   "source": [
    "p"
   ]
  },
  {
   "cell_type": "markdown",
   "id": "8c5c0548",
   "metadata": {},
   "source": [
    "Paired Sample"
   ]
  },
  {
   "cell_type": "code",
   "execution_count": 24,
   "id": "e7b4a428",
   "metadata": {},
   "outputs": [],
   "source": [
    "t,p=st.ttest_rel(hyp.Math1,hyp.Math2)"
   ]
  },
  {
   "cell_type": "code",
   "execution_count": 25,
   "id": "5606367f",
   "metadata": {},
   "outputs": [
    {
     "data": {
      "text/plain": [
       "0.1767652560550735"
      ]
     },
     "execution_count": 25,
     "metadata": {},
     "output_type": "execute_result"
    }
   ],
   "source": [
    "p"
   ]
  },
  {
   "cell_type": "code",
   "execution_count": null,
   "id": "7f03ac7b",
   "metadata": {},
   "outputs": [],
   "source": []
  }
 ],
 "metadata": {
  "kernelspec": {
   "display_name": "Python 3 (ipykernel)",
   "language": "python",
   "name": "python3"
  },
  "language_info": {
   "codemirror_mode": {
    "name": "ipython",
    "version": 3
   },
   "file_extension": ".py",
   "mimetype": "text/x-python",
   "name": "python",
   "nbconvert_exporter": "python",
   "pygments_lexer": "ipython3",
   "version": "3.10.9"
  }
 },
 "nbformat": 4,
 "nbformat_minor": 5
}
