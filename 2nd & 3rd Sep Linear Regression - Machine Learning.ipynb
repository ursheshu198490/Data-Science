{
 "cells": [
  {
   "cell_type": "markdown",
   "id": "a32bd9e3",
   "metadata": {},
   "source": [
    "a) Supervised ML\n",
    "Regression\n",
    "Classification\n",
    "\n",
    "b) Unsupervised ML\n",
    "   Clustering - Grouping\n",
    "   \n",
    "c) Semisupervised ML - not required\n",
    "\n",
    "d) Reinforcement Learning - not required"
   ]
  },
  {
   "cell_type": "markdown",
   "id": "b4b70f4a",
   "metadata": {},
   "source": [
    "Linear Regression\n",
    "\n",
    "y = mx + c\n",
    "\n",
    "y = Prediction\n",
    "m = slope\n",
    "x = data\n",
    "c = Intercept"
   ]
  },
  {
   "cell_type": "markdown",
   "id": "a7f0d734",
   "metadata": {},
   "source": [
    "Problem Statement:\n",
    "This data is about the amount spent on advertising through different channels like TV, Radio and Newspaper. The goal is to predict how the expense on each channel affects the sale and is there a way to optimise the sale"
   ]
  },
  {
   "cell_type": "code",
   "execution_count": 2,
   "id": "f35338fe",
   "metadata": {},
   "outputs": [],
   "source": [
    "#necessary imports\n",
    "import pandas as pd\n",
    "import matplotlib.pyplot as plt\n",
    "%matplotlib inline"
   ]
  },
  {
   "cell_type": "code",
   "execution_count": 3,
   "id": "6f14d340",
   "metadata": {},
   "outputs": [],
   "source": [
    "data = pd.read_csv('Advertising.csv') #Reading the data file"
   ]
  },
  {
   "cell_type": "code",
   "execution_count": 4,
   "id": "2b146f6f",
   "metadata": {},
   "outputs": [
    {
     "data": {
      "text/html": [
       "<div>\n",
       "<style scoped>\n",
       "    .dataframe tbody tr th:only-of-type {\n",
       "        vertical-align: middle;\n",
       "    }\n",
       "\n",
       "    .dataframe tbody tr th {\n",
       "        vertical-align: top;\n",
       "    }\n",
       "\n",
       "    .dataframe thead th {\n",
       "        text-align: right;\n",
       "    }\n",
       "</style>\n",
       "<table border=\"1\" class=\"dataframe\">\n",
       "  <thead>\n",
       "    <tr style=\"text-align: right;\">\n",
       "      <th></th>\n",
       "      <th>Unnamed: 0</th>\n",
       "      <th>TV</th>\n",
       "      <th>radio</th>\n",
       "      <th>newspaper</th>\n",
       "      <th>sales</th>\n",
       "    </tr>\n",
       "  </thead>\n",
       "  <tbody>\n",
       "    <tr>\n",
       "      <th>0</th>\n",
       "      <td>1</td>\n",
       "      <td>230.1</td>\n",
       "      <td>37.8</td>\n",
       "      <td>69.2</td>\n",
       "      <td>22.1</td>\n",
       "    </tr>\n",
       "    <tr>\n",
       "      <th>1</th>\n",
       "      <td>2</td>\n",
       "      <td>44.5</td>\n",
       "      <td>39.3</td>\n",
       "      <td>45.1</td>\n",
       "      <td>10.4</td>\n",
       "    </tr>\n",
       "    <tr>\n",
       "      <th>2</th>\n",
       "      <td>3</td>\n",
       "      <td>17.2</td>\n",
       "      <td>45.9</td>\n",
       "      <td>69.3</td>\n",
       "      <td>9.3</td>\n",
       "    </tr>\n",
       "    <tr>\n",
       "      <th>3</th>\n",
       "      <td>4</td>\n",
       "      <td>151.5</td>\n",
       "      <td>41.3</td>\n",
       "      <td>58.5</td>\n",
       "      <td>18.5</td>\n",
       "    </tr>\n",
       "    <tr>\n",
       "      <th>4</th>\n",
       "      <td>5</td>\n",
       "      <td>180.8</td>\n",
       "      <td>10.8</td>\n",
       "      <td>58.4</td>\n",
       "      <td>12.9</td>\n",
       "    </tr>\n",
       "  </tbody>\n",
       "</table>\n",
       "</div>"
      ],
      "text/plain": [
       "   Unnamed: 0     TV  radio  newspaper  sales\n",
       "0           1  230.1   37.8       69.2   22.1\n",
       "1           2   44.5   39.3       45.1   10.4\n",
       "2           3   17.2   45.9       69.3    9.3\n",
       "3           4  151.5   41.3       58.5   18.5\n",
       "4           5  180.8   10.8       58.4   12.9"
      ]
     },
     "execution_count": 4,
     "metadata": {},
     "output_type": "execute_result"
    }
   ],
   "source": [
    "data.head() # Check the top 5 rows"
   ]
  },
  {
   "cell_type": "markdown",
   "id": "e276e0d0",
   "metadata": {},
   "source": [
    "Features\n",
    "\n",
    "a) TV\n",
    "b) Radio\n",
    "c) Newspaper\n",
    "\n",
    "Benefits\n",
    "\n",
    "a) Sales"
   ]
  },
  {
   "cell_type": "code",
   "execution_count": 5,
   "id": "02f134e5",
   "metadata": {},
   "outputs": [
    {
     "data": {
      "text/plain": [
       "(200, 5)"
      ]
     },
     "execution_count": 5,
     "metadata": {},
     "output_type": "execute_result"
    }
   ],
   "source": [
    "data.shape"
   ]
  },
  {
   "cell_type": "code",
   "execution_count": 6,
   "id": "bfaf5c1f",
   "metadata": {},
   "outputs": [
    {
     "name": "stdout",
     "output_type": "stream",
     "text": [
      "<class 'pandas.core.frame.DataFrame'>\n",
      "RangeIndex: 200 entries, 0 to 199\n",
      "Data columns (total 5 columns):\n",
      " #   Column      Non-Null Count  Dtype  \n",
      "---  ------      --------------  -----  \n",
      " 0   Unnamed: 0  200 non-null    int64  \n",
      " 1   TV          200 non-null    float64\n",
      " 2   radio       200 non-null    float64\n",
      " 3   newspaper   200 non-null    float64\n",
      " 4   sales       200 non-null    float64\n",
      "dtypes: float64(4), int64(1)\n",
      "memory usage: 7.9 KB\n"
     ]
    }
   ],
   "source": [
    "data.info() #printing the summary of dataframe"
   ]
  },
  {
   "cell_type": "code",
   "execution_count": 7,
   "id": "db5568ca",
   "metadata": {},
   "outputs": [
    {
     "data": {
      "text/plain": [
       "Unnamed: 0    0\n",
       "TV            0\n",
       "radio         0\n",
       "newspaper     0\n",
       "sales         0\n",
       "dtype: int64"
      ]
     },
     "execution_count": 7,
     "metadata": {},
     "output_type": "execute_result"
    }
   ],
   "source": [
    "data.isna().sum() #finding the count of missing values from different columns"
   ]
  },
  {
   "cell_type": "markdown",
   "id": "3ec420f6",
   "metadata": {},
   "source": [
    "Now lets schowcase the relationship between features and target column"
   ]
  },
  {
   "cell_type": "code",
   "execution_count": 8,
   "id": "69b8d06a",
   "metadata": {},
   "outputs": [
    {
     "data": {
      "image/png": "[encoded data removed]",
      "text/plain": [
       "<Figure size 1200x600 with 3 Axes>"
      ]
     },
     "metadata": {},
     "output_type": "display_data"
    }
   ],
   "source": [
    "#visualize the relationship between the feature and target using scatterplots\n",
    "\n",
    "fig,axs = plt.subplots(1,3)\n",
    "\n",
    "data.plot(kind='scatter', x='TV', y='sales', ax=axs[0], figsize=(12,6))\n",
    "data.plot(kind='scatter', x='radio', y='sales', ax=axs[1])\n",
    "data.plot(kind='scatter', x='newspaper', y='sales', ax=axs[2])\n",
    "fig.savefig('testdata.jpg')"
   ]
  },
  {
   "cell_type": "markdown",
   "id": "d6c9f265",
   "metadata": {},
   "source": [
    "Simple Linear Regression is the method for predicting a quantitative response using a single feature (\"Input variable\")\n",
    "\n",
    "y=mx+c\n",
    "\n",
    "y is the response of target variable\n",
    "x is the feature\n",
    "m is the coefficient/slope of x\n",
    "c is the intercept"
   ]
  },
  {
   "cell_type": "markdown",
   "id": "f67fd4d3",
   "metadata": {},
   "source": [
    "Mathematical residual is Actual - Prediction in normal terms\n",
    "\n",
    "r = y - (mx+c)\n",
    "\n",
    "Residual for one point is r1 = y1 -(mx1 + b)\n",
    "\n",
    "Sum of Residuals = Sum(n where i=total count)r1 =Sum(n where i=total count)y1 - (mx1 + b)\n",
    "\n",
    "Sum of square of residuals = Sum(n where i=total count)(r1)*2 =Sum(n where i=total count)(y1 - (mx1 + b))*2"
   ]
  },
  {
   "cell_type": "markdown",
   "id": "b9851221",
   "metadata": {},
   "source": [
    "\"Global Minima is called Zero error\""
   ]
  },
  {
   "cell_type": "markdown",
   "id": "cb0e0dd7",
   "metadata": {},
   "source": [
    "Gradient Descent is when the difference between Actual and prediction reduces looking at the pattern"
   ]
  },
  {
   "cell_type": "code",
   "execution_count": 9,
   "id": "8d1ebb38",
   "metadata": {},
   "outputs": [
    {
     "data": {
      "text/html": [
       "<style>#sk-container-id-1 {color: black;background-color: white;}#sk-container-id-1 pre{padding: 0;}#sk-container-id-1 div.sk-toggleable {background-color: white;}#sk-container-id-1 label.sk-toggleable__label {cursor: pointer;display: block;width: 100%;margin-bottom: 0;padding: 0.3em;box-sizing: border-box;text-align: center;}#sk-container-id-1 label.sk-toggleable__label-arrow:before {content: \"▸\";float: left;margin-right: 0.25em;color: #696969;}#sk-container-id-1 label.sk-toggleable__label-arrow:hover:before {color: black;}#sk-container-id-1 div.sk-estimator:hover label.sk-toggleable__label-arrow:before {color: black;}#sk-container-id-1 div.sk-toggleable__content {max-height: 0;max-width: 0;overflow: hidden;text-align: left;background-color: #f0f8ff;}#sk-container-id-1 div.sk-toggleable__content pre {margin: 0.2em;color: black;border-radius: 0.25em;background-color: #f0f8ff;}#sk-container-id-1 input.sk-toggleable__control:checked~div.sk-toggleable__content {max-height: 200px;max-width: 100%;overflow: auto;}#sk-container-id-1 input.sk-toggleable__control:checked~label.sk-toggleable__label-arrow:before {content: \"▾\";}#sk-container-id-1 div.sk-estimator input.sk-toggleable__control:checked~label.sk-toggleable__label {background-color: #d4ebff;}#sk-container-id-1 div.sk-label input.sk-toggleable__control:checked~label.sk-toggleable__label {background-color: #d4ebff;}#sk-container-id-1 input.sk-hidden--visually {border: 0;clip: rect(1px 1px 1px 1px);clip: rect(1px, 1px, 1px, 1px);height: 1px;margin: -1px;overflow: hidden;padding: 0;position: absolute;width: 1px;}#sk-container-id-1 div.sk-estimator {font-family: monospace;background-color: #f0f8ff;border: 1px dotted black;border-radius: 0.25em;box-sizing: border-box;margin-bottom: 0.5em;}#sk-container-id-1 div.sk-estimator:hover {background-color: #d4ebff;}#sk-container-id-1 div.sk-parallel-item::after {content: \"\";width: 100%;border-bottom: 1px solid gray;flex-grow: 1;}#sk-container-id-1 div.sk-label:hover label.sk-toggleable__label {background-color: #d4ebff;}#sk-container-id-1 div.sk-serial::before {content: \"\";position: absolute;border-left: 1px solid gray;box-sizing: border-box;top: 0;bottom: 0;left: 50%;z-index: 0;}#sk-container-id-1 div.sk-serial {display: flex;flex-direction: column;align-items: center;background-color: white;padding-right: 0.2em;padding-left: 0.2em;position: relative;}#sk-container-id-1 div.sk-item {position: relative;z-index: 1;}#sk-container-id-1 div.sk-parallel {display: flex;align-items: stretch;justify-content: center;background-color: white;position: relative;}#sk-container-id-1 div.sk-item::before, #sk-container-id-1 div.sk-parallel-item::before {content: \"\";position: absolute;border-left: 1px solid gray;box-sizing: border-box;top: 0;bottom: 0;left: 50%;z-index: -1;}#sk-container-id-1 div.sk-parallel-item {display: flex;flex-direction: column;z-index: 1;position: relative;background-color: white;}#sk-container-id-1 div.sk-parallel-item:first-child::after {align-self: flex-end;width: 50%;}#sk-container-id-1 div.sk-parallel-item:last-child::after {align-self: flex-start;width: 50%;}#sk-container-id-1 div.sk-parallel-item:only-child::after {width: 0;}#sk-container-id-1 div.sk-dashed-wrapped {border: 1px dashed gray;margin: 0 0.4em 0.5em 0.4em;box-sizing: border-box;padding-bottom: 0.4em;background-color: white;}#sk-container-id-1 div.sk-label label {font-family: monospace;font-weight: bold;display: inline-block;line-height: 1.2em;}#sk-container-id-1 div.sk-label-container {text-align: center;}#sk-container-id-1 div.sk-container {/* jupyter's `normalize.less` sets `[hidden] { display: none; }` but bootstrap.min.css set `[hidden] { display: none !important; }` so we also need the `!important` here to be able to override the default hidden behavior on the sphinx rendered scikit-learn.org. See: https://github.com/scikit-learn/scikit-learn/issues/21755 */display: inline-block !important;position: relative;}#sk-container-id-1 div.sk-text-repr-fallback {display: none;}</style><div id=\"sk-container-id-1\" class=\"sk-top-container\"><div class=\"sk-text-repr-fallback\"><pre>LinearRegression()</pre><b>In a Jupyter environment, please rerun this cell to show the HTML representation or trust the notebook. <br />On GitHub, the HTML representation is unable to render, please try loading this page with nbviewer.org.</b></div><div class=\"sk-container\" hidden><div class=\"sk-item\"><div class=\"sk-estimator sk-toggleable\"><input class=\"sk-toggleable__control sk-hidden--visually\" id=\"sk-estimator-id-1\" type=\"checkbox\" checked><label for=\"sk-estimator-id-1\" class=\"sk-toggleable__label sk-toggleable__label-arrow\">LinearRegression</label><div class=\"sk-toggleable__content\"><pre>LinearRegression()</pre></div></div></div></div></div>"
      ],
      "text/plain": [
       "LinearRegression()"
      ]
     },
     "execution_count": 9,
     "metadata": {},
     "output_type": "execute_result"
    }
   ],
   "source": [
    "#create x=feature and y=label\n",
    "\n",
    "x = data[['TV']]\n",
    "y = data.sales\n",
    "\n",
    "#follow the ususal sklearn pattern import, instantiate, fit\n",
    "\n",
    "from sklearn.linear_model import LinearRegression\n",
    "\n",
    "lm = LinearRegression()\n",
    "\n",
    "lm.fit(x,y)  #Model Training"
   ]
  },
  {
   "cell_type": "code",
   "execution_count": 10,
   "id": "3997cd13",
   "metadata": {},
   "outputs": [
    {
     "name": "stdout",
     "output_type": "stream",
     "text": [
      "7.032593549127693\n",
      "[0.04753664]\n"
     ]
    }
   ],
   "source": [
    "#print intercept and coefficients\n",
    "print(lm.intercept_)\n",
    "print(lm.coef_)"
   ]
  },
  {
   "cell_type": "raw",
   "id": "ea3e4c5e",
   "metadata": {},
   "source": [
    "Prediction using the model\n",
    "\n",
    "if the expense on TV ad is $50000, what will be the sales prediction for that market"
   ]
  },
  {
   "cell_type": "code",
   "execution_count": 12,
   "id": "e610d090",
   "metadata": {},
   "outputs": [
    {
     "data": {
      "text/plain": [
       "9.409444"
      ]
     },
     "execution_count": 12,
     "metadata": {},
     "output_type": "execute_result"
    }
   ],
   "source": [
    "#Calculate the prediction\n",
    "7.032594+0.047537*50"
   ]
  },
  {
   "cell_type": "code",
   "execution_count": null,
   "id": "cc39fa31",
   "metadata": {},
   "outputs": [],
   "source": [
    "#Predict sales would be 9.409. Lets run the model"
   ]
  },
  {
   "cell_type": "code",
   "execution_count": 13,
   "id": "a5d47241",
   "metadata": {},
   "outputs": [
    {
     "name": "stderr",
     "output_type": "stream",
     "text": [
      "C:\\Users\\ursheshu.upadhyay\\AppData\\Local\\anaconda3\\lib\\site-packages\\sklearn\\base.py:420: UserWarning: X does not have valid feature names, but LinearRegression was fitted with feature names\n",
      "  warnings.warn(\n"
     ]
    },
    {
     "data": {
      "text/plain": [
       "array([9.40942557])"
      ]
     },
     "execution_count": 13,
     "metadata": {},
     "output_type": "execute_result"
    }
   ],
   "source": [
    "lm.predict([[50]])"
   ]
  },
  {
   "cell_type": "markdown",
   "id": "4302e883",
   "metadata": {},
   "source": [
    "Model Confidence\n",
    "\n",
    "R2 Statistics = 1 - RSS/TSS\n",
    "\n",
    "RSS = Actual - Prediction\n",
    "TSS = Actual - Mean"
   ]
  },
  {
   "cell_type": "code",
   "execution_count": 14,
   "id": "7ce68638",
   "metadata": {},
   "outputs": [],
   "source": [
    "from sklearn.metrics import r2_score"
   ]
  },
  {
   "cell_type": "code",
   "execution_count": 15,
   "id": "ba656f18",
   "metadata": {},
   "outputs": [],
   "source": [
    "#Pass all TV records and predict sales\n",
    "predicted_sales = lm.predict(x)"
   ]
  },
  {
   "cell_type": "code",
   "execution_count": 16,
   "id": "3fbde9ec",
   "metadata": {},
   "outputs": [
    {
     "data": {
      "text/html": [
       "<div>\n",
       "<style scoped>\n",
       "    .dataframe tbody tr th:only-of-type {\n",
       "        vertical-align: middle;\n",
       "    }\n",
       "\n",
       "    .dataframe tbody tr th {\n",
       "        vertical-align: top;\n",
       "    }\n",
       "\n",
       "    .dataframe thead th {\n",
       "        text-align: right;\n",
       "    }\n",
       "</style>\n",
       "<table border=\"1\" class=\"dataframe\">\n",
       "  <thead>\n",
       "    <tr style=\"text-align: right;\">\n",
       "      <th></th>\n",
       "      <th>TV</th>\n",
       "    </tr>\n",
       "  </thead>\n",
       "  <tbody>\n",
       "    <tr>\n",
       "      <th>0</th>\n",
       "      <td>230.1</td>\n",
       "    </tr>\n",
       "    <tr>\n",
       "      <th>1</th>\n",
       "      <td>44.5</td>\n",
       "    </tr>\n",
       "    <tr>\n",
       "      <th>2</th>\n",
       "      <td>17.2</td>\n",
       "    </tr>\n",
       "    <tr>\n",
       "      <th>3</th>\n",
       "      <td>151.5</td>\n",
       "    </tr>\n",
       "    <tr>\n",
       "      <th>4</th>\n",
       "      <td>180.8</td>\n",
       "    </tr>\n",
       "  </tbody>\n",
       "</table>\n",
       "</div>"
      ],
      "text/plain": [
       "      TV\n",
       "0  230.1\n",
       "1   44.5\n",
       "2   17.2\n",
       "3  151.5\n",
       "4  180.8"
      ]
     },
     "execution_count": 16,
     "metadata": {},
     "output_type": "execute_result"
    }
   ],
   "source": [
    "x.head()"
   ]
  },
  {
   "cell_type": "code",
   "execution_count": 20,
   "id": "93e0b75e",
   "metadata": {},
   "outputs": [
    {
     "data": {
      "text/plain": [
       "array([17.97077451,  9.14797405,  7.85022376, 14.23439457, 15.62721814,\n",
       "        7.44616232,  9.76595037, 12.74649773,  7.44140866, 16.53041431,\n",
       "       10.17476548, 17.23871025,  8.16396559, 11.66741599, 16.73482186,\n",
       "       16.32125309, 10.25557777, 20.40940417, 10.32212907, 14.03474068,\n",
       "       17.41459582, 18.31779199,  7.6600772 , 17.88520856,  9.99412625,\n",
       "       19.52997632, 13.82557947, 18.44614092, 18.85970969, 10.38868036,\n",
       "       20.95607553, 12.39948025, 11.653155  , 19.65832525, 11.58185004,\n",
       "       20.85149492, 19.72012288, 10.58358059,  9.08142275, 17.87094757,\n",
       "       16.65876324, 15.44657891, 20.98935118, 16.86792445,  8.22576322,\n",
       "       15.35625929, 11.2966302 , 18.43663359, 17.83291826, 10.21279479,\n",
       "       16.53041431, 11.80527225, 17.31952254, 15.71278409, 19.52046899,\n",
       "       16.48763133,  7.37961102, 13.50708398, 17.05331735, 17.04856369,\n",
       "        9.57580381, 19.45391769, 18.4081116 , 11.91460652, 13.26464711,\n",
       "       10.31262174,  8.52999772, 13.65444756, 18.31779199, 17.3385372 ,\n",
       "       16.49713866, 12.25211667,  8.30657551, 13.18383482, 17.17691262,\n",
       "        7.83596277,  8.33985116, 12.76075872,  7.28929141, 12.54684384,\n",
       "       10.66439288, 18.43187992, 10.61210257, 10.28409975, 17.18166628,\n",
       "       16.21667248, 10.65963921, 12.29489965, 11.2300789 , 12.25211667,\n",
       "       13.41676436,  8.39214147, 17.38132017, 18.95953663, 12.13802873,\n",
       "       14.79532693, 16.4258337 , 15.82211837, 20.80395828, 13.45954734,\n",
       "       17.60474238, 21.12245377, 20.3523602 , 15.96472829, 18.3558213 ,\n",
       "       13.58789626,  8.22100956, 11.32990584,  7.65532354, 19.17345152,\n",
       "       17.76636696, 18.52219954, 15.38478127, 16.99627338, 10.74995883,\n",
       "       10.60259525, 13.6496939 , 10.66439288, 13.00794925,  7.95480437,\n",
       "       13.74952084,  7.92628239, 17.68080101, 12.88435399, 17.94225253,\n",
       "       11.17778859,  7.40337934, 10.84503211, 17.50491544,  9.86577732,\n",
       "        7.0658692 , 19.63931059,  7.43190133, 17.48114712,  8.78669558,\n",
       "        9.32861328,  8.24953154, 20.04337204,  9.07666909, 15.82211837,\n",
       "       10.52178296, 16.2404408 , 17.51442276, 12.00492614, 11.60561836,\n",
       "       13.7019842 , 18.44614092, 18.5935045 ,  8.83898589,  9.15748138,\n",
       "       20.37612852, 12.78452704, 16.4258337 , 15.17562006, 15.95997462,\n",
       "        7.22749377, 11.49628409, 14.15358229,  7.58877224, 13.29316909,\n",
       "       15.23266402, 11.10648363, 15.98849661, 14.80483426, 12.60388781,\n",
       "       18.17993573,  7.88349941, 16.86317079, 17.2719859 , 20.54726042,\n",
       "        9.40942557, 14.8523709 ,  7.9643117 , 15.0377638 , 17.60474238,\n",
       "       20.19548929, 18.84069503, 15.12332975, 20.18598196, 14.9046612 ,\n",
       "       14.47683144, 17.41934948,  9.70415274, 20.70413134, 19.09739289,\n",
       "       16.77760484, 13.66395489, 16.11684554, 20.62807271,  7.92152873,\n",
       "        8.91029085, 10.6216099 ,  7.85022376, 14.96170517, 14.14882862,\n",
       "        8.84849321, 11.51054508, 15.44657891, 20.51398478, 18.06584779])"
      ]
     },
     "execution_count": 20,
     "metadata": {},
     "output_type": "execute_result"
    }
   ],
   "source": [
    "predicted_sales"
   ]
  },
  {
   "cell_type": "code",
   "execution_count": 22,
   "id": "556123f8",
   "metadata": {},
   "outputs": [
    {
     "data": {
      "text/plain": [
       "0.611875050850071"
      ]
     },
     "execution_count": 22,
     "metadata": {},
     "output_type": "execute_result"
    }
   ],
   "source": [
    "#Lets compare original sales numbers with our model predicted sales\n",
    "r2_score(y_true=y, y_pred=predicted_sales)"
   ]
  },
  {
   "cell_type": "markdown",
   "id": "508ae539",
   "metadata": {},
   "source": [
    "Adjusted R2 Statistics\n",
    "\n",
    "1 - (1-R*2)(N-1)/N-P-1\n",
    "\n",
    "where \n",
    "R2 - Sample Rsquare\n",
    "P - Number of Predictors\n",
    "N - Total sample size"
   ]
  },
  {
   "cell_type": "markdown",
   "id": "5db1876d",
   "metadata": {},
   "source": [
    "Multiple Linear Regression"
   ]
  },
  {
   "cell_type": "code",
   "execution_count": 27,
   "id": "72c124ff",
   "metadata": {},
   "outputs": [
    {
     "name": "stdout",
     "output_type": "stream",
     "text": [
      "Intercept: -  2.9388893694594085\n",
      "TV:  0.045764645455397615\n",
      "Radio:  0.18853001691820456\n",
      "newspaper:  -0.0010374930424763272\n"
     ]
    }
   ],
   "source": [
    "#Create x and y\n",
    "x = data[['TV','radio','newspaper']]\n",
    "y = data.sales\n",
    "\n",
    "lm = LinearRegression()\n",
    "lm.fit(x,y)\n",
    "\n",
    "#print intercept and coefficients\n",
    "print('Intercept: - ',lm.intercept_)\n",
    "print('TV: ', lm.coef_[0])\n",
    "print('Radio: ', lm.coef_[1])\n",
    "print('newspaper: ', lm.coef_[2])"
   ]
  },
  {
   "cell_type": "code",
   "execution_count": 28,
   "id": "cc4addfd",
   "metadata": {},
   "outputs": [],
   "source": [
    "#Preparing data with two features to show the impact on R2 SCore\n",
    "x = data[['TV','radio']]\n",
    "y = data.sales"
   ]
  },
  {
   "cell_type": "code",
   "execution_count": 29,
   "id": "5eabc353",
   "metadata": {},
   "outputs": [
    {
     "data": {
      "text/html": [
       "<style>#sk-container-id-2 {color: black;background-color: white;}#sk-container-id-2 pre{padding: 0;}#sk-container-id-2 div.sk-toggleable {background-color: white;}#sk-container-id-2 label.sk-toggleable__label {cursor: pointer;display: block;width: 100%;margin-bottom: 0;padding: 0.3em;box-sizing: border-box;text-align: center;}#sk-container-id-2 label.sk-toggleable__label-arrow:before {content: \"▸\";float: left;margin-right: 0.25em;color: #696969;}#sk-container-id-2 label.sk-toggleable__label-arrow:hover:before {color: black;}#sk-container-id-2 div.sk-estimator:hover label.sk-toggleable__label-arrow:before {color: black;}#sk-container-id-2 div.sk-toggleable__content {max-height: 0;max-width: 0;overflow: hidden;text-align: left;background-color: #f0f8ff;}#sk-container-id-2 div.sk-toggleable__content pre {margin: 0.2em;color: black;border-radius: 0.25em;background-color: #f0f8ff;}#sk-container-id-2 input.sk-toggleable__control:checked~div.sk-toggleable__content {max-height: 200px;max-width: 100%;overflow: auto;}#sk-container-id-2 input.sk-toggleable__control:checked~label.sk-toggleable__label-arrow:before {content: \"▾\";}#sk-container-id-2 div.sk-estimator input.sk-toggleable__control:checked~label.sk-toggleable__label {background-color: #d4ebff;}#sk-container-id-2 div.sk-label input.sk-toggleable__control:checked~label.sk-toggleable__label {background-color: #d4ebff;}#sk-container-id-2 input.sk-hidden--visually {border: 0;clip: rect(1px 1px 1px 1px);clip: rect(1px, 1px, 1px, 1px);height: 1px;margin: -1px;overflow: hidden;padding: 0;position: absolute;width: 1px;}#sk-container-id-2 div.sk-estimator {font-family: monospace;background-color: #f0f8ff;border: 1px dotted black;border-radius: 0.25em;box-sizing: border-box;margin-bottom: 0.5em;}#sk-container-id-2 div.sk-estimator:hover {background-color: #d4ebff;}#sk-container-id-2 div.sk-parallel-item::after {content: \"\";width: 100%;border-bottom: 1px solid gray;flex-grow: 1;}#sk-container-id-2 div.sk-label:hover label.sk-toggleable__label {background-color: #d4ebff;}#sk-container-id-2 div.sk-serial::before {content: \"\";position: absolute;border-left: 1px solid gray;box-sizing: border-box;top: 0;bottom: 0;left: 50%;z-index: 0;}#sk-container-id-2 div.sk-serial {display: flex;flex-direction: column;align-items: center;background-color: white;padding-right: 0.2em;padding-left: 0.2em;position: relative;}#sk-container-id-2 div.sk-item {position: relative;z-index: 1;}#sk-container-id-2 div.sk-parallel {display: flex;align-items: stretch;justify-content: center;background-color: white;position: relative;}#sk-container-id-2 div.sk-item::before, #sk-container-id-2 div.sk-parallel-item::before {content: \"\";position: absolute;border-left: 1px solid gray;box-sizing: border-box;top: 0;bottom: 0;left: 50%;z-index: -1;}#sk-container-id-2 div.sk-parallel-item {display: flex;flex-direction: column;z-index: 1;position: relative;background-color: white;}#sk-container-id-2 div.sk-parallel-item:first-child::after {align-self: flex-end;width: 50%;}#sk-container-id-2 div.sk-parallel-item:last-child::after {align-self: flex-start;width: 50%;}#sk-container-id-2 div.sk-parallel-item:only-child::after {width: 0;}#sk-container-id-2 div.sk-dashed-wrapped {border: 1px dashed gray;margin: 0 0.4em 0.5em 0.4em;box-sizing: border-box;padding-bottom: 0.4em;background-color: white;}#sk-container-id-2 div.sk-label label {font-family: monospace;font-weight: bold;display: inline-block;line-height: 1.2em;}#sk-container-id-2 div.sk-label-container {text-align: center;}#sk-container-id-2 div.sk-container {/* jupyter's `normalize.less` sets `[hidden] { display: none; }` but bootstrap.min.css set `[hidden] { display: none !important; }` so we also need the `!important` here to be able to override the default hidden behavior on the sphinx rendered scikit-learn.org. See: https://github.com/scikit-learn/scikit-learn/issues/21755 */display: inline-block !important;position: relative;}#sk-container-id-2 div.sk-text-repr-fallback {display: none;}</style><div id=\"sk-container-id-2\" class=\"sk-top-container\"><div class=\"sk-text-repr-fallback\"><pre>LinearRegression()</pre><b>In a Jupyter environment, please rerun this cell to show the HTML representation or trust the notebook. <br />On GitHub, the HTML representation is unable to render, please try loading this page with nbviewer.org.</b></div><div class=\"sk-container\" hidden><div class=\"sk-item\"><div class=\"sk-estimator sk-toggleable\"><input class=\"sk-toggleable__control sk-hidden--visually\" id=\"sk-estimator-id-2\" type=\"checkbox\" checked><label for=\"sk-estimator-id-2\" class=\"sk-toggleable__label sk-toggleable__label-arrow\">LinearRegression</label><div class=\"sk-toggleable__content\"><pre>LinearRegression()</pre></div></div></div></div></div>"
      ],
      "text/plain": [
       "LinearRegression()"
      ]
     },
     "execution_count": 29,
     "metadata": {},
     "output_type": "execute_result"
    }
   ],
   "source": [
    "#Lets feed the features and label and train the model\n",
    "lm.fit(x,y)"
   ]
  },
  {
   "cell_type": "code",
   "execution_count": 30,
   "id": "d3f5e9a7",
   "metadata": {},
   "outputs": [
    {
     "data": {
      "text/plain": [
       "0.8971942610828956"
      ]
     },
     "execution_count": 30,
     "metadata": {},
     "output_type": "execute_result"
    }
   ],
   "source": [
    "#Check the R2\n",
    "predicted_sales = lm.predict(x)\n",
    "r2_score(y,predicted_sales)"
   ]
  },
  {
   "cell_type": "code",
   "execution_count": 31,
   "id": "25b85ad7",
   "metadata": {},
   "outputs": [
    {
     "data": {
      "text/plain": [
       "0.8972106381789522"
      ]
     },
     "execution_count": 31,
     "metadata": {},
     "output_type": "execute_result"
    }
   ],
   "source": [
    "#Preparing data with all features to show the impact on R2 SCore\n",
    "x = data[['TV','radio', 'newspaper']]\n",
    "y = data.sales\n",
    "\n",
    "lm.fit(x,y)  #model training\n",
    "\n",
    "#Check the R2\n",
    "predicted_sales = lm.predict(x)\n",
    "r2_score(y,predicted_sales)"
   ]
  },
  {
   "cell_type": "code",
   "execution_count": null,
   "id": "486a7ab1",
   "metadata": {},
   "outputs": [],
   "source": []
  }
 ],
 "metadata": {
  "kernelspec": {
   "display_name": "Python 3 (ipykernel)",
   "language": "python",
   "name": "python3"
  },
  "language_info": {
   "codemirror_mode": {
    "name": "ipython",
    "version": 3
   },
   "file_extension": ".py",
   "mimetype": "text/x-python",
   "name": "python",
   "nbconvert_exporter": "python",
   "pygments_lexer": "ipython3",
   "version": "3.10.9"
  }
 },
 "nbformat": 4,
 "nbformat_minor": 5
}
