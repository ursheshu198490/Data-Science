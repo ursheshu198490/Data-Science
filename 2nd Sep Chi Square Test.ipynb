{
 "cells": [
  {
   "cell_type": "raw",
   "id": "0d1dbb91",
   "metadata": {},
   "source": [
    "This test most of the time used for:\n",
    "\n",
    "a) Goodness of fit to a distribution: The Chi-square test can be used to determine whether your data obeys a known thereoetical probability such as Normal or Poisson Distribution\n",
    "\n",
    "Example - How much sales can we expect this week (lets say pizza business). According to salesman below are the details.\n",
    "\n",
    "Expected sales in thousands ....... [25, 28, 21, 30, 45, 58, 57]\n",
    "Actual sales in thousands ........ [23, 26, 25, 31, 48, 63, 50] \n",
    "\n",
    "Lets understand how to work on this situation.\n",
    "\n",
    "We will do this hypothesis testing with a significance of 10%(0.1). (This will be given or you can test according to business interest)\n",
    "\n",
    "(Chi-Square Statistic)(X)2 = Sum[(Observed - Expected)2/Expected]\n"
   ]
  },
  {
   "cell_type": "code",
   "execution_count": 2,
   "id": "03b9bbbd",
   "metadata": {},
   "outputs": [
    {
     "name": "stdout",
     "output_type": "stream",
     "text": [
      "Our Chi Square Statistic score is => 2.5887788436608763\n"
     ]
    }
   ],
   "source": [
    "import numpy as np\n",
    "\n",
    "#Expected [25, 28, 21, 30, 45, 58, 57]\n",
    "#Observed [23, 26, 25, 31, 48, 63, 50]\n",
    "\n",
    "chi_ind= [np.square(23-25)/25,\n",
    "         np.square(26-28)/28,\n",
    "         np.square(25-21)/21,\n",
    "         np.square(31-30)/30,\n",
    "         np.square(48-45)/45,\n",
    "         np.square(63-58)/58,\n",
    "         np.square(50-57)/57]\n",
    "\n",
    "print ('Our Chi Square Statistic score is =>',np.sum(chi_ind))"
   ]
  },
  {
   "cell_type": "markdown",
   "id": "945c3c2d",
   "metadata": {},
   "source": [
    "Lets check the Chi Square Distribution Table\n",
    "\n",
    "what is the Chi-Square Distribution table\n",
    "\n",
    "The Chi Square Distribution table is a table that shows the critical values of Chi Square Distribution. To use Chi Square Distribution table, you only need to know two values\n",
    "\n",
    "a) Degrees of Freedom - Which means you are allowed to choose/vary the data at certain extent, means freedom is given to vary the data. Example (N-1) where N is total events i.e. (7-1) = 6\n",
    "\n",
    "DF = 6 and significance level = 0.10\n",
    "\n",
    "and test score  = 2.58\n",
    "\n",
    "Lets check the critical score where DF and significance level converge"
   ]
  },
  {
   "cell_type": "markdown",
   "id": "548ee2d9",
   "metadata": {},
   "source": [
    "Conclusion \n",
    "\n",
    "As the critical score in the table is 10.645 greater than our test score (2.58), we cannot reject the null hypothesis which also means that salesman prediction/expectation was correct."
   ]
  }
 ],
 "metadata": {
  "kernelspec": {
   "display_name": "Python 3 (ipykernel)",
   "language": "python",
   "name": "python3"
  },
  "language_info": {
   "codemirror_mode": {
    "name": "ipython",
    "version": 3
   },
   "file_extension": ".py",
   "mimetype": "text/x-python",
   "name": "python",
   "nbconvert_exporter": "python",
   "pygments_lexer": "ipython3",
   "version": "3.10.9"
  }
 },
 "nbformat": 4,
 "nbformat_minor": 5
}
