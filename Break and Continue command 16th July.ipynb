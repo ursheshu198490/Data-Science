{
 "cells": [
  {
   "cell_type": "code",
   "execution_count": null,
   "id": "2d885ed8",
   "metadata": {},
   "outputs": [],
   "source": [
    "Break function"
   ]
  },
  {
   "cell_type": "code",
   "execution_count": 2,
   "id": "225c40fc",
   "metadata": {},
   "outputs": [
    {
     "name": "stdout",
     "output_type": "stream",
     "text": [
      "Bengaluru\n",
      "Noida\n",
      "Delhi\n"
     ]
    }
   ],
   "source": [
    "city = ['Bengaluru', 'Noida', 'Delhi', 'Hyderabad', 'Mumbai']\n",
    "\n",
    "for val in city:\n",
    "    if val == 'Hyderabad':\n",
    "        break\n",
    "    print (val)"
   ]
  },
  {
   "cell_type": "code",
   "execution_count": 3,
   "id": "6fc8fd49",
   "metadata": {},
   "outputs": [
    {
     "name": "stdout",
     "output_type": "stream",
     "text": [
      "2000\n",
      "3800\n",
      "4000\n",
      "4500\n"
     ]
    }
   ],
   "source": [
    "salary = [2000, 3800, 4000, 4500, 5000, 7000, 8000]\n",
    "\n",
    "for val in salary:\n",
    "    if val >4600:\n",
    "        break\n",
    "    print (val)        "
   ]
  },
  {
   "cell_type": "code",
   "execution_count": null,
   "id": "172a65ee",
   "metadata": {},
   "outputs": [],
   "source": [
    "Continue function"
   ]
  },
  {
   "cell_type": "code",
   "execution_count": 4,
   "id": "14a38562",
   "metadata": {},
   "outputs": [
    {
     "name": "stdout",
     "output_type": "stream",
     "text": [
      "Bengaluru\n",
      "Noida\n",
      "Delhi\n",
      "Mumbai\n"
     ]
    }
   ],
   "source": [
    "city = ['Bengaluru', 'Noida', 'Delhi', 'Hyderabad', 'Mumbai']\n",
    "\n",
    "for val in city:\n",
    "    if val == 'Hyderabad':\n",
    "        continue\n",
    "    print (val)"
   ]
  },
  {
   "cell_type": "code",
   "execution_count": 6,
   "id": "9089c332",
   "metadata": {},
   "outputs": [
    {
     "name": "stdout",
     "output_type": "stream",
     "text": [
      "2000\n",
      "4000\n",
      "5000\n",
      "4500\n",
      "3800\n"
     ]
    }
   ],
   "source": [
    "salary = [2000, 4000, 5000, 7000, 8000, 4500, 3800]\n",
    "\n",
    "for val in salary:\n",
    "    if val >5500:\n",
    "        continue\n",
    "    print (val)"
   ]
  },
  {
   "cell_type": "code",
   "execution_count": null,
   "id": "4aecbf9f",
   "metadata": {},
   "outputs": [],
   "source": []
  }
 ],
 "metadata": {
  "kernelspec": {
   "display_name": "Python 3 (ipykernel)",
   "language": "python",
   "name": "python3"
  },
  "language_info": {
   "codemirror_mode": {
    "name": "ipython",
    "version": 3
   },
   "file_extension": ".py",
   "mimetype": "text/x-python",
   "name": "python",
   "nbconvert_exporter": "python",
   "pygments_lexer": "ipython3",
   "version": "3.10.9"
  }
 },
 "nbformat": 4,
 "nbformat_minor": 5
}
