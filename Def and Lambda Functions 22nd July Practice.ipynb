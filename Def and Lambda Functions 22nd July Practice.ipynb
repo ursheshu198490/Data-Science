{
 "cells": [
  {
   "cell_type": "code",
   "execution_count": 2,
   "id": "8d870e24",
   "metadata": {},
   "outputs": [],
   "source": [
    "def used_car_price (car_year, car_brand, kmeters):\n",
    "    if car_year == 2020:\n",
    "        if 10000<kmeters<=15000:\n",
    "            if car_brand == 'Honda Amaze':\n",
    "                print('Rs 690,000 - Rs 750,000')\n",
    "            elif car_brand == \"Hyundai Creta\":\n",
    "                print ('Rs 945000 - Rs 1080000')\n",
    "            else:\n",
    "                print ('No stocks right now, please visit after few days')\n",
    "                \n",
    "        elif 15001<kmeters<=25000:\n",
    "            if car_brand == 'Honda Amaze':\n",
    "                print ('Rs 550,000 - Rs 600,000')\n",
    "                \n",
    "            elif car_brand == 'Hyundai Creta':\n",
    "                print('Rs 845000 - Rs 980000')\n",
    "                \n",
    "            else: \n",
    "                print ('No stocks right now, please visit after few days')\n",
    "                \n",
    "        else:\n",
    "            print ('No Stocks')\n",
    "\n",
    "            \n",
    "    elif car_year == 2021:\n",
    "        if 10000<kmeters<=15000:\n",
    "            if car_brand == 'Honda Amaze':\n",
    "                print ('Rs 750,000 - Rs 1050,000')\n",
    "            elif car_brand == \"Hyundai Creta\":\n",
    "                print ('Rs 1080,000 - Rs 1250,000')\n",
    "            else:\n",
    "                print ('No stocks right now, please visit after few days')\n",
    "        else: \n",
    "            print ('No stocks right now, please visit after few days')\n",
    "    else:\n",
    "        print ('Sorry we dont keep cars older than 2020')\n",
    "            \n",
    "    "
   ]
  },
  {
   "cell_type": "code",
   "execution_count": 3,
   "id": "5fc67a76",
   "metadata": {},
   "outputs": [
    {
     "name": "stdout",
     "output_type": "stream",
     "text": [
      "Rs 690,000 - Rs 750,000\n"
     ]
    }
   ],
   "source": [
    "used_car_price (2020,'Honda Amaze',12000)"
   ]
  },
  {
   "cell_type": "code",
   "execution_count": null,
   "id": "607d7070",
   "metadata": {},
   "outputs": [],
   "source": [
    "Lambda Function"
   ]
  },
  {
   "cell_type": "code",
   "execution_count": null,
   "id": "7b6cc1e7",
   "metadata": {},
   "outputs": [],
   "source": [
    "lambda arguments : expression"
   ]
  },
  {
   "cell_type": "code",
   "execution_count": 4,
   "id": "488e4ff9",
   "metadata": {},
   "outputs": [
    {
     "name": "stdout",
     "output_type": "stream",
     "text": [
      "80\n"
     ]
    }
   ],
   "source": [
    "add_num = lambda y: y+30\n",
    "\n",
    "print (add_num(50))"
   ]
  },
  {
   "cell_type": "code",
   "execution_count": 5,
   "id": "eda22e00",
   "metadata": {},
   "outputs": [
    {
     "name": "stdout",
     "output_type": "stream",
     "text": [
      "300\n"
     ]
    }
   ],
   "source": [
    "multi_num = lambda a,b : a*b\n",
    "\n",
    "print (multi_num(15,20))"
   ]
  },
  {
   "cell_type": "code",
   "execution_count": 6,
   "id": "35dc3536",
   "metadata": {},
   "outputs": [],
   "source": [
    "def my_fun (*args):\n",
    "    for i in args:\n",
    "        print ('my args: -', i)"
   ]
  },
  {
   "cell_type": "code",
   "execution_count": 7,
   "id": "3f5e2b23",
   "metadata": {},
   "outputs": [
    {
     "name": "stdout",
     "output_type": "stream",
     "text": [
      "my args: - India\n",
      "my args: - Bengaluru\n",
      "my args: - 560048\n"
     ]
    }
   ],
   "source": [
    "my_fun ('India', 'Bengaluru', 560048)"
   ]
  },
  {
   "cell_type": "code",
   "execution_count": 18,
   "id": "ac5f58e7",
   "metadata": {},
   "outputs": [],
   "source": [
    "def my_kwargs (**kwargs):\n",
    "    for key, value in kwargs.items():\n",
    "        \n",
    "        print (key,'=', value)"
   ]
  },
  {
   "cell_type": "code",
   "execution_count": 19,
   "id": "c94dfd48",
   "metadata": {},
   "outputs": [
    {
     "name": "stdout",
     "output_type": "stream",
     "text": [
      "Students = ['Ram', 'Shiva']\n",
      "Marks = [70, 75]\n"
     ]
    }
   ],
   "source": [
    "my_kwargs(Students = ['Ram', 'Shiva'], Marks = [70,75])"
   ]
  },
  {
   "cell_type": "code",
   "execution_count": null,
   "id": "00968677",
   "metadata": {},
   "outputs": [],
   "source": []
  }
 ],
 "metadata": {
  "kernelspec": {
   "display_name": "Python 3 (ipykernel)",
   "language": "python",
   "name": "python3"
  },
  "language_info": {
   "codemirror_mode": {
    "name": "ipython",
    "version": 3
   },
   "file_extension": ".py",
   "mimetype": "text/x-python",
   "name": "python",
   "nbconvert_exporter": "python",
   "pygments_lexer": "ipython3",
   "version": "3.10.9"
  }
 },
 "nbformat": 4,
 "nbformat_minor": 5
}
