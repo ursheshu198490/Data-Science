{
 "cells": [
  {
   "cell_type": "code",
   "execution_count": null,
   "id": "2afe022b",
   "metadata": {},
   "outputs": [],
   "source": [
    "String Formatting"
   ]
  },
  {
   "cell_type": "code",
   "execution_count": null,
   "id": "bbea4938",
   "metadata": {},
   "outputs": [],
   "source": [
    "Hackerrank.com==register yourself as a developer\n",
    "python"
   ]
  },
  {
   "cell_type": "code",
   "execution_count": null,
   "id": "2f947597",
   "metadata": {},
   "outputs": [],
   "source": [
    "Old Style Formatting"
   ]
  },
  {
   "cell_type": "code",
   "execution_count": 3,
   "id": "baf0ebbc",
   "metadata": {},
   "outputs": [
    {
     "name": "stdout",
     "output_type": "stream",
     "text": [
      "My name is Rohit and I am 20 years old.\n"
     ]
    }
   ],
   "source": [
    "name=\"John\"\n",
    "age = 30\n",
    "name_2 = \"Rohit\"\n",
    "age_2 = 20\n",
    "formatted_string = \"My name is %s and I am %d years old.\" % (name_2,age_2)\n",
    "print(formatted_string)"
   ]
  },
  {
   "cell_type": "code",
   "execution_count": 4,
   "id": "6cbd7d10",
   "metadata": {},
   "outputs": [],
   "source": [
    "name_3 = \"George\"\n",
    "name_4 = \"Paul\""
   ]
  },
  {
   "cell_type": "code",
   "execution_count": 8,
   "id": "8febd4ac",
   "metadata": {},
   "outputs": [
    {
     "data": {
      "text/plain": [
       "'My first name is George and my last name is Paul'"
      ]
     },
     "execution_count": 8,
     "metadata": {},
     "output_type": "execute_result"
    }
   ],
   "source": [
    "\"My first name is %s and my last name is %s\"%(name_3,name_4)"
   ]
  },
  {
   "cell_type": "code",
   "execution_count": null,
   "id": "c3b25bdb",
   "metadata": {},
   "outputs": [],
   "source": [
    "New Style formatting"
   ]
  },
  {
   "cell_type": "code",
   "execution_count": 9,
   "id": "0d84c001",
   "metadata": {},
   "outputs": [
    {
     "name": "stdout",
     "output_type": "stream",
     "text": [
      "My name is John and I am 30 years old\n"
     ]
    }
   ],
   "source": [
    "name = 'John'\n",
    "age = 30\n",
    "formatted_string = \"My name is {} and I am {} years old\". format(name,age)\n",
    "print(formatted_string)"
   ]
  },
  {
   "cell_type": "code",
   "execution_count": 12,
   "id": "286f37fb",
   "metadata": {},
   "outputs": [],
   "source": [
    "name = 'John'\n",
    "age = 30\n",
    "formatted_string = \"My name is {0} and I am {1} years old. Hi {0}!\". format(name,age)"
   ]
  },
  {
   "cell_type": "code",
   "execution_count": 13,
   "id": "e95712bd",
   "metadata": {},
   "outputs": [
    {
     "name": "stdout",
     "output_type": "stream",
     "text": [
      "My name is John and I am 30 years old. Hi John!\n"
     ]
    }
   ],
   "source": [
    "print(formatted_string)"
   ]
  },
  {
   "cell_type": "code",
   "execution_count": null,
   "id": "89bc4fcc",
   "metadata": {},
   "outputs": [],
   "source": [
    "f-string formatting"
   ]
  },
  {
   "cell_type": "code",
   "execution_count": 14,
   "id": "a47a405e",
   "metadata": {},
   "outputs": [
    {
     "name": "stdout",
     "output_type": "stream",
     "text": [
      "My name is John and i am 30 years old.\n"
     ]
    }
   ],
   "source": [
    "name = 'John'\n",
    "age=30\n",
    "format_string = f\"My name is {name} and i am {age} years old.\"\n",
    "print(format_string)"
   ]
  },
  {
   "cell_type": "code",
   "execution_count": 15,
   "id": "8036aed7",
   "metadata": {},
   "outputs": [
    {
     "name": "stdout",
     "output_type": "stream",
     "text": [
      "My name is John and I am 30 years old.\n"
     ]
    }
   ],
   "source": [
    "print(f\"My name is {name} and I am {age} years old.\")"
   ]
  },
  {
   "cell_type": "code",
   "execution_count": 17,
   "id": "aed79ce2",
   "metadata": {},
   "outputs": [],
   "source": [
    "def sum_all(a,b,c):\n",
    "    add=a+b+c\n",
    "    print(f\"The first number is a:{a}, b: {b} and c: {c} and the sum of numbers is {add}\")"
   ]
  },
  {
   "cell_type": "code",
   "execution_count": 18,
   "id": "ffac8a28",
   "metadata": {},
   "outputs": [
    {
     "name": "stdout",
     "output_type": "stream",
     "text": [
      "The first number is a:2, b: 3 and c: 4 and the sum of numbers is 9\n"
     ]
    }
   ],
   "source": [
    "sum_all(2,3,4)"
   ]
  },
  {
   "cell_type": "code",
   "execution_count": null,
   "id": "59632e42",
   "metadata": {},
   "outputs": [],
   "source": [
    "#OOPS Polymorphism"
   ]
  },
  {
   "cell_type": "code",
   "execution_count": null,
   "id": "d8f65c90",
   "metadata": {},
   "outputs": [],
   "source": [
    "Method Overriding"
   ]
  },
  {
   "cell_type": "code",
   "execution_count": 1,
   "id": "6f879967",
   "metadata": {},
   "outputs": [
    {
     "name": "stdout",
     "output_type": "stream",
     "text": [
      "Meow\n",
      "Woof\n"
     ]
    }
   ],
   "source": [
    "class Animal:\n",
    "    def make_sound(self):\n",
    "        print(\"General animal sound\")\n",
    "        \n",
    "class Dog:\n",
    "    def make_sound(self):\n",
    "        print (\"Woof\")\n",
    "        \n",
    "class Cat:\n",
    "    def make_sound(self):\n",
    "        print (\"Meow\")\n",
    "        \n",
    "cat = Cat()\n",
    "dog = Dog()\n",
    "\n",
    "cat.make_sound()\n",
    "dog.make_sound()"
   ]
  },
  {
   "cell_type": "code",
   "execution_count": 3,
   "id": "1072a8fb",
   "metadata": {},
   "outputs": [],
   "source": [
    "import math\n",
    "\n",
    "class Shape:\n",
    "    def area(self):\n",
    "        print (\"Area cannot be calculated\")\n",
    "        \n",
    "class Circle (Shape):\n",
    "    def __init__(self,radius):\n",
    "        self.radius = radius\n",
    "        \n",
    "    def area(self):\n",
    "        return math.pi * self.radius ** 2\n",
    "    \n",
    "class Rectangle(Shape):\n",
    "    def __init__(self, height,width):\n",
    "        self.height = height\n",
    "        self.width = width\n",
    "        \n",
    "    def area (self):\n",
    "        return self.width * self.height\n",
    "    \n",
    "class Triangle(Shape):\n",
    "    def __init__(self,base,height):\n",
    "        self.base = base\n",
    "        self.height = height\n",
    "        \n",
    "    def area(self):\n",
    "        return 0.5 * self.base * self.height\n",
    "    \n",
    "    \n",
    "        "
   ]
  },
  {
   "cell_type": "code",
   "execution_count": 5,
   "id": "7aea20fd",
   "metadata": {},
   "outputs": [
    {
     "name": "stdout",
     "output_type": "stream",
     "text": [
      "Area: 28.274333882308138\n",
      "Area: 8\n",
      "Area: 6.0\n"
     ]
    }
   ],
   "source": [
    "shapes = [Circle (3), Rectangle (4,2), Triangle (6,2)]\n",
    "\n",
    "for shape in shapes:\n",
    "    print(f\"Area: {shape.area()}\")"
   ]
  },
  {
   "cell_type": "code",
   "execution_count": null,
   "id": "be9fd8c1",
   "metadata": {},
   "outputs": [],
   "source": [
    "Method Overloading"
   ]
  },
  {
   "cell_type": "code",
   "execution_count": 9,
   "id": "b09aa15b",
   "metadata": {},
   "outputs": [],
   "source": [
    "class MathOperations:\n",
    "    def add(self,a,b):\n",
    "        return a+b\n",
    "    \n",
    "    def add(self,a,b,c):\n",
    "        return a + b + c"
   ]
  },
  {
   "cell_type": "code",
   "execution_count": 10,
   "id": "ccc6c052",
   "metadata": {},
   "outputs": [],
   "source": [
    "maths_ops = MathOperations()"
   ]
  },
  {
   "cell_type": "code",
   "execution_count": 11,
   "id": "40916f93",
   "metadata": {},
   "outputs": [
    {
     "data": {
      "text/plain": [
       "<__main__.MathOperations at 0x1292baa1720>"
      ]
     },
     "execution_count": 11,
     "metadata": {},
     "output_type": "execute_result"
    }
   ],
   "source": [
    "maths_ops"
   ]
  },
  {
   "cell_type": "code",
   "execution_count": 13,
   "id": "4b106372",
   "metadata": {},
   "outputs": [
    {
     "ename": "TypeError",
     "evalue": "MathOperations.add() missing 1 required positional argument: 'c'",
     "output_type": "error",
     "traceback": [
      "\u001b[1;31m---------------------------------------------------------------------------\u001b[0m",
      "\u001b[1;31mTypeError\u001b[0m                                 Traceback (most recent call last)",
      "Cell \u001b[1;32mIn[13], line 1\u001b[0m\n\u001b[1;32m----> 1\u001b[0m \u001b[38;5;28mprint\u001b[39m(\u001b[43mmaths_ops\u001b[49m\u001b[38;5;241;43m.\u001b[39;49m\u001b[43madd\u001b[49m\u001b[43m(\u001b[49m\u001b[38;5;241;43m2\u001b[39;49m\u001b[43m,\u001b[49m\u001b[38;5;241;43m3\u001b[39;49m\u001b[43m)\u001b[49m)\n",
      "\u001b[1;31mTypeError\u001b[0m: MathOperations.add() missing 1 required positional argument: 'c'"
     ]
    }
   ],
   "source": [
    "print(maths_ops.add(2,3))"
   ]
  },
  {
   "cell_type": "code",
   "execution_count": 14,
   "id": "3652ab93",
   "metadata": {},
   "outputs": [
    {
     "name": "stdout",
     "output_type": "stream",
     "text": [
      "10\n"
     ]
    }
   ],
   "source": [
    "print(maths_ops.add(2,3,5))"
   ]
  },
  {
   "cell_type": "code",
   "execution_count": null,
   "id": "d8d9f389",
   "metadata": {},
   "outputs": [],
   "source": [
    "Polymorphism with Inbuilt functions"
   ]
  },
  {
   "cell_type": "code",
   "execution_count": 16,
   "id": "0b9bfaae",
   "metadata": {},
   "outputs": [
    {
     "name": "stdout",
     "output_type": "stream",
     "text": [
      "5\n",
      "3\n",
      "2\n"
     ]
    }
   ],
   "source": [
    "print(len('hello'))\n",
    "print(len([1,2,3]))\n",
    "print(len({\"a\":1,\"b\":2}))"
   ]
  },
  {
   "cell_type": "code",
   "execution_count": 17,
   "id": "60232db0",
   "metadata": {},
   "outputs": [
    {
     "data": {
      "text/plain": [
       "'10'"
      ]
     },
     "execution_count": 17,
     "metadata": {},
     "output_type": "execute_result"
    }
   ],
   "source": [
    "str(10)"
   ]
  },
  {
   "cell_type": "code",
   "execution_count": 18,
   "id": "876fb7a6",
   "metadata": {},
   "outputs": [
    {
     "data": {
      "text/plain": [
       "'[1, 2, 3]'"
      ]
     },
     "execution_count": 18,
     "metadata": {},
     "output_type": "execute_result"
    }
   ],
   "source": [
    "str([1,2,3])"
   ]
  },
  {
   "cell_type": "code",
   "execution_count": 19,
   "id": "926007c2",
   "metadata": {},
   "outputs": [
    {
     "data": {
      "text/plain": [
       "\"{'a': 1, 'b': 2}\""
      ]
     },
     "execution_count": 19,
     "metadata": {},
     "output_type": "execute_result"
    }
   ],
   "source": [
    "str({\"a\":1,\"b\":2})"
   ]
  },
  {
   "cell_type": "code",
   "execution_count": null,
   "id": "933d152f",
   "metadata": {},
   "outputs": [],
   "source": [
    "Polymorphism in Data Science"
   ]
  },
  {
   "cell_type": "code",
   "execution_count": 23,
   "id": "e05525e6",
   "metadata": {},
   "outputs": [],
   "source": [
    "result1 = 2 + 3\n",
    "result2 = \"Hello World \" + \"Ursheshu!\"\n",
    "result3 = [1,2,3] + [4,5,6]"
   ]
  },
  {
   "cell_type": "code",
   "execution_count": 24,
   "id": "14d17845",
   "metadata": {},
   "outputs": [
    {
     "name": "stdout",
     "output_type": "stream",
     "text": [
      "5\n",
      "Hello World Ursheshu!\n",
      "[1, 2, 3, 4, 5, 6]\n"
     ]
    }
   ],
   "source": [
    "print(result1)\n",
    "print(result2)\n",
    "print(result3)"
   ]
  },
  {
   "cell_type": "code",
   "execution_count": null,
   "id": "df5bc6b8",
   "metadata": {},
   "outputs": [],
   "source": [
    "Aggregate functions"
   ]
  },
  {
   "cell_type": "code",
   "execution_count": 25,
   "id": "01924448",
   "metadata": {},
   "outputs": [],
   "source": [
    "import numpy as np\n",
    "\n",
    "numbers = [1,2,3,4,5]\n",
    "result1 = sum(numbers)\n",
    "result2 = np.mean(numbers)"
   ]
  },
  {
   "cell_type": "code",
   "execution_count": 26,
   "id": "d21c734e",
   "metadata": {},
   "outputs": [
    {
     "name": "stdout",
     "output_type": "stream",
     "text": [
      "15\n",
      "3.0\n"
     ]
    }
   ],
   "source": [
    "print(result1)\n",
    "print(result2)"
   ]
  },
  {
   "cell_type": "code",
   "execution_count": null,
   "id": "5b682cf1",
   "metadata": {},
   "outputs": [],
   "source": [
    "Handling missing data"
   ]
  },
  {
   "cell_type": "code",
   "execution_count": 28,
   "id": "54a44cf6",
   "metadata": {},
   "outputs": [],
   "source": [
    "import pandas as pd\n",
    "\n",
    "data = {\"A\": [1,2,None,4],\n",
    "        \"B\": [5,None,7,8]}\n",
    "df=pd.DataFrame(data)"
   ]
  },
  {
   "cell_type": "code",
   "execution_count": 29,
   "id": "2440d586",
   "metadata": {},
   "outputs": [
    {
     "data": {
      "text/html": [
       "<div>\n",
       "<style scoped>\n",
       "    .dataframe tbody tr th:only-of-type {\n",
       "        vertical-align: middle;\n",
       "    }\n",
       "\n",
       "    .dataframe tbody tr th {\n",
       "        vertical-align: top;\n",
       "    }\n",
       "\n",
       "    .dataframe thead th {\n",
       "        text-align: right;\n",
       "    }\n",
       "</style>\n",
       "<table border=\"1\" class=\"dataframe\">\n",
       "  <thead>\n",
       "    <tr style=\"text-align: right;\">\n",
       "      <th></th>\n",
       "      <th>A</th>\n",
       "      <th>B</th>\n",
       "    </tr>\n",
       "  </thead>\n",
       "  <tbody>\n",
       "    <tr>\n",
       "      <th>0</th>\n",
       "      <td>1.0</td>\n",
       "      <td>5.0</td>\n",
       "    </tr>\n",
       "    <tr>\n",
       "      <th>1</th>\n",
       "      <td>2.0</td>\n",
       "      <td>NaN</td>\n",
       "    </tr>\n",
       "    <tr>\n",
       "      <th>2</th>\n",
       "      <td>NaN</td>\n",
       "      <td>7.0</td>\n",
       "    </tr>\n",
       "    <tr>\n",
       "      <th>3</th>\n",
       "      <td>4.0</td>\n",
       "      <td>8.0</td>\n",
       "    </tr>\n",
       "  </tbody>\n",
       "</table>\n",
       "</div>"
      ],
      "text/plain": [
       "     A    B\n",
       "0  1.0  5.0\n",
       "1  2.0  NaN\n",
       "2  NaN  7.0\n",
       "3  4.0  8.0"
      ]
     },
     "execution_count": 29,
     "metadata": {},
     "output_type": "execute_result"
    }
   ],
   "source": [
    "df"
   ]
  },
  {
   "cell_type": "code",
   "execution_count": 30,
   "id": "923349eb",
   "metadata": {},
   "outputs": [],
   "source": [
    "result1 = df.mean()\n",
    "result2 = df.sum()"
   ]
  },
  {
   "cell_type": "code",
   "execution_count": 31,
   "id": "a0ed53b8",
   "metadata": {},
   "outputs": [
    {
     "data": {
      "text/plain": [
       "A    2.333333\n",
       "B    6.666667\n",
       "dtype: float64"
      ]
     },
     "execution_count": 31,
     "metadata": {},
     "output_type": "execute_result"
    }
   ],
   "source": [
    "result1"
   ]
  },
  {
   "cell_type": "code",
   "execution_count": 32,
   "id": "48f91336",
   "metadata": {},
   "outputs": [
    {
     "data": {
      "text/plain": [
       "A     7.0\n",
       "B    20.0\n",
       "dtype: float64"
      ]
     },
     "execution_count": 32,
     "metadata": {},
     "output_type": "execute_result"
    }
   ],
   "source": [
    "result2"
   ]
  },
  {
   "cell_type": "code",
   "execution_count": null,
   "id": "21d4bb2d",
   "metadata": {},
   "outputs": [],
   "source": [
    "Function application to columns or rows"
   ]
  },
  {
   "cell_type": "code",
   "execution_count": 35,
   "id": "ebafa89e",
   "metadata": {},
   "outputs": [],
   "source": [
    "data = {'A':[1,2,3,4],\n",
    "        'B':['apple','banana','cherry','date']}\n",
    "\n",
    "df=pd.DataFrame(data)"
   ]
  },
  {
   "cell_type": "code",
   "execution_count": 37,
   "id": "93fd6a94",
   "metadata": {},
   "outputs": [],
   "source": [
    "result1=df['A'].mean()\n",
    "result2=df['B'].str.upper()"
   ]
  },
  {
   "cell_type": "code",
   "execution_count": 38,
   "id": "2d8eb95b",
   "metadata": {},
   "outputs": [
    {
     "data": {
      "text/plain": [
       "2.5"
      ]
     },
     "execution_count": 38,
     "metadata": {},
     "output_type": "execute_result"
    }
   ],
   "source": [
    "result1"
   ]
  },
  {
   "cell_type": "code",
   "execution_count": 39,
   "id": "5ce4c456",
   "metadata": {},
   "outputs": [
    {
     "data": {
      "text/plain": [
       "0     APPLE\n",
       "1    BANANA\n",
       "2    CHERRY\n",
       "3      DATE\n",
       "Name: B, dtype: object"
      ]
     },
     "execution_count": 39,
     "metadata": {},
     "output_type": "execute_result"
    }
   ],
   "source": [
    "result2"
   ]
  },
  {
   "cell_type": "code",
   "execution_count": null,
   "id": "f4d7714b",
   "metadata": {},
   "outputs": [],
   "source": []
  }
 ],
 "metadata": {
  "kernelspec": {
   "display_name": "Python 3 (ipykernel)",
   "language": "python",
   "name": "python3"
  },
  "language_info": {
   "codemirror_mode": {
    "name": "ipython",
    "version": 3
   },
   "file_extension": ".py",
   "mimetype": "text/x-python",
   "name": "python",
   "nbconvert_exporter": "python",
   "pygments_lexer": "ipython3",
   "version": "3.10.9"
  }
 },
 "nbformat": 4,
 "nbformat_minor": 5
}
