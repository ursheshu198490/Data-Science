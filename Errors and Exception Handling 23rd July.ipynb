{
 "cells": [
  {
   "cell_type": "code",
   "execution_count": null,
   "id": "17557188",
   "metadata": {},
   "outputs": [],
   "source": [
    "try and except function"
   ]
  },
  {
   "cell_type": "code",
   "execution_count": 1,
   "id": "128f2538",
   "metadata": {},
   "outputs": [],
   "source": [
    "marks_1 = 88\n",
    "\n",
    "subject = 'Data Science'\n",
    "\n",
    "marks_2 = 33"
   ]
  },
  {
   "cell_type": "code",
   "execution_count": 2,
   "id": "f45c617e",
   "metadata": {},
   "outputs": [
    {
     "ename": "TypeError",
     "evalue": "unsupported operand type(s) for +: 'int' and 'str'",
     "output_type": "error",
     "traceback": [
      "\u001b[1;31m---------------------------------------------------------------------------\u001b[0m",
      "\u001b[1;31mTypeError\u001b[0m                                 Traceback (most recent call last)",
      "Cell \u001b[1;32mIn[2], line 1\u001b[0m\n\u001b[1;32m----> 1\u001b[0m total \u001b[38;5;241m=\u001b[39m \u001b[43mmarks_1\u001b[49m\u001b[43m \u001b[49m\u001b[38;5;241;43m+\u001b[39;49m\u001b[43m \u001b[49m\u001b[43msubject\u001b[49m\n",
      "\u001b[1;31mTypeError\u001b[0m: unsupported operand type(s) for +: 'int' and 'str'"
     ]
    }
   ],
   "source": [
    "total = marks_1 + subject"
   ]
  },
  {
   "cell_type": "code",
   "execution_count": 3,
   "id": "a7bec698",
   "metadata": {},
   "outputs": [
    {
     "name": "stdout",
     "output_type": "stream",
     "text": [
      "You are adding integer to sprint. Make sure both data types are correct\n"
     ]
    }
   ],
   "source": [
    "try:\n",
    "    total = marks_1 + subject\n",
    "    \n",
    "except TypeError:\n",
    "    print('You are adding integer to sprint. Make sure both data types are correct')\n",
    "    \n",
    "else:\n",
    "    print('total_marks =', total)"
   ]
  },
  {
   "cell_type": "code",
   "execution_count": 4,
   "id": "b0850fdd",
   "metadata": {},
   "outputs": [
    {
     "name": "stdout",
     "output_type": "stream",
     "text": [
      "total_marks = 121\n"
     ]
    }
   ],
   "source": [
    "try:\n",
    "    total = marks_1 + marks_2\n",
    "    \n",
    "except TypeError:\n",
    "    print ('You are adding integer to sprint. Make sure both data types are correct')\n",
    "    \n",
    "else:\n",
    "    print ('total_marks =', total)"
   ]
  },
  {
   "cell_type": "code",
   "execution_count": 7,
   "id": "e6283f0c",
   "metadata": {},
   "outputs": [
    {
     "name": "stdout",
     "output_type": "stream",
     "text": [
      "Enter your car numberK1234\n",
      "Enter your car name\n",
      "Enter your mobile number966784321\n",
      "\n",
      " The car name field is required. \n",
      "\n"
     ]
    }
   ],
   "source": [
    "try:\n",
    "    \n",
    "    car_number = input ('Enter your car number')\n",
    "    name = input ('Enter your car name')\n",
    "    mobile = input ('Enter your mobile number')\n",
    "    \n",
    "    if car_number == \"\":\n",
    "        raise Exception ()\n",
    "    elif name == \"\":\n",
    "        raise Exception ()\n",
    "    elif mobile == \"\":\n",
    "        raise Exception ()\n",
    "    else:\n",
    "        pass\n",
    "    \n",
    "except:\n",
    "    \n",
    "    if car_number == \"\":\n",
    "        print ('\\n The registration number field is required. \\n')\n",
    "        \n",
    "    if name == \"\":\n",
    "        print ('\\n The car name field is required. \\n')\n",
    "        \n",
    "    if mobile == \"\":\n",
    "        print ('The mobile number field name is required')\n",
    "        \n",
    "else:\n",
    "    print ('Thanks for all the details')"
   ]
  },
  {
   "cell_type": "code",
   "execution_count": 2,
   "id": "7cbb939d",
   "metadata": {},
   "outputs": [
    {
     "name": "stdout",
     "output_type": "stream",
     "text": [
      "Enter your car numberk12345\n",
      "Enter your car nameHyundai Amaze\n",
      "Enter your mobile number96678234\n",
      "In any case finally block will execute\n"
     ]
    }
   ],
   "source": [
    "try:\n",
    "    \n",
    "    car_number = input ('Enter your car number')\n",
    "    name = input ('Enter your car name')\n",
    "    mobile = input ('Enter your mobile number')\n",
    "    \n",
    "    if car_number == \"\":\n",
    "        raise Exception ()\n",
    "    elif name == \"\":\n",
    "        raise Exception ()\n",
    "    elif mobile == \"\":\n",
    "        raise Exception ()\n",
    "    else:\n",
    "        pass\n",
    "    \n",
    "except:\n",
    "    \n",
    "    if car_number == \"\":\n",
    "        print ('\\n The registration number field is required. \\n')\n",
    "        \n",
    "    if name == \"\":\n",
    "        print ('\\n The car name field is required. \\n')\n",
    "        \n",
    "    if mobile == \"\":\n",
    "        print ('The mobile number field name is required')\n",
    "        \n",
    "finally:\n",
    "    print ('In any case finally block will execute')"
   ]
  },
  {
   "cell_type": "code",
   "execution_count": 2,
   "id": "97c4abbe",
   "metadata": {},
   "outputs": [],
   "source": [
    "def mobile_num():\n",
    "    \n",
    "    try:\n",
    "        val = int(input('Please enter your mobile number'))\n",
    "        \n",
    "    except:\n",
    "        print ('Looks like you did not enter an integer')\n",
    "        \n",
    "    print (val)"
   ]
  },
  {
   "cell_type": "code",
   "execution_count": 3,
   "id": "8efa6db5",
   "metadata": {},
   "outputs": [
    {
     "name": "stdout",
     "output_type": "stream",
     "text": [
      "Please enter your mobile numberShankar\n",
      "Looks like you did not enter an integer\n"
     ]
    },
    {
     "ename": "UnboundLocalError",
     "evalue": "local variable 'val' referenced before assignment",
     "output_type": "error",
     "traceback": [
      "\u001b[1;31m---------------------------------------------------------------------------\u001b[0m",
      "\u001b[1;31mUnboundLocalError\u001b[0m                         Traceback (most recent call last)",
      "Cell \u001b[1;32mIn[3], line 1\u001b[0m\n\u001b[1;32m----> 1\u001b[0m \u001b[43mmobile_num\u001b[49m\u001b[43m \u001b[49m\u001b[43m(\u001b[49m\u001b[43m)\u001b[49m\n",
      "Cell \u001b[1;32mIn[2], line 9\u001b[0m, in \u001b[0;36mmobile_num\u001b[1;34m()\u001b[0m\n\u001b[0;32m      6\u001b[0m \u001b[38;5;28;01mexcept\u001b[39;00m:\n\u001b[0;32m      7\u001b[0m     \u001b[38;5;28mprint\u001b[39m (\u001b[38;5;124m'\u001b[39m\u001b[38;5;124mLooks like you did not enter an integer\u001b[39m\u001b[38;5;124m'\u001b[39m)\n\u001b[1;32m----> 9\u001b[0m \u001b[38;5;28mprint\u001b[39m (\u001b[43mval\u001b[49m)\n",
      "\u001b[1;31mUnboundLocalError\u001b[0m: local variable 'val' referenced before assignment"
     ]
    }
   ],
   "source": [
    "mobile_num ()"
   ]
  },
  {
   "cell_type": "code",
   "execution_count": 4,
   "id": "ce2cfbe5",
   "metadata": {},
   "outputs": [],
   "source": [
    "val = 9870430570"
   ]
  },
  {
   "cell_type": "code",
   "execution_count": 5,
   "id": "0e65070c",
   "metadata": {},
   "outputs": [
    {
     "ename": "TypeError",
     "evalue": "object of type 'int' has no len()",
     "output_type": "error",
     "traceback": [
      "\u001b[1;31m---------------------------------------------------------------------------\u001b[0m",
      "\u001b[1;31mTypeError\u001b[0m                                 Traceback (most recent call last)",
      "Cell \u001b[1;32mIn[5], line 1\u001b[0m\n\u001b[1;32m----> 1\u001b[0m \u001b[38;5;28;43mlen\u001b[39;49m\u001b[43m \u001b[49m\u001b[43m(\u001b[49m\u001b[43mval\u001b[49m\u001b[43m)\u001b[49m\n",
      "\u001b[1;31mTypeError\u001b[0m: object of type 'int' has no len()"
     ]
    }
   ],
   "source": [
    "len (val)"
   ]
  },
  {
   "cell_type": "code",
   "execution_count": 6,
   "id": "894874c1",
   "metadata": {},
   "outputs": [
    {
     "data": {
      "text/plain": [
       "10"
      ]
     },
     "execution_count": 6,
     "metadata": {},
     "output_type": "execute_result"
    }
   ],
   "source": [
    "len(str(val))"
   ]
  },
  {
   "cell_type": "code",
   "execution_count": 4,
   "id": "88c000f1",
   "metadata": {},
   "outputs": [],
   "source": [
    "def mob_num():\n",
    "    \n",
    "    while True:\n",
    "        try:\n",
    "            val = int(input(\"Please enter your mobile number: \"))\n",
    "            \n",
    "            if len(str(val)) !=10:\n",
    "                print ('Mobile number is invalid')\n",
    "                continue\n",
    "                \n",
    "            else:\n",
    "                print ('Thank you')\n",
    "                break\n",
    "                \n",
    "        except:\n",
    "            print('Looks like did not enter an integer')\n",
    "            continue"
   ]
  },
  {
   "cell_type": "code",
   "execution_count": 5,
   "id": "86d43bc3",
   "metadata": {},
   "outputs": [
    {
     "name": "stdout",
     "output_type": "stream",
     "text": [
      "Please enter your mobile number: abcdef\n",
      "Looks like did not enter an integer\n",
      "Please enter your mobile number: 123456789\n",
      "Mobile number is invalid\n",
      "Please enter your mobile number: 1234567890\n",
      "Thank you\n"
     ]
    }
   ],
   "source": [
    "mob_num ()"
   ]
  },
  {
   "cell_type": "code",
   "execution_count": null,
   "id": "fbabd563",
   "metadata": {},
   "outputs": [],
   "source": []
  }
 ],
 "metadata": {
  "kernelspec": {
   "display_name": "Python 3 (ipykernel)",
   "language": "python",
   "name": "python3"
  },
  "language_info": {
   "codemirror_mode": {
    "name": "ipython",
    "version": 3
   },
   "file_extension": ".py",
   "mimetype": "text/x-python",
   "name": "python",
   "nbconvert_exporter": "python",
   "pygments_lexer": "ipython3",
   "version": "3.10.9"
  }
 },
 "nbformat": 4,
 "nbformat_minor": 5
}
