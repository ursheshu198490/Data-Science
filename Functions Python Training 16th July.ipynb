{
 "cells": [
  {
   "cell_type": "code",
   "execution_count": null,
   "id": "0ab39ccc",
   "metadata": {},
   "outputs": [],
   "source": [
    "Functions"
   ]
  },
  {
   "cell_type": "code",
   "execution_count": 2,
   "id": "7faf5dc1",
   "metadata": {},
   "outputs": [],
   "source": [
    "def say_hello ():\n",
    "    \n",
    "    print ('This is a sample')"
   ]
  },
  {
   "cell_type": "code",
   "execution_count": 3,
   "id": "983823a4",
   "metadata": {},
   "outputs": [
    {
     "name": "stdout",
     "output_type": "stream",
     "text": [
      "This is a sample\n"
     ]
    }
   ],
   "source": [
    "say_hello ()"
   ]
  },
  {
   "cell_type": "code",
   "execution_count": 4,
   "id": "e20b2892",
   "metadata": {},
   "outputs": [],
   "source": [
    "def greeting (name):\n",
    "    print ('Hello', name)"
   ]
  },
  {
   "cell_type": "code",
   "execution_count": 5,
   "id": "0ff4f0aa",
   "metadata": {},
   "outputs": [
    {
     "name": "stdout",
     "output_type": "stream",
     "text": [
      "Hello Good morning\n"
     ]
    }
   ],
   "source": [
    "greeting ('Good morning')"
   ]
  },
  {
   "cell_type": "code",
   "execution_count": null,
   "id": "74b9e8ea",
   "metadata": {},
   "outputs": [],
   "source": [
    "Return Function"
   ]
  },
  {
   "cell_type": "code",
   "execution_count": 10,
   "id": "e10bee94",
   "metadata": {},
   "outputs": [],
   "source": [
    "def salary_incr (fixed_salary,house_rent):\n",
    "    total_sal = (fixed_salary + house_rent)\n",
    "    \n",
    "    if total_sal<9000:\n",
    "        total_sal + 1000\n",
    "        \n",
    "    else:\n",
    "        total_sal"
   ]
  },
  {
   "cell_type": "code",
   "execution_count": 12,
   "id": "87e8d149",
   "metadata": {},
   "outputs": [
    {
     "name": "stdout",
     "output_type": "stream",
     "text": [
      "Your New Salary = None\n"
     ]
    }
   ],
   "source": [
    "print ('Your New Salary =', salary_incr (6500,2000))"
   ]
  },
  {
   "cell_type": "code",
   "execution_count": 13,
   "id": "f62022c8",
   "metadata": {},
   "outputs": [],
   "source": [
    "def salary_incr (fixed_salary,house_rent):\n",
    "    total_sal = (fixed_salary + house_rent)\n",
    "    \n",
    "    if total_sal<9000:\n",
    "        return total_sal + 1000\n",
    "        \n",
    "    else:\n",
    "        return total_sal"
   ]
  },
  {
   "cell_type": "code",
   "execution_count": 14,
   "id": "1323033e",
   "metadata": {},
   "outputs": [
    {
     "name": "stdout",
     "output_type": "stream",
     "text": [
      "Your New Salary = 9500\n"
     ]
    }
   ],
   "source": [
    "print ('Your New Salary =', salary_incr (6500,2000))"
   ]
  },
  {
   "cell_type": "code",
   "execution_count": 15,
   "id": "3ae86998",
   "metadata": {},
   "outputs": [],
   "source": [
    "rahul_salary = salary_incr (7000,1900)"
   ]
  },
  {
   "cell_type": "code",
   "execution_count": 16,
   "id": "efee5207",
   "metadata": {},
   "outputs": [
    {
     "data": {
      "text/plain": [
       "9900"
      ]
     },
     "execution_count": 16,
     "metadata": {},
     "output_type": "execute_result"
    }
   ],
   "source": [
    "rahul_salary"
   ]
  },
  {
   "cell_type": "code",
   "execution_count": 33,
   "id": "550000ef",
   "metadata": {},
   "outputs": [],
   "source": [
    "def tot_marks (x,y,z):\n",
    "    total_marks = (maths + science + history)\n",
    "    return total_marks       "
   ]
  },
  {
   "cell_type": "code",
   "execution_count": 34,
   "id": "bc8585c2",
   "metadata": {},
   "outputs": [],
   "source": [
    "maths = 35\n",
    "science = 82\n",
    "history = 95\n",
    "\n",
    "neha_marks = tot_marks (maths,science,history)"
   ]
  },
  {
   "cell_type": "code",
   "execution_count": 35,
   "id": "d2d050ad",
   "metadata": {},
   "outputs": [
    {
     "data": {
      "text/plain": [
       "212"
      ]
     },
     "execution_count": 35,
     "metadata": {},
     "output_type": "execute_result"
    }
   ],
   "source": [
    "neha_marks"
   ]
  },
  {
   "cell_type": "code",
   "execution_count": null,
   "id": "ed5af41d",
   "metadata": {},
   "outputs": [],
   "source": []
  }
 ],
 "metadata": {
  "kernelspec": {
   "display_name": "Python 3 (ipykernel)",
   "language": "python",
   "name": "python3"
  },
  "language_info": {
   "codemirror_mode": {
    "name": "ipython",
    "version": 3
   },
   "file_extension": ".py",
   "mimetype": "text/x-python",
   "name": "python",
   "nbconvert_exporter": "python",
   "pygments_lexer": "ipython3",
   "version": "3.10.9"
  }
 },
 "nbformat": 4,
 "nbformat_minor": 5
}
