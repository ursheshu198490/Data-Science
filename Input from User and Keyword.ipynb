{
 "cells": [
  {
   "cell_type": "code",
   "execution_count": 5,
   "id": "b6eb51d0",
   "metadata": {},
   "outputs": [
    {
     "name": "stdout",
     "output_type": "stream",
     "text": [
      "Enter your nameUrsheshu\n",
      "User Entered:  Ursheshu\n"
     ]
    }
   ],
   "source": [
    "name = input ('Enter your name')\n",
    "\n",
    "print('User Entered: ', name)"
   ]
  },
  {
   "cell_type": "code",
   "execution_count": 4,
   "id": "54dac208",
   "metadata": {},
   "outputs": [
    {
     "name": "stdout",
     "output_type": "stream",
     "text": [
      "Enter your maths score80\n",
      "Enter your science score75\n",
      "total marks is 155\n"
     ]
    }
   ],
   "source": [
    "maths = int(input('Enter your maths score'))\n",
    "\n",
    "science = int(input('Enter your science score'))\n",
    "\n",
    "total_marks = maths + science\n",
    "\n",
    "print ('total marks is', total_marks)"
   ]
  },
  {
   "cell_type": "code",
   "execution_count": 1,
   "id": "afe7817a",
   "metadata": {},
   "outputs": [
    {
     "name": "stdout",
     "output_type": "stream",
     "text": [
      "Enter your name =Rishika\n",
      "Alphabets =  Rishika\n"
     ]
    }
   ],
   "source": [
    "name = input ('Enter your name =')\n",
    "\n",
    "if name.isalpha():\n",
    "    print ('Alphabets = ', name)\n",
    "else:\n",
    "    print ('Enter only alphabets')"
   ]
  },
  {
   "cell_type": "code",
   "execution_count": 3,
   "id": "47bd69d4",
   "metadata": {},
   "outputs": [
    {
     "name": "stdout",
     "output_type": "stream",
     "text": [
      "Enter password =sapna@1234\n",
      "Enter any data other than special chars\n"
     ]
    }
   ],
   "source": [
    "#isalnum is for numeric and alphabetic characters but excludes special characters\n",
    "pwd = input ('Enter password =')\n",
    "\n",
    "if pwd.isalnum():\n",
    "    print ('Your entered password =', pwd)\n",
    "else:\n",
    "    print('Enter any data other than special chars')"
   ]
  },
  {
   "cell_type": "code",
   "execution_count": 7,
   "id": "3931f2ec",
   "metadata": {},
   "outputs": [],
   "source": [
    "def used_car_price (car_year, car_brand, kmeters):\n",
    "    if car_year == 2020:\n",
    "        if 10000<kmeters<=15000:\n",
    "            if car_brand == 'Honda Amaze':\n",
    "                print('Rs 690,000 - Rs 750,000')\n",
    "            elif car_brand == \"Hyundai Creta\":\n",
    "                print ('Rs 945000 - Rs 1080000')\n",
    "            else:\n",
    "                print ('No stocks right now, please visit after few days')\n",
    "                \n",
    "        elif 15001<kmeters<=25000:\n",
    "            if car_brand == 'Honda Amaze':\n",
    "                print ('Rs 550,000 - Rs 600,000')\n",
    "                \n",
    "            elif car_brand == 'Hyundai Creta':\n",
    "                print('Rs 845000 - Rs 980000')\n",
    "                \n",
    "            else: \n",
    "                print ('No stocks right now, please visit after few days')\n",
    "                \n",
    "        else:\n",
    "            print ('No Stocks')\n",
    "\n",
    "            \n",
    "    elif car_year == 2021:\n",
    "        if 10000<kmeters<=15000:\n",
    "            if car_brand == 'Honda Amaze':\n",
    "                print ('Rs 750,000 - Rs 1050,000')\n",
    "            elif car_brand == \"Hyundai Creta\":\n",
    "                print ('Rs 1080,000 - Rs 1250,000')\n",
    "            else:\n",
    "                print ('No stocks right now, please visit after few days')\n",
    "        else: \n",
    "            print ('No stocks right now, please visit after few days')\n",
    "    else:\n",
    "        print ('Sorry we dont keep cars older than 2020')\n"
   ]
  },
  {
   "cell_type": "code",
   "execution_count": 9,
   "id": "85ab0cca",
   "metadata": {},
   "outputs": [
    {
     "name": "stdout",
     "output_type": "stream",
     "text": [
      "Enter your car name =Honda Amaze\n",
      "Enter your kilometers =18000\n",
      "Enter the year of car = 2020\n",
      "Rs 550,000 - Rs 600,000\n"
     ]
    }
   ],
   "source": [
    "car_brd = input('Enter your car name =')\n",
    "km_driven = int(input('Enter your kilometers ='))\n",
    "manu_year = int(input('Enter the year of car = '))\n",
    "\n",
    "used_car_price (manu_year,car_brd,km_driven)"
   ]
  },
  {
   "cell_type": "code",
   "execution_count": null,
   "id": "06b43734",
   "metadata": {},
   "outputs": [],
   "source": []
  }
 ],
 "metadata": {
  "kernelspec": {
   "display_name": "Python 3 (ipykernel)",
   "language": "python",
   "name": "python3"
  },
  "language_info": {
   "codemirror_mode": {
    "name": "ipython",
    "version": 3
   },
   "file_extension": ".py",
   "mimetype": "text/x-python",
   "name": "python",
   "nbconvert_exporter": "python",
   "pygments_lexer": "ipython3",
   "version": "3.10.9"
  }
 },
 "nbformat": 4,
 "nbformat_minor": 5
}
