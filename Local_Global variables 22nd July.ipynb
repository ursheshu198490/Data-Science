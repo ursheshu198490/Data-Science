{
 "cells": [
  {
   "cell_type": "code",
   "execution_count": 31,
   "id": "2bcef32b",
   "metadata": {},
   "outputs": [
    {
     "name": "stdout",
     "output_type": "stream",
     "text": [
      "printing inside the function and total is 85\n"
     ]
    }
   ],
   "source": [
    "some_marks = 50\n",
    "\n",
    "def total_score_global ():\n",
    "    print('printing inside the function and total is', 35 + some_marks)\n",
    "    \n",
    "total_score_global ()"
   ]
  },
  {
   "cell_type": "code",
   "execution_count": 32,
   "id": "6951ed79",
   "metadata": {},
   "outputs": [
    {
     "name": "stdout",
     "output_type": "stream",
     "text": [
      "printing inside the function and total is 85\n"
     ]
    }
   ],
   "source": [
    "print('printing inside the function and total is', 35 + some_marks)"
   ]
  },
  {
   "cell_type": "code",
   "execution_count": 38,
   "id": "14009078",
   "metadata": {},
   "outputs": [
    {
     "name": "stdout",
     "output_type": "stream",
     "text": [
      "printing outside the function and total is 50\n"
     ]
    }
   ],
   "source": [
    "def total_score_loc ():\n",
    "    some_neb = 30\n",
    "    print ('printing outside the function and total is', 20 + some_new)\n",
    "    \n",
    "total_score_loc()"
   ]
  },
  {
   "cell_type": "code",
   "execution_count": 39,
   "id": "f6e9dd0e",
   "metadata": {},
   "outputs": [
    {
     "ename": "NameError",
     "evalue": "name 'some_neb' is not defined",
     "output_type": "error",
     "traceback": [
      "\u001b[1;31m---------------------------------------------------------------------------\u001b[0m",
      "\u001b[1;31mNameError\u001b[0m                                 Traceback (most recent call last)",
      "Cell \u001b[1;32mIn[39], line 1\u001b[0m\n\u001b[1;32m----> 1\u001b[0m \u001b[38;5;28mprint\u001b[39m (\u001b[38;5;124m'\u001b[39m\u001b[38;5;124mprinting outside the function and total is\u001b[39m\u001b[38;5;124m'\u001b[39m, \u001b[38;5;241m30\u001b[39m \u001b[38;5;241m+\u001b[39m \u001b[43msome_neb\u001b[49m)\n",
      "\u001b[1;31mNameError\u001b[0m: name 'some_neb' is not defined"
     ]
    }
   ],
   "source": [
    "print ('printing outside the function and total is', 30 + some_neb)"
   ]
  },
  {
   "cell_type": "code",
   "execution_count": 40,
   "id": "3ef739c6",
   "metadata": {},
   "outputs": [
    {
     "name": "stdout",
     "output_type": "stream",
     "text": [
      "This is fantastic\n"
     ]
    }
   ],
   "source": [
    "def local_global():\n",
    "    global var12\n",
    "    var12 = 'This is fantastic'\n",
    "    print(var12)\n",
    "    \n",
    "local_global()"
   ]
  },
  {
   "cell_type": "code",
   "execution_count": 41,
   "id": "df06ef65",
   "metadata": {},
   "outputs": [
    {
     "name": "stdout",
     "output_type": "stream",
     "text": [
      "This is fantastic\n"
     ]
    }
   ],
   "source": [
    "print (var12)"
   ]
  },
  {
   "cell_type": "code",
   "execution_count": null,
   "id": "2365421b",
   "metadata": {},
   "outputs": [],
   "source": []
  }
 ],
 "metadata": {
  "kernelspec": {
   "display_name": "Python 3 (ipykernel)",
   "language": "python",
   "name": "python3"
  },
  "language_info": {
   "codemirror_mode": {
    "name": "ipython",
    "version": 3
   },
   "file_extension": ".py",
   "mimetype": "text/x-python",
   "name": "python",
   "nbconvert_exporter": "python",
   "pygments_lexer": "ipython3",
   "version": "3.10.9"
  }
 },
 "nbformat": 4,
 "nbformat_minor": 5
}
