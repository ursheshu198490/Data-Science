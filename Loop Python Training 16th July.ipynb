{
 "cells": [
  {
   "cell_type": "code",
   "execution_count": 1,
   "id": "33519b2b",
   "metadata": {},
   "outputs": [
    {
     "name": "stdout",
     "output_type": "stream",
     "text": [
      "['Bengaluru', 'Delhi', 'Noida', 'Chennai', 'Hyderabad']\n"
     ]
    }
   ],
   "source": [
    "location = ['Bengaluru','Delhi','Noida','Chennai','Hyderabad']\n",
    "print (location)"
   ]
  },
  {
   "cell_type": "code",
   "execution_count": 2,
   "id": "30c81102",
   "metadata": {},
   "outputs": [
    {
     "name": "stdout",
     "output_type": "stream",
     "text": [
      "Bengaluru\n",
      "Delhi\n",
      "Noida\n",
      "Chennai\n",
      "Hyderabad\n"
     ]
    }
   ],
   "source": [
    "location = ['Bengaluru','Delhi','Noida','Chennai','Hyderabad']\n",
    "for city in location:\n",
    "    print (city)"
   ]
  },
  {
   "cell_type": "code",
   "execution_count": 3,
   "id": "a086d4f6",
   "metadata": {},
   "outputs": [
    {
     "name": "stdout",
     "output_type": "stream",
     "text": [
      "7000\n",
      "8000\n"
     ]
    }
   ],
   "source": [
    "salary = [2000, 4000, 5000, 7000, 8000, 4500, 3800]\n",
    "\n",
    "for val in salary:\n",
    "    if val>5500:\n",
    "        print (val)\n"
   ]
  },
  {
   "cell_type": "code",
   "execution_count": 10,
   "id": "a1e63a8f",
   "metadata": {},
   "outputs": [
    {
     "name": "stdout",
     "output_type": "stream",
     "text": [
      "35 -Pass\n",
      "67 - First Class\n",
      "78 - Distinction\n",
      "79 - Distinction\n",
      "12 - Better luck next time \n",
      "34 - Better luck next time \n",
      "67 - First Class\n",
      "54 -Second Class\n",
      "89 - Distinction\n"
     ]
    }
   ],
   "source": [
    "student_scores = [35,67,78,79,12,34,67,54,89]\n",
    "\n",
    "for marks in student_scores:\n",
    "    if marks>60:\n",
    "        if marks>70:\n",
    "            print(marks, '- Distinction')\n",
    "        else:\n",
    "            print(marks, '- First Class')\n",
    "            \n",
    "    elif marks>50 and marks <=60:\n",
    "        print (marks, '-Second Class')\n",
    "        \n",
    "    elif marks>=35:\n",
    "        print (marks, '-Pass')\n",
    "        \n",
    "    else:\n",
    "        print (marks, '- Better luck next time ')"
   ]
  },
  {
   "cell_type": "code",
   "execution_count": 11,
   "id": "1249fd41",
   "metadata": {},
   "outputs": [
    {
     "data": {
      "text/plain": [
       "[7000, 8000]"
      ]
     },
     "execution_count": 11,
     "metadata": {},
     "output_type": "execute_result"
    }
   ],
   "source": [
    "salary = [2000,4000,5000,7000,8000,4500, 3800]\n",
    "\n",
    "salary = [val for val in salary if val>5500]\n",
    "\n",
    "salary"
   ]
  },
  {
   "cell_type": "code",
   "execution_count": 17,
   "id": "aa81e3e9",
   "metadata": {},
   "outputs": [
    {
     "name": "stdout",
     "output_type": "stream",
     "text": [
      "Multiplication table for - 2\n",
      "2\n",
      "4\n",
      "6\n",
      "8\n",
      "10\n",
      "12\n",
      "14\n",
      "16\n",
      "18\n",
      "20\n",
      "\n",
      "\n",
      "Multiplication table for - 3\n",
      "3\n",
      "6\n",
      "9\n",
      "12\n",
      "15\n",
      "18\n",
      "21\n",
      "24\n",
      "27\n",
      "30\n",
      "\n",
      "\n",
      "Multiplication table for - 4\n",
      "4\n",
      "8\n",
      "12\n",
      "16\n",
      "20\n",
      "24\n",
      "28\n",
      "32\n",
      "36\n",
      "40\n",
      "\n",
      "\n",
      "******************************\n",
      "End of Multiplication table\n",
      "******************************\n"
     ]
    }
   ],
   "source": [
    "for num in range (2,5):\n",
    "    print ('Multiplication table for -', num)\n",
    "    for i in range (1,11):\n",
    "        print (num*i)\n",
    "        if i == 10:\n",
    "            print ('\\n')\n",
    "            \n",
    "else:\n",
    "    print ('*' * 30)\n",
    "    print ('End of Multiplication table')\n",
    "    print ('*' * 30)\n"
   ]
  },
  {
   "cell_type": "code",
   "execution_count": 18,
   "id": "b62fa8aa",
   "metadata": {},
   "outputs": [
    {
     "name": "stdout",
     "output_type": "stream",
     "text": [
      "1 Data Trained\n",
      "2 Data Trained\n",
      "3 Data Trained\n",
      "4 Data Trained\n",
      "5 Data Trained\n",
      "6 Data Trained\n",
      "7 Data Trained\n",
      "8 Data Trained\n",
      "9 Data Trained\n",
      "10 Data Trained\n"
     ]
    }
   ],
   "source": [
    "i = 0\n",
    "\n",
    "while i < 10:\n",
    "    i = i+1\n",
    "    print (i, 'Data Trained')"
   ]
  },
  {
   "cell_type": "code",
   "execution_count": 24,
   "id": "1872d757",
   "metadata": {},
   "outputs": [
    {
     "name": "stdout",
     "output_type": "stream",
     "text": [
      "time.struct_time(tm_year=2023, tm_mon=8, tm_mday=13, tm_hour=0, tm_min=4, tm_sec=59, tm_wday=6, tm_yday=225, tm_isdst=0)\n"
     ]
    }
   ],
   "source": [
    "import time\n",
    "result = time.localtime()\n",
    "print (result)"
   ]
  },
  {
   "cell_type": "code",
   "execution_count": 29,
   "id": "d5815f55",
   "metadata": {},
   "outputs": [
    {
     "name": "stdout",
     "output_type": "stream",
     "text": [
      "Wake up call\n"
     ]
    }
   ],
   "source": [
    "while True:\n",
    "    result = time.localtime()\n",
    "    if result.tm_hour == 0 and result.tm_min == 10:\n",
    "        print ('Wake up call')\n",
    "        break"
   ]
  },
  {
   "cell_type": "code",
   "execution_count": 30,
   "id": "214fc016",
   "metadata": {},
   "outputs": [],
   "source": [
    "students = ['Naveen', 'Rathna', 'Vivaan', 'Shridhar', 'Chintu', 'Chinnu']"
   ]
  },
  {
   "cell_type": "code",
   "execution_count": 31,
   "id": "7450485b",
   "metadata": {},
   "outputs": [
    {
     "name": "stdout",
     "output_type": "stream",
     "text": [
      "(0, 'Naveen')\n",
      "(1, 'Rathna')\n",
      "(2, 'Vivaan')\n",
      "(3, 'Shridhar')\n",
      "(4, 'Chintu')\n",
      "(5, 'Chinnu')\n"
     ]
    }
   ],
   "source": [
    "for name in enumerate (students):\n",
    "    print (name)"
   ]
  },
  {
   "cell_type": "code",
   "execution_count": 32,
   "id": "824f0b9b",
   "metadata": {},
   "outputs": [
    {
     "name": "stdout",
     "output_type": "stream",
     "text": [
      "(100, 'Naveen')\n",
      "(101, 'Rathna')\n",
      "(102, 'Vivaan')\n",
      "(103, 'Shridhar')\n",
      "(104, 'Chintu')\n",
      "(105, 'Chinnu')\n"
     ]
    }
   ],
   "source": [
    "for name in enumerate (students,100):\n",
    "    print (name)"
   ]
  },
  {
   "cell_type": "code",
   "execution_count": 33,
   "id": "1da72b9e",
   "metadata": {},
   "outputs": [],
   "source": [
    "students_name = ['Naveen', 'Rathna', 'Vivaan', 'Shridhar', 'Chintu', 'Chinnu']\n",
    "students_marks = [53,72,64,81,55,86]"
   ]
  },
  {
   "cell_type": "code",
   "execution_count": 34,
   "id": "5fc7b2f0",
   "metadata": {},
   "outputs": [],
   "source": [
    "students_details = list(zip(students_name,students_marks))"
   ]
  },
  {
   "cell_type": "code",
   "execution_count": 35,
   "id": "caf28859",
   "metadata": {},
   "outputs": [
    {
     "data": {
      "text/plain": [
       "[('Naveen', 53),\n",
       " ('Rathna', 72),\n",
       " ('Vivaan', 64),\n",
       " ('Shridhar', 81),\n",
       " ('Chintu', 55),\n",
       " ('Chinnu', 86)]"
      ]
     },
     "execution_count": 35,
     "metadata": {},
     "output_type": "execute_result"
    }
   ],
   "source": [
    "students_details"
   ]
  },
  {
   "cell_type": "code",
   "execution_count": 37,
   "id": "256f6385",
   "metadata": {},
   "outputs": [],
   "source": [
    "name, marks_num = zip(*students_details)"
   ]
  },
  {
   "cell_type": "code",
   "execution_count": 38,
   "id": "aa4f684c",
   "metadata": {},
   "outputs": [
    {
     "data": {
      "text/plain": [
       "('Naveen', 'Rathna', 'Vivaan', 'Shridhar', 'Chintu', 'Chinnu')"
      ]
     },
     "execution_count": 38,
     "metadata": {},
     "output_type": "execute_result"
    }
   ],
   "source": [
    "name"
   ]
  },
  {
   "cell_type": "code",
   "execution_count": 39,
   "id": "b5671471",
   "metadata": {},
   "outputs": [
    {
     "data": {
      "text/plain": [
       "(53, 72, 64, 81, 55, 86)"
      ]
     },
     "execution_count": 39,
     "metadata": {},
     "output_type": "execute_result"
    }
   ],
   "source": [
    "marks_num"
   ]
  }
 ],
 "metadata": {
  "kernelspec": {
   "display_name": "Python 3 (ipykernel)",
   "language": "python",
   "name": "python3"
  },
  "language_info": {
   "codemirror_mode": {
    "name": "ipython",
    "version": 3
   },
   "file_extension": ".py",
   "mimetype": "text/x-python",
   "name": "python",
   "nbconvert_exporter": "python",
   "pygments_lexer": "ipython3",
   "version": "3.10.9"
  }
 },
 "nbformat": 4,
 "nbformat_minor": 5
}
