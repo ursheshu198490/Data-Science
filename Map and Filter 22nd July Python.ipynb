{
 "cells": [
  {
   "cell_type": "code",
   "execution_count": 1,
   "id": "4946eb10",
   "metadata": {},
   "outputs": [],
   "source": [
    "def grace_marks(marks):\n",
    "    if marks == 34:\n",
    "        return (marks + 1)\n",
    "    elif marks == 33:\n",
    "        return (marks + 2)\n",
    "    else:\n",
    "        return marks"
   ]
  },
  {
   "cell_type": "code",
   "execution_count": 2,
   "id": "94e0a8dc",
   "metadata": {},
   "outputs": [],
   "source": [
    "score = [50,34,32,33,31,35]"
   ]
  },
  {
   "cell_type": "code",
   "execution_count": 4,
   "id": "2fa57d45",
   "metadata": {},
   "outputs": [],
   "source": [
    "total = list(map(grace_marks,score))"
   ]
  },
  {
   "cell_type": "code",
   "execution_count": 5,
   "id": "c2a9aa49",
   "metadata": {},
   "outputs": [
    {
     "data": {
      "text/plain": [
       "[50, 35, 32, 35, 31, 35]"
      ]
     },
     "execution_count": 5,
     "metadata": {},
     "output_type": "execute_result"
    }
   ],
   "source": [
    "total"
   ]
  },
  {
   "cell_type": "code",
   "execution_count": null,
   "id": "a2220ec1",
   "metadata": {},
   "outputs": [],
   "source": [
    "Filter function"
   ]
  },
  {
   "cell_type": "code",
   "execution_count": 9,
   "id": "39f6bca6",
   "metadata": {},
   "outputs": [],
   "source": [
    "def grace_marksnew (marks):\n",
    "    if marks <35:\n",
    "        return marks"
   ]
  },
  {
   "cell_type": "code",
   "execution_count": 10,
   "id": "5c8c9071",
   "metadata": {},
   "outputs": [],
   "source": [
    "score = [50,34,32,33,31,35]"
   ]
  },
  {
   "cell_type": "code",
   "execution_count": 12,
   "id": "d933fb96",
   "metadata": {},
   "outputs": [
    {
     "data": {
      "text/plain": [
       "[34, 32, 33, 31]"
      ]
     },
     "execution_count": 12,
     "metadata": {},
     "output_type": "execute_result"
    }
   ],
   "source": [
    "total_new = list(filter(grace_marksnew,score))\n",
    "\n",
    "total_new"
   ]
  },
  {
   "cell_type": "code",
   "execution_count": null,
   "id": "209a5c8b",
   "metadata": {},
   "outputs": [],
   "source": [
    "Difference betwee Map and Filter"
   ]
  },
  {
   "cell_type": "code",
   "execution_count": 20,
   "id": "cdbcda7a",
   "metadata": {},
   "outputs": [
    {
     "data": {
      "text/plain": [
       "[False, True, False, True]"
      ]
     },
     "execution_count": 20,
     "metadata": {},
     "output_type": "execute_result"
    }
   ],
   "source": [
    "list(map(lambda var: var %2 == 0, [1,2,3,4]))"
   ]
  },
  {
   "cell_type": "code",
   "execution_count": 21,
   "id": "aeef233e",
   "metadata": {},
   "outputs": [
    {
     "data": {
      "text/plain": [
       "[2, 4]"
      ]
     },
     "execution_count": 21,
     "metadata": {},
     "output_type": "execute_result"
    }
   ],
   "source": [
    "list (filter(lambda var: var%2 == 0, [1,2,3,4]))"
   ]
  },
  {
   "cell_type": "code",
   "execution_count": null,
   "id": "f0b929ed",
   "metadata": {},
   "outputs": [],
   "source": []
  }
 ],
 "metadata": {
  "kernelspec": {
   "display_name": "Python 3 (ipykernel)",
   "language": "python",
   "name": "python3"
  },
  "language_info": {
   "codemirror_mode": {
    "name": "ipython",
    "version": 3
   },
   "file_extension": ".py",
   "mimetype": "text/x-python",
   "name": "python",
   "nbconvert_exporter": "python",
   "pygments_lexer": "ipython3",
   "version": "3.10.9"
  }
 },
 "nbformat": 4,
 "nbformat_minor": 5
}
