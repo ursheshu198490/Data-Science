{
 "cells": [
  {
   "cell_type": "code",
   "execution_count": 1,
   "id": "c438f24c",
   "metadata": {},
   "outputs": [
    {
     "name": "stdout",
     "output_type": "stream",
     "text": [
      "Enter your first name =Ursheshu\n",
      "Enter your last name =Upadhyay\n",
      "Enter your city = Mumbai\n",
      "Enter your Userid - ursheshu\n",
      "Enter your password = 123456\n",
      "Enter your phone number =9870430570\n"
     ]
    }
   ],
   "source": [
    "class Account():\n",
    "    def __init__(self, name      = input ('Enter your first name ='),\n",
    "                       last_name = input ('Enter your last name ='),\n",
    "                       city      = input ('Enter your city = '),\n",
    "                       user_id   = input ('Enter your Userid - '),\n",
    "                       password  = input ('Enter your password = '),\n",
    "                       phone     = input ('Enter your phone number =')):\n",
    "        \n",
    "        self.name      = name\n",
    "        self.last_name = last_name\n",
    "        self.city      = city\n",
    "        self.user_id   = user_id\n",
    "        self.password  = password\n",
    "        self.phone     = phone\n",
    "        \n",
    "    def login(self):\n",
    "        attempts = 1\n",
    "        \n",
    "        while True:\n",
    "            signin = input ('Enter your Userid -')\n",
    "            password = input ('Enter your password =')\n",
    "            \n",
    "            if signin == self.user_id and password == self.password:\n",
    "                print ('Successfully logged in')\n",
    "                break\n",
    "                \n",
    "            else:\n",
    "                \n",
    "                if attempts==3:\n",
    "                    print ('Maximum attempts reached, please contact Customer care')\n",
    "                    break\n",
    "                    \n",
    "                else:\n",
    "                    print('Userid or Password is invalid')\n",
    "                    attempts +=1\n",
    "                    continue\n",
    "                 "
   ]
  },
  {
   "cell_type": "code",
   "execution_count": 2,
   "id": "61c78954",
   "metadata": {},
   "outputs": [],
   "source": [
    "bank = Account()"
   ]
  },
  {
   "cell_type": "code",
   "execution_count": 3,
   "id": "e3a4acf1",
   "metadata": {},
   "outputs": [
    {
     "name": "stdout",
     "output_type": "stream",
     "text": [
      "Enter your Userid -ursheshu\n",
      "Enter your password =123456\n",
      "Successfully logged in\n"
     ]
    }
   ],
   "source": [
    "bank.login()"
   ]
  },
  {
   "cell_type": "markdown",
   "id": "73a42bb8",
   "metadata": {},
   "source": [
    "2) Inheritance"
   ]
  },
  {
   "cell_type": "code",
   "execution_count": 4,
   "id": "d58f0af2",
   "metadata": {},
   "outputs": [],
   "source": [
    "class User_Account(Account):\n",
    "    \n",
    "    def __init__(self,acc_number,balance, *args):\n",
    "        super(User_Account,self).__init__(*args)\n",
    "        self.acc_number = acc_number\n",
    "        self.balance    = balance\n",
    "        \n",
    "    def user_details (self):\n",
    "        while True:\n",
    "            account = int(input('Enter your account number = '))\n",
    "            if account == self.acc_number:\n",
    "                print ('Name =', self.name)\n",
    "                print ('Acc Number =', self.acc_number)\n",
    "                print ('Balance = ', self.balance)\n",
    "                print ('Phone = ', self.phone)\n",
    "                \n",
    "                break\n",
    "                \n",
    "            else:\n",
    "                print ('Account number is not valid')\n",
    "                continue\n",
    "    \n",
    "    def deposit(self):\n",
    "        print ('Your previous balance = ', self.balance)\n",
    "        add_cash = int(input('Deposit Cash ='))\n",
    "        self.balance +=add_cash\n",
    "        print ('\\n HDFC Bank: Rs', add_cash, 'deposited to your account', self.acc_number, \n",
    "               'and your Current Balance is', self.balance)\n",
    "        \n",
    "    def transfer(self):\n",
    "        print ('Your previous balance is', self.balance)\n",
    "        \n",
    "        withdraw = int(input('How much you want to transfer ='))\n",
    "        if withdraw<=self.balance:\n",
    "            self.balance -= withdraw\n",
    "            print('\\n HDFC Bank: Rs',withdraw, 'withdrawn from your account', self.acc_number,\n",
    "                  'and your Current Balance is', self.balance)\n",
    "            \n",
    "        else:\n",
    "            print('\\n Helooo Boss you do not have sufficient balance')\n",
    "        "
   ]
  },
  {
   "cell_type": "code",
   "execution_count": 5,
   "id": "b0801fc6",
   "metadata": {},
   "outputs": [],
   "source": [
    "bank_details = User_Account(123456,0)"
   ]
  },
  {
   "cell_type": "code",
   "execution_count": 6,
   "id": "b41ba696",
   "metadata": {},
   "outputs": [
    {
     "name": "stdout",
     "output_type": "stream",
     "text": [
      "Enter your Userid -ursheshu\n",
      "Enter your password =123456\n",
      "Successfully logged in\n"
     ]
    }
   ],
   "source": [
    "bank_details.login()"
   ]
  },
  {
   "cell_type": "code",
   "execution_count": 7,
   "id": "44487a48",
   "metadata": {},
   "outputs": [
    {
     "name": "stdout",
     "output_type": "stream",
     "text": [
      "Enter your account number = 123456\n",
      "Name = Ursheshu\n",
      "Acc Number = 123456\n",
      "Balance =  0\n",
      "Phone =  9870430570\n"
     ]
    }
   ],
   "source": [
    "bank_details.user_details()"
   ]
  },
  {
   "cell_type": "code",
   "execution_count": 9,
   "id": "63d01217",
   "metadata": {},
   "outputs": [
    {
     "name": "stdout",
     "output_type": "stream",
     "text": [
      "Your previous balance =  5000\n",
      "Deposit Cash =5000\n",
      "\n",
      " HDFC Bank: Rs 5000 deposited to your account 123456 and your Current Balance is 10000\n"
     ]
    }
   ],
   "source": [
    "bank_details.deposit()"
   ]
  },
  {
   "cell_type": "code",
   "execution_count": 11,
   "id": "659c3641",
   "metadata": {},
   "outputs": [
    {
     "name": "stdout",
     "output_type": "stream",
     "text": [
      "Your previous balance is 8000\n",
      "How much you want to transfer =80000\n",
      "\n",
      " Helooo Boss you do not have sufficient balance\n"
     ]
    }
   ],
   "source": [
    "bank_details.transfer()"
   ]
  },
  {
   "cell_type": "markdown",
   "id": "4b658487",
   "metadata": {},
   "source": [
    "3)Encapsulation"
   ]
  },
  {
   "cell_type": "code",
   "execution_count": 29,
   "id": "501ecbb4",
   "metadata": {},
   "outputs": [
    {
     "name": "stdout",
     "output_type": "stream",
     "text": [
      "Added 'TV'to the cart.\n",
      "Added 'Sofa'to the cart.\n",
      "Added 'Dining Table'to the cart.\n",
      "\n",
      "\n",
      "All items in Shopping Cart\n",
      "-TV: Rs 50000\n",
      "-Sofa: Rs 30000\n",
      "-Dining Table: Rs 25000\n",
      "\n",
      "\n",
      "Total price is Rs 105000\n",
      "\n",
      "\n",
      "Remove 'Sofa'from the cart.\n",
      "\n",
      "\n",
      "All items in Shopping Cart\n",
      "-TV: Rs 50000\n",
      "-Dining Table: Rs 25000\n",
      "Total price is Rs 75000\n"
     ]
    }
   ],
   "source": [
    "class Products:\n",
    "    def __init__(self,name,price):\n",
    "        self.name  = name\n",
    "        self.price = price\n",
    "        \n",
    "class Shopping_Cart:\n",
    "    def __init__(self):\n",
    "        self.my_items = []\n",
    "        \n",
    "    def add_item(self,item):\n",
    "        self.my_items.append(item)\n",
    "        print(f\"Added '{item.name}'to the cart.\")\n",
    "        \n",
    "    def remove_item(self,item):\n",
    "        if item in self.my_items:\n",
    "            self.my_items.remove(item)\n",
    "            print (f\"Remove '{item.name}'from the cart.\")\n",
    "            \n",
    "        else:\n",
    "              print (f\"'{item.name}' not found in the cart.\")\n",
    "              \n",
    "    def get_total_price(self):\n",
    "              total_price = sum(item.price for item in self.my_items)\n",
    "              return total_price\n",
    "              \n",
    "    def display_cart (self):\n",
    "        print (\"All items in Shopping Cart\")\n",
    "        for item in self.my_items:\n",
    "            print(f\"-{item.name}: Rs {item.price}\")\n",
    "              \n",
    "            \n",
    "##########################################################################################################################\n",
    "              \n",
    "              \n",
    "item_TV     = Products(\"TV\",50000)\n",
    "item_sofa   = Products(\"Sofa\",30000)\n",
    "item_dt     = Products (\"Dining Table\", 25000)\n",
    "              \n",
    "cart = Shopping_Cart()\n",
    "              \n",
    "cart.add_item(item_TV)\n",
    "cart.add_item(item_sofa)\n",
    "cart.add_item(item_dt)\n",
    "print('\\n')\n",
    "              \n",
    "cart.display_cart()\n",
    "              \n",
    "print('\\n')\n",
    "              \n",
    "total_price=cart.get_total_price()\n",
    "print(\"Total price is Rs\", total_price)\n",
    "              \n",
    "print('\\n')              \n",
    "              \n",
    "cart.remove_item(item_sofa)\n",
    "print ('\\n')\n",
    "              \n",
    "cart.display_cart()\n",
    "              \n",
    "total_price=cart.get_total_price()\n",
    "print(\"Total price is Rs\", total_price)"
   ]
  },
  {
   "cell_type": "code",
   "execution_count": null,
   "id": "9571cb32",
   "metadata": {},
   "outputs": [],
   "source": []
  }
 ],
 "metadata": {
  "kernelspec": {
   "display_name": "Python 3 (ipykernel)",
   "language": "python",
   "name": "python3"
  },
  "language_info": {
   "codemirror_mode": {
    "name": "ipython",
    "version": 3
   },
   "file_extension": ".py",
   "mimetype": "text/x-python",
   "name": "python",
   "nbconvert_exporter": "python",
   "pygments_lexer": "ipython3",
   "version": "3.10.9"
  }
 },
 "nbformat": 4,
 "nbformat_minor": 5
}
