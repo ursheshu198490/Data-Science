{
 "cells": [
  {
   "cell_type": "code",
   "execution_count": 27,
   "id": "7b3f1d57",
   "metadata": {},
   "outputs": [
    {
     "name": "stdout",
     "output_type": "stream",
     "text": [
      "use \n",
      " to print a new line\n"
     ]
    }
   ],
   "source": [
    "print(\"use \\n to print a new line\")"
   ]
  },
  {
   "cell_type": "code",
   "execution_count": 26,
   "id": "21df464c",
   "metadata": {},
   "outputs": [
    {
     "name": "stdout",
     "output_type": "stream",
     "text": [
      "My name is Ursheshu Upadhyay\n",
      "I work in Accenture\n"
     ]
    }
   ],
   "source": [
    "print('My name is Ursheshu Upadhyay')\n",
    "print('I work in Accenture')"
   ]
  },
  {
   "cell_type": "code",
   "execution_count": 28,
   "id": "0fc54f53",
   "metadata": {},
   "outputs": [
    {
     "data": {
      "text/plain": [
       "17"
      ]
     },
     "execution_count": 28,
     "metadata": {},
     "output_type": "execute_result"
    }
   ],
   "source": [
    "len(\"Ursheshu Upadhyay\")"
   ]
  },
  {
   "cell_type": "code",
   "execution_count": 5,
   "id": "c13cc733",
   "metadata": {},
   "outputs": [],
   "source": [
    "s=\"Hello World\""
   ]
  },
  {
   "cell_type": "code",
   "execution_count": 6,
   "id": "dfe22ccd",
   "metadata": {},
   "outputs": [
    {
     "data": {
      "text/plain": [
       "'Hello World'"
      ]
     },
     "execution_count": 6,
     "metadata": {},
     "output_type": "execute_result"
    }
   ],
   "source": [
    "s"
   ]
  },
  {
   "cell_type": "code",
   "execution_count": 16,
   "id": "b989f576",
   "metadata": {},
   "outputs": [],
   "source": [
    "s = s + ' concatenate me!'"
   ]
  },
  {
   "cell_type": "code",
   "execution_count": 17,
   "id": "ef630f3f",
   "metadata": {},
   "outputs": [
    {
     "data": {
      "text/plain": [
       "'Hello World concatenate me! concatenate me!'"
      ]
     },
     "execution_count": 17,
     "metadata": {},
     "output_type": "execute_result"
    }
   ],
   "source": [
    "s"
   ]
  },
  {
   "cell_type": "code",
   "execution_count": 12,
   "id": "1e076fde",
   "metadata": {},
   "outputs": [
    {
     "data": {
      "text/plain": [
       "'Hello Wo'"
      ]
     },
     "execution_count": 12,
     "metadata": {},
     "output_type": "execute_result"
    }
   ],
   "source": [
    "s[0:8:1]"
   ]
  },
  {
   "cell_type": "code",
   "execution_count": 18,
   "id": "7b847630",
   "metadata": {},
   "outputs": [],
   "source": [
    "s = \"hi\""
   ]
  },
  {
   "cell_type": "code",
   "execution_count": 22,
   "id": "5a6718e5",
   "metadata": {},
   "outputs": [],
   "source": [
    "s = s + \"  hello\""
   ]
  },
  {
   "cell_type": "code",
   "execution_count": 23,
   "id": "17ed1033",
   "metadata": {},
   "outputs": [
    {
     "data": {
      "text/plain": [
       "'hihello  hello'"
      ]
     },
     "execution_count": 23,
     "metadata": {},
     "output_type": "execute_result"
    }
   ],
   "source": [
    "s"
   ]
  },
  {
   "cell_type": "code",
   "execution_count": 24,
   "id": "492844b4",
   "metadata": {},
   "outputs": [
    {
     "data": {
      "text/plain": [
       "'HIHELLO  HELLO'"
      ]
     },
     "execution_count": 24,
     "metadata": {},
     "output_type": "execute_result"
    }
   ],
   "source": [
    "s.upper ()"
   ]
  },
  {
   "cell_type": "code",
   "execution_count": 25,
   "id": "f1fe90f6",
   "metadata": {},
   "outputs": [
    {
     "data": {
      "text/plain": [
       "'hihello  hello'"
      ]
     },
     "execution_count": 25,
     "metadata": {},
     "output_type": "execute_result"
    }
   ],
   "source": [
    "s.lower ()"
   ]
  },
  {
   "cell_type": "code",
   "execution_count": 26,
   "id": "d6581876",
   "metadata": {},
   "outputs": [],
   "source": [
    "s = \"hi\""
   ]
  },
  {
   "cell_type": "code",
   "execution_count": 28,
   "id": "d1aeb8eb",
   "metadata": {},
   "outputs": [],
   "source": [
    "s = s + \"hello\""
   ]
  },
  {
   "cell_type": "code",
   "execution_count": 27,
   "id": "1227ce98",
   "metadata": {},
   "outputs": [
    {
     "data": {
      "text/plain": [
       "['hi']"
      ]
     },
     "execution_count": 27,
     "metadata": {},
     "output_type": "execute_result"
    }
   ],
   "source": [
    "s.split()"
   ]
  },
  {
   "cell_type": "code",
   "execution_count": 21,
   "id": "4075a28e",
   "metadata": {},
   "outputs": [
    {
     "data": {
      "text/plain": [
       "10.0"
      ]
     },
     "execution_count": 21,
     "metadata": {},
     "output_type": "execute_result"
    }
   ],
   "source": [
    "my_taxes"
   ]
  },
  {
   "cell_type": "code",
   "execution_count": 29,
   "id": "aec2ea0e",
   "metadata": {},
   "outputs": [],
   "source": [
    "s = 'hi'"
   ]
  },
  {
   "cell_type": "code",
   "execution_count": 30,
   "id": "2e452301",
   "metadata": {},
   "outputs": [],
   "source": [
    "s = s + 'hello'"
   ]
  },
  {
   "cell_type": "code",
   "execution_count": 32,
   "id": "48cd887c",
   "metadata": {},
   "outputs": [
    {
     "data": {
      "text/plain": [
       "['hihello']"
      ]
     },
     "execution_count": 32,
     "metadata": {},
     "output_type": "execute_result"
    }
   ],
   "source": [
    "s.split ()\n",
    "\n",
    "\n"
   ]
  },
  {
   "cell_type": "code",
   "execution_count": 34,
   "id": "99d38a9c",
   "metadata": {},
   "outputs": [
    {
     "data": {
      "text/plain": [
       "['', 'i', 'ello']"
      ]
     },
     "execution_count": 34,
     "metadata": {},
     "output_type": "execute_result"
    }
   ],
   "source": [
    "s.split(\"h\")"
   ]
  },
  {
   "cell_type": "code",
   "execution_count": null,
   "id": "9bad9f8f",
   "metadata": {},
   "outputs": [],
   "source": []
  }
 ],
 "metadata": {
  "kernelspec": {
   "display_name": "Python 3 (ipykernel)",
   "language": "python",
   "name": "python3"
  },
  "language_info": {
   "codemirror_mode": {
    "name": "ipython",
    "version": 3
   },
   "file_extension": ".py",
   "mimetype": "text/x-python",
   "name": "python",
   "nbconvert_exporter": "python",
   "pygments_lexer": "ipython3",
   "version": "3.10.9"
  }
 },
 "nbformat": 4,
 "nbformat_minor": 5
}
