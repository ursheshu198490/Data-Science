{
 "cells": [
  {
   "cell_type": "markdown",
   "id": "b826af7e",
   "metadata": {},
   "source": [
    "Tuple\n",
    "\n",
    "1) Constructive Tuple\n",
    "2) Basic Tuple Methods\n",
    "3) Immutability\n",
    "4) When to use Tuples"
   ]
  },
  {
   "cell_type": "code",
   "execution_count": 1,
   "id": "dadeb333",
   "metadata": {},
   "outputs": [
    {
     "data": {
      "text/plain": [
       "('Bengaluru', 'Noida', 'Chennai', 'Delhi')"
      ]
     },
     "execution_count": 1,
     "metadata": {},
     "output_type": "execute_result"
    }
   ],
   "source": [
    "work_location = ('Bengaluru', 'Noida', 'Chennai', 'Delhi')\n",
    "work_location"
   ]
  },
  {
   "cell_type": "code",
   "execution_count": 2,
   "id": "c5cd30e7",
   "metadata": {},
   "outputs": [
    {
     "data": {
      "text/plain": [
       "tuple"
      ]
     },
     "execution_count": 2,
     "metadata": {},
     "output_type": "execute_result"
    }
   ],
   "source": [
    "type (work_location)"
   ]
  },
  {
   "cell_type": "code",
   "execution_count": 3,
   "id": "c7c9b0de",
   "metadata": {},
   "outputs": [
    {
     "data": {
      "text/plain": [
       "(20000, 35000, 40000)"
      ]
     },
     "execution_count": 3,
     "metadata": {},
     "output_type": "execute_result"
    }
   ],
   "source": [
    "employee_salary = (20000,35000,40000)\n",
    "employee_salary"
   ]
  },
  {
   "cell_type": "code",
   "execution_count": null,
   "id": "9268d7d6",
   "metadata": {},
   "outputs": [],
   "source": [
    "work_location.append ('Hyderabad')"
   ]
  },
  {
   "cell_type": "code",
   "execution_count": null,
   "id": "8ad4ecf1",
   "metadata": {},
   "outputs": [],
   "source": [
    "Not possible as it is Immutable"
   ]
  },
  {
   "cell_type": "code",
   "execution_count": null,
   "id": "7ca38e88",
   "metadata": {},
   "outputs": [],
   "source": [
    "work_location = list(work_location)\n",
    "work_location"
   ]
  },
  {
   "cell_type": "code",
   "execution_count": null,
   "id": "160e8477",
   "metadata": {},
   "outputs": [],
   "source": [
    "type (work_location)"
   ]
  },
  {
   "cell_type": "code",
   "execution_count": null,
   "id": "5b7534bc",
   "metadata": {},
   "outputs": [],
   "source": [
    "work_location.append ('Hyderabad')\n",
    "work_location"
   ]
  },
  {
   "cell_type": "code",
   "execution_count": null,
   "id": "1c23a901",
   "metadata": {},
   "outputs": [],
   "source": [
    "work_location = tuple (work_location)"
   ]
  },
  {
   "cell_type": "code",
   "execution_count": null,
   "id": "544eb4fb",
   "metadata": {},
   "outputs": [],
   "source": [
    "work_location"
   ]
  },
  {
   "cell_type": "code",
   "execution_count": null,
   "id": "eda64840",
   "metadata": {},
   "outputs": [],
   "source": [
    "len(work_location)"
   ]
  },
  {
   "cell_type": "code",
   "execution_count": null,
   "id": "dd93fd83",
   "metadata": {},
   "outputs": [],
   "source": [
    "work_location[1]"
   ]
  },
  {
   "cell_type": "code",
   "execution_count": null,
   "id": "a52b5b09",
   "metadata": {},
   "outputs": [],
   "source": [
    "work_location [-2]"
   ]
  },
  {
   "cell_type": "code",
   "execution_count": null,
   "id": "db95c194",
   "metadata": {},
   "outputs": [],
   "source": [
    "numbers = (25,50,88,90,50)\n",
    "numbers"
   ]
  },
  {
   "cell_type": "code",
   "execution_count": null,
   "id": "e9d8ad47",
   "metadata": {},
   "outputs": [],
   "source": [
    "numbers.index(50)"
   ]
  },
  {
   "cell_type": "code",
   "execution_count": null,
   "id": "4662be8b",
   "metadata": {},
   "outputs": [],
   "source": [
    "numbers.count(50)"
   ]
  },
  {
   "cell_type": "code",
   "execution_count": null,
   "id": "71706a84",
   "metadata": {},
   "outputs": [],
   "source": [
    "Sets"
   ]
  },
  {
   "cell_type": "code",
   "execution_count": null,
   "id": "550bfd7a",
   "metadata": {},
   "outputs": [],
   "source": [
    "roll_numbers = set()"
   ]
  },
  {
   "cell_type": "code",
   "execution_count": null,
   "id": "b488363a",
   "metadata": {},
   "outputs": [],
   "source": [
    "type(roll_numbers)"
   ]
  },
  {
   "cell_type": "code",
   "execution_count": null,
   "id": "b15c3268",
   "metadata": {},
   "outputs": [],
   "source": [
    "roll_numbers.add(1)\n",
    "roll_number,2"
   ]
  },
  {
   "cell_type": "code",
   "execution_count": null,
   "id": "14d39d1b",
   "metadata": {},
   "outputs": [],
   "source": [
    "roll_numbers.add(2)\n",
    "roll_numbers"
   ]
  },
  {
   "cell_type": "code",
   "execution_count": null,
   "id": "7fe8bfe8",
   "metadata": {},
   "outputs": [],
   "source": [
    "roll_numbers.add(1)\n",
    "roll_numbers"
   ]
  },
  {
   "cell_type": "code",
   "execution_count": null,
   "id": "a4abd1f3",
   "metadata": {},
   "outputs": [],
   "source": [
    "remove_dups = [8,5,6,9,1,1,2,2,3,4,5,6,1,1,7,7]"
   ]
  },
  {
   "cell_type": "code",
   "execution_count": null,
   "id": "0b58a682",
   "metadata": {},
   "outputs": [],
   "source": [
    "dups_removed = set(remove_dups)\n",
    "dups_removed"
   ]
  },
  {
   "cell_type": "code",
   "execution_count": null,
   "id": "2e052a22",
   "metadata": {},
   "outputs": [],
   "source": [
    "dups_removed = list(dups_removed)"
   ]
  },
  {
   "cell_type": "code",
   "execution_count": null,
   "id": "30938613",
   "metadata": {},
   "outputs": [],
   "source": [
    "dups_removed"
   ]
  },
  {
   "cell_type": "markdown",
   "id": "25d637ae",
   "metadata": {},
   "source": [
    "Dictionary"
   ]
  },
  {
   "cell_type": "markdown",
   "id": "f3c270af",
   "metadata": {},
   "source": [
    "Constructing a Dictionary"
   ]
  },
  {
   "cell_type": "code",
   "execution_count": null,
   "id": "02463388",
   "metadata": {},
   "outputs": [],
   "source": [
    "my_dict = {'key1':'value1','key2':'value2'}"
   ]
  },
  {
   "cell_type": "code",
   "execution_count": null,
   "id": "35ed21f8",
   "metadata": {},
   "outputs": [],
   "source": [
    "my_dict"
   ]
  },
  {
   "cell_type": "code",
   "execution_count": null,
   "id": "224e1504",
   "metadata": {},
   "outputs": [],
   "source": [
    "my_dict['key2']"
   ]
  },
  {
   "cell_type": "code",
   "execution_count": 72,
   "id": "ed7b5e63",
   "metadata": {},
   "outputs": [],
   "source": [
    "my_dict = {'Roll_number':123,'Marks':[12,23,33],'Subject':['Computer','Maths','Science']}"
   ]
  },
  {
   "cell_type": "code",
   "execution_count": 73,
   "id": "c925b2aa",
   "metadata": {},
   "outputs": [
    {
     "data": {
      "text/plain": [
       "['Computer', 'Maths', 'Science']"
      ]
     },
     "execution_count": 73,
     "metadata": {},
     "output_type": "execute_result"
    }
   ],
   "source": [
    "my_dict['Subject']"
   ]
  },
  {
   "cell_type": "code",
   "execution_count": 74,
   "id": "846c9be7",
   "metadata": {},
   "outputs": [
    {
     "data": {
      "text/plain": [
       "'Maths'"
      ]
     },
     "execution_count": 74,
     "metadata": {},
     "output_type": "execute_result"
    }
   ],
   "source": [
    "my_dict['Subject'][1]"
   ]
  },
  {
   "cell_type": "code",
   "execution_count": 75,
   "id": "2b03b373",
   "metadata": {},
   "outputs": [
    {
     "data": {
      "text/plain": [
       "'COMPUTER'"
      ]
     },
     "execution_count": 75,
     "metadata": {},
     "output_type": "execute_result"
    }
   ],
   "source": [
    "my_dict['Subject'][0].upper()"
   ]
  },
  {
   "cell_type": "code",
   "execution_count": 76,
   "id": "0ffdbf45",
   "metadata": {},
   "outputs": [],
   "source": [
    "my_dict['Marks'][0]=my_dict['Marks'][0]+30"
   ]
  },
  {
   "cell_type": "code",
   "execution_count": 77,
   "id": "024d782f",
   "metadata": {},
   "outputs": [
    {
     "data": {
      "text/plain": [
       "[42, 23, 33]"
      ]
     },
     "execution_count": 77,
     "metadata": {},
     "output_type": "execute_result"
    }
   ],
   "source": [
    "my_dict['Marks']"
   ]
  },
  {
   "cell_type": "code",
   "execution_count": 78,
   "id": "b9ce7ac8",
   "metadata": {},
   "outputs": [],
   "source": [
    "my_dict['Marks'][2]+=20"
   ]
  },
  {
   "cell_type": "code",
   "execution_count": 79,
   "id": "6a81fb07",
   "metadata": {},
   "outputs": [
    {
     "data": {
      "text/plain": [
       "[42, 23, 53]"
      ]
     },
     "execution_count": 79,
     "metadata": {},
     "output_type": "execute_result"
    }
   ],
   "source": [
    "my_dict['Marks']"
   ]
  },
  {
   "cell_type": "code",
   "execution_count": 80,
   "id": "99489ff4",
   "metadata": {},
   "outputs": [],
   "source": [
    "my_dict['Marks'][2]-=3"
   ]
  },
  {
   "cell_type": "code",
   "execution_count": 81,
   "id": "2408ed43",
   "metadata": {},
   "outputs": [
    {
     "data": {
      "text/plain": [
       "[42, 23, 50]"
      ]
     },
     "execution_count": 81,
     "metadata": {},
     "output_type": "execute_result"
    }
   ],
   "source": [
    "my_dict['Marks']"
   ]
  },
  {
   "cell_type": "code",
   "execution_count": 82,
   "id": "301e8fd3",
   "metadata": {},
   "outputs": [],
   "source": [
    "my_dict['Year']='3rd'"
   ]
  },
  {
   "cell_type": "code",
   "execution_count": 83,
   "id": "3cf8c0c5",
   "metadata": {},
   "outputs": [
    {
     "data": {
      "text/plain": [
       "{'Roll_number': 123,\n",
       " 'Marks': [42, 23, 50],\n",
       " 'Subject': ['Computer', 'Maths', 'Science'],\n",
       " 'Year': '3rd'}"
      ]
     },
     "execution_count": 83,
     "metadata": {},
     "output_type": "execute_result"
    }
   ],
   "source": [
    "my_dict"
   ]
  },
  {
   "cell_type": "code",
   "execution_count": 87,
   "id": "18bf799e",
   "metadata": {},
   "outputs": [],
   "source": [
    "my_dict.update ({'Roll_number':100})"
   ]
  },
  {
   "cell_type": "code",
   "execution_count": 88,
   "id": "978bade6",
   "metadata": {},
   "outputs": [
    {
     "data": {
      "text/plain": [
       "{'Roll_number': 100,\n",
       " 'Marks': [42, 23, 50],\n",
       " 'Subject': ['Computer', 'Maths', 'Science'],\n",
       " 'Year': '3rd'}"
      ]
     },
     "execution_count": 88,
     "metadata": {},
     "output_type": "execute_result"
    }
   ],
   "source": [
    "my_dict"
   ]
  },
  {
   "cell_type": "code",
   "execution_count": 89,
   "id": "e8f4c5da",
   "metadata": {},
   "outputs": [
    {
     "data": {
      "text/plain": [
       "dict_keys(['Roll_number', 'Marks', 'Subject', 'Year'])"
      ]
     },
     "execution_count": 89,
     "metadata": {},
     "output_type": "execute_result"
    }
   ],
   "source": [
    "my_dict.keys()"
   ]
  },
  {
   "cell_type": "code",
   "execution_count": 90,
   "id": "af0fca4e",
   "metadata": {},
   "outputs": [
    {
     "data": {
      "text/plain": [
       "dict_values([100, [42, 23, 50], ['Computer', 'Maths', 'Science'], '3rd'])"
      ]
     },
     "execution_count": 90,
     "metadata": {},
     "output_type": "execute_result"
    }
   ],
   "source": [
    "my_dict.values()"
   ]
  },
  {
   "cell_type": "code",
   "execution_count": 91,
   "id": "cfad496d",
   "metadata": {},
   "outputs": [
    {
     "data": {
      "text/plain": [
       "dict_items([('Roll_number', 100), ('Marks', [42, 23, 50]), ('Subject', ['Computer', 'Maths', 'Science']), ('Year', '3rd')])"
      ]
     },
     "execution_count": 91,
     "metadata": {},
     "output_type": "execute_result"
    }
   ],
   "source": [
    "my_dict.items()"
   ]
  },
  {
   "cell_type": "markdown",
   "id": "9f149028",
   "metadata": {},
   "source": [
    "Branching (if/elif/else)"
   ]
  },
  {
   "cell_type": "code",
   "execution_count": 3,
   "id": "69df0033",
   "metadata": {},
   "outputs": [
    {
     "name": "stdout",
     "output_type": "stream",
     "text": [
      "It is something else\n"
     ]
    }
   ],
   "source": [
    "i = 12\n",
    "\n",
    "\n",
    "if i<10:\n",
    "    print(\"It is less than 10\")\n",
    "    \n",
    "else:\n",
    "    print(\"It is something else\")    "
   ]
  },
  {
   "cell_type": "code",
   "execution_count": 4,
   "id": "7a902086",
   "metadata": {},
   "outputs": [
    {
     "name": "stdout",
     "output_type": "stream",
     "text": [
      "It is something else\n"
     ]
    }
   ],
   "source": [
    "print(\"It is less than 10\") if i<10 else print (\"It is something else\")"
   ]
  },
  {
   "cell_type": "code",
   "execution_count": 8,
   "id": "4549afa7",
   "metadata": {},
   "outputs": [
    {
     "name": "stdout",
     "output_type": "stream",
     "text": [
      "You are eligible for free shipping\n"
     ]
    }
   ],
   "source": [
    "Item_1 = 550\n",
    "\n",
    "Item_2 = 50\n",
    "\n",
    "if (Item_1+Item_2)>500:\n",
    "    print(\"You are eligible for free shipping\")\n",
    "else:\n",
    "    extra = 500 - (Item_1+Item_2)\n",
    "    print('Please add', extra, 'Rs worth of an item for free shipping')\n"
   ]
  },
  {
   "cell_type": "code",
   "execution_count": 10,
   "id": "87f2af00",
   "metadata": {},
   "outputs": [
    {
     "name": "stdout",
     "output_type": "stream",
     "text": [
      "Both condition is false\n"
     ]
    }
   ],
   "source": [
    "a = 200\n",
    "\n",
    "b = 33\n",
    "\n",
    "c = 500\n",
    "\n",
    "if a>b and c<a:\n",
    "    print(\"Both conditions are true\")\n",
    "else:\n",
    "    print(\"Both condition is false\")"
   ]
  },
  {
   "cell_type": "code",
   "execution_count": 12,
   "id": "6503ba23",
   "metadata": {},
   "outputs": [
    {
     "name": "stdout",
     "output_type": "stream",
     "text": [
      "Atlease one condition is true\n"
     ]
    }
   ],
   "source": [
    "a = 200\n",
    "\n",
    "b = 33\n",
    "\n",
    "c = 500\n",
    "\n",
    "if a>b or c<a:\n",
    "    print(\"Atlease one condition is true\")\n",
    "else:\n",
    "    print(\"Both condition is false\")"
   ]
  },
  {
   "cell_type": "code",
   "execution_count": 18,
   "id": "e574c5f7",
   "metadata": {},
   "outputs": [
    {
     "name": "stdout",
     "output_type": "stream",
     "text": [
      "25 Fail - Better luck next time\n"
     ]
    }
   ],
   "source": [
    "marks = 25\n",
    "\n",
    "if marks>=60:\n",
    "    if marks >=70:\n",
    "        print(marks,'- Distinction')\n",
    "    else:\n",
    "        print(marks,'- First Class')\n",
    "elif marks<60 and marks>50:\n",
    "    print (marks,'-Second Class')\n",
    "    \n",
    "elif marks >= 35:\n",
    "    print (marks, '-Pass')\n",
    "    \n",
    "else:\n",
    "    print (marks, 'Fail - Better luck next time')       \n",
    "    "
   ]
  },
  {
   "cell_type": "code",
   "execution_count": 19,
   "id": "07ec7c57",
   "metadata": {},
   "outputs": [
    {
     "name": "stdout",
     "output_type": "stream",
     "text": [
      "B\n"
     ]
    }
   ],
   "source": [
    "num1=20\n",
    "num2=30\n",
    "\n",
    "if num1=='20':\n",
    "    print ('A')\n",
    "    \n",
    "elif num2>25:\n",
    "    print ('B')\n"
   ]
  },
  {
   "cell_type": "code",
   "execution_count": null,
   "id": "dc65ce7b",
   "metadata": {},
   "outputs": [],
   "source": []
  }
 ],
 "metadata": {
  "kernelspec": {
   "display_name": "Python 3 (ipykernel)",
   "language": "python",
   "name": "python3"
  },
  "language_info": {
   "codemirror_mode": {
    "name": "ipython",
    "version": 3
   },
   "file_extension": ".py",
   "mimetype": "text/x-python",
   "name": "python",
   "nbconvert_exporter": "python",
   "pygments_lexer": "ipython3",
   "version": "3.10.9"
  }
 },
 "nbformat": 4,
 "nbformat_minor": 5
}
