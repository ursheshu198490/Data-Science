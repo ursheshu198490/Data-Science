{
 "cells": [
  {
   "cell_type": "code",
   "execution_count": null,
   "id": "3ef0ad6b",
   "metadata": {},
   "outputs": [],
   "source": [
    "Indexing and Slicing"
   ]
  },
  {
   "cell_type": "code",
   "execution_count": 3,
   "id": "be981c9c",
   "metadata": {},
   "outputs": [],
   "source": [
    "import numpy as np"
   ]
  },
  {
   "cell_type": "code",
   "execution_count": 5,
   "id": "03c9d357",
   "metadata": {},
   "outputs": [
    {
     "name": "stdout",
     "output_type": "stream",
     "text": [
      "Array:  [13 14 15 16 17 18 19 20 21 22 23 24 25 26 27 28 29]\n"
     ]
    }
   ],
   "source": [
    "arr = np.arange(13,30)\n",
    "\n",
    "print(\"Array: \",arr)"
   ]
  },
  {
   "cell_type": "code",
   "execution_count": 6,
   "id": "75ec9173",
   "metadata": {},
   "outputs": [
    {
     "name": "stdout",
     "output_type": "stream",
     "text": [
      "Element at 7th index is :  20\n"
     ]
    }
   ],
   "source": [
    "print ('Element at 7th index is : ', arr[7])"
   ]
  },
  {
   "cell_type": "code",
   "execution_count": 8,
   "id": "870c0458",
   "metadata": {},
   "outputs": [
    {
     "name": "stdout",
     "output_type": "stream",
     "text": [
      "Element at index 2nd, 4th and 9th is  [15 17 22]\n"
     ]
    }
   ],
   "source": [
    "print (\"Element at index 2nd, 4th and 9th is \", arr[[2,4,9]]) #Pass a list as index to subset"
   ]
  },
  {
   "cell_type": "code",
   "execution_count": 9,
   "id": "6c6c6efb",
   "metadata": {},
   "outputs": [
    {
     "data": {
      "text/plain": [
       "array([[1, 2, 3],\n",
       "       [4, 5, 6],\n",
       "       [7, 8, 9]])"
      ]
     },
     "execution_count": 9,
     "metadata": {},
     "output_type": "execute_result"
    }
   ],
   "source": [
    "my_mat = [1,2,3] , [4,5,6] , [7,8,9]\n",
    "\n",
    "mat = np.array(my_mat)\n",
    "\n",
    "mat"
   ]
  },
  {
   "cell_type": "code",
   "execution_count": 10,
   "id": "69fcc101",
   "metadata": {},
   "outputs": [
    {
     "name": "stdout",
     "output_type": "stream",
     "text": [
      "\n",
      "Double break indexing\n",
      "----------\n",
      "Element in row index 1 and column 2:  6\n"
     ]
    }
   ],
   "source": [
    "print(\"\\nDouble break indexing\\n----------\")\n",
    "print(\"Element in row index 1 and column 2: \", mat[1][2])"
   ]
  },
  {
   "cell_type": "code",
   "execution_count": 11,
   "id": "45a7f967",
   "metadata": {},
   "outputs": [
    {
     "data": {
      "text/plain": [
       "array([[1, 2, 3],\n",
       "       [4, 5, 6],\n",
       "       [7, 8, 9]])"
      ]
     },
     "execution_count": 11,
     "metadata": {},
     "output_type": "execute_result"
    }
   ],
   "source": [
    "mat"
   ]
  },
  {
   "cell_type": "code",
   "execution_count": 14,
   "id": "4cffa0a7",
   "metadata": {},
   "outputs": [
    {
     "name": "stdout",
     "output_type": "stream",
     "text": [
      "Entire row at index 2:  [7 8 9]\n",
      " \n",
      "Entire column at index:\n",
      "  [[2 3]\n",
      " [5 6]\n",
      " [8 9]]\n"
     ]
    }
   ],
   "source": [
    "print(\"Entire row at index 2: \", mat[2])\n",
    "print(\"\\nEntire column at index:\\n \", mat[:,1:])"
   ]
  },
  {
   "cell_type": "code",
   "execution_count": 23,
   "id": "25cbca79",
   "metadata": {},
   "outputs": [
    {
     "name": "stdout",
     "output_type": "stream",
     "text": [
      "\n",
      "Subsetting sub matrices\n",
      "---------------\n",
      "Matrix with row indices 1 and 2 and column indices 3 and 4\n",
      " [[5]]\n"
     ]
    }
   ],
   "source": [
    "print(\"\\nSubsetting sub matrices\\n---------------\")\n",
    "print(\"Matrix with row indices 1 and 2 and column indices 3 and 4\\n\", mat[1:2,1:2])"
   ]
  },
  {
   "cell_type": "code",
   "execution_count": 24,
   "id": "84e58600",
   "metadata": {},
   "outputs": [
    {
     "data": {
      "text/plain": [
       "array([[1, 2, 3],\n",
       "       [4, 5, 6],\n",
       "       [7, 8, 9]])"
      ]
     },
     "execution_count": 24,
     "metadata": {},
     "output_type": "execute_result"
    }
   ],
   "source": [
    "mat"
   ]
  },
  {
   "cell_type": "code",
   "execution_count": 32,
   "id": "f69b95dd",
   "metadata": {},
   "outputs": [
    {
     "name": "stdout",
     "output_type": "stream",
     "text": [
      " [[2]\n",
      " [5]]\n"
     ]
    }
   ],
   "source": [
    "print(\"\",mat[0:2,1:2])"
   ]
  },
  {
   "cell_type": "code",
   "execution_count": null,
   "id": "d68176c0",
   "metadata": {},
   "outputs": [],
   "source": [
    "Update Matrix"
   ]
  },
  {
   "cell_type": "code",
   "execution_count": 34,
   "id": "969d0f29",
   "metadata": {},
   "outputs": [
    {
     "name": "stdout",
     "output_type": "stream",
     "text": [
      "Original Matrix \n",
      "\n",
      " [[1 2 3]\n",
      " [4 5 6]\n",
      " [7 8 9]]\n"
     ]
    }
   ],
   "source": [
    "print (\"Original Matrix \\n\\n\",mat)"
   ]
  },
  {
   "cell_type": "code",
   "execution_count": 35,
   "id": "b8bc758f",
   "metadata": {},
   "outputs": [
    {
     "name": "stdout",
     "output_type": "stream",
     "text": [
      "[[ 1 35  3]\n",
      " [ 4  5  6]\n",
      " [ 7  8  9]]\n"
     ]
    }
   ],
   "source": [
    "mat[0,1]=35\n",
    "print(mat)"
   ]
  },
  {
   "cell_type": "code",
   "execution_count": 36,
   "id": "70cc5c08",
   "metadata": {},
   "outputs": [
    {
     "name": "stdout",
     "output_type": "stream",
     "text": [
      "[[ 1 35  3]\n",
      " [ 4  5  6]\n",
      " [ 7  8 10]]\n"
     ]
    }
   ],
   "source": [
    "mat[2,2]=10\n",
    "print(mat)"
   ]
  },
  {
   "cell_type": "code",
   "execution_count": 40,
   "id": "824ba50b",
   "metadata": {},
   "outputs": [],
   "source": [
    "mat[0,0:3]=10"
   ]
  },
  {
   "cell_type": "code",
   "execution_count": 41,
   "id": "01ba9140",
   "metadata": {},
   "outputs": [
    {
     "name": "stdout",
     "output_type": "stream",
     "text": [
      "[[10 10 10]\n",
      " [25 25 25]\n",
      " [ 7  8 10]]\n"
     ]
    }
   ],
   "source": [
    "print(mat)"
   ]
  },
  {
   "cell_type": "code",
   "execution_count": 42,
   "id": "f9aed6b8",
   "metadata": {},
   "outputs": [
    {
     "name": "stdout",
     "output_type": "stream",
     "text": [
      "[[10 10 10]\n",
      " [25 25 25]\n",
      " [ 7  8 10]]\n"
     ]
    }
   ],
   "source": [
    "mat [1,:] = 25 \n",
    "print(mat)"
   ]
  },
  {
   "cell_type": "code",
   "execution_count": null,
   "id": "b4dda946",
   "metadata": {},
   "outputs": [],
   "source": [
    "Subseting"
   ]
  },
  {
   "cell_type": "code",
   "execution_count": 43,
   "id": "fb449474",
   "metadata": {},
   "outputs": [],
   "source": [
    "from numpy.random import randint as ri"
   ]
  },
  {
   "cell_type": "code",
   "execution_count": 49,
   "id": "4078c621",
   "metadata": {},
   "outputs": [],
   "source": [
    "mat = np.array(ri(10,100,15)).reshape(3,5)"
   ]
  },
  {
   "cell_type": "code",
   "execution_count": 52,
   "id": "f55fb82a",
   "metadata": {},
   "outputs": [
    {
     "name": "stdout",
     "output_type": "stream",
     "text": [
      "Matrix of two digit numbers--------\n",
      "\n",
      " [[38 43 97 94 82]\n",
      " [78 49 79 48 28]\n",
      " [82 99 65 23 36]]\n"
     ]
    }
   ],
   "source": [
    "print(\"Matrix of two digit numbers--------\\n\\n\", mat)"
   ]
  },
  {
   "cell_type": "code",
   "execution_count": 53,
   "id": "32360475",
   "metadata": {},
   "outputs": [
    {
     "data": {
      "text/plain": [
       "array([[False, False,  True,  True,  True],\n",
       "       [ True, False,  True, False, False],\n",
       "       [ True,  True,  True, False, False]])"
      ]
     },
     "execution_count": 53,
     "metadata": {},
     "output_type": "execute_result"
    }
   ],
   "source": [
    "mat>50"
   ]
  },
  {
   "cell_type": "code",
   "execution_count": 55,
   "id": "46f708d8",
   "metadata": {},
   "outputs": [
    {
     "name": "stdout",
     "output_type": "stream",
     "text": [
      "Marks higher than 50--------\n",
      " [97 94 82 78 79 82 99 65]\n"
     ]
    }
   ],
   "source": [
    "print (\"Marks higher than 50--------\\n\", mat[mat>50])"
   ]
  },
  {
   "cell_type": "code",
   "execution_count": 56,
   "id": "30c893b8",
   "metadata": {},
   "outputs": [
    {
     "data": {
      "text/plain": [
       "array('Pass', dtype='<U4')"
      ]
     },
     "execution_count": 56,
     "metadata": {},
     "output_type": "execute_result"
    }
   ],
   "source": [
    "# you can also use np.where to return some data based on condition\n",
    "\n",
    "marks = 70\n",
    "np.where(marks>68, \"Pass\",\"Fail\")"
   ]
  },
  {
   "cell_type": "code",
   "execution_count": 59,
   "id": "aac94c99",
   "metadata": {},
   "outputs": [
    {
     "name": "stdout",
     "output_type": "stream",
     "text": [
      "[25 16 36 25  0  9 18 19 43  7 46 14 19 40  4 26 35 20 34 21  9 17 47 25\n",
      " 42 41 37  0 10 21 18 39 17 37 38  5 18 17  2 44 16 17 38 42 46 37 40 43\n",
      " 10 26 46  0 18  1 48 39 17 10 30 15 30 17 42 27 39 22  6 46  3  8 19  5\n",
      " 38 40 16 36  4 10  0  0 31 47 16 27  3 44 40 38 17 36  2 24  3 13 28 45\n",
      "  0 49 30 18]\n"
     ]
    },
    {
     "data": {
      "text/plain": [
       "94"
      ]
     },
     "execution_count": 59,
     "metadata": {},
     "output_type": "execute_result"
    }
   ],
   "source": [
    "# Check non zeros\n",
    "\n",
    "non_zero = ri(0,50,100)\n",
    "\n",
    "print(non_zero)\n",
    "\n",
    "np.count_nonzero(non_zero)"
   ]
  },
  {
   "cell_type": "code",
   "execution_count": 62,
   "id": "d7228bce",
   "metadata": {},
   "outputs": [
    {
     "name": "stdout",
     "output_type": "stream",
     "text": [
      "[[19  4  4 11]\n",
      " [11  6  4  3]\n",
      " [14 15  0 12]]\n"
     ]
    },
    {
     "data": {
      "text/plain": [
       "array([19,  4,  4, 11, 11,  6,  4,  3, 14, 15,  0, 12])"
      ]
     },
     "execution_count": 62,
     "metadata": {},
     "output_type": "execute_result"
    }
   ],
   "source": [
    "# Ravel or Flatten (this concept is used in deep learning for image processing)\n",
    "array = ri (0, 20, size = (3,4))\n",
    "print (array)\n",
    "\n",
    "array.ravel()"
   ]
  },
  {
   "cell_type": "code",
   "execution_count": 64,
   "id": "0af67267",
   "metadata": {},
   "outputs": [
    {
     "data": {
      "text/plain": [
       "array([19,  4,  4, 11, 11,  6,  4,  3, 14, 15,  0, 12])"
      ]
     },
     "execution_count": 64,
     "metadata": {},
     "output_type": "execute_result"
    }
   ],
   "source": [
    "#or flatten is the same\n",
    "array.flatten()"
   ]
  },
  {
   "cell_type": "code",
   "execution_count": null,
   "id": "7706e28c",
   "metadata": {},
   "outputs": [],
   "source": [
    "Universal functions"
   ]
  },
  {
   "cell_type": "code",
   "execution_count": 66,
   "id": "adc8242e",
   "metadata": {},
   "outputs": [
    {
     "name": "stdout",
     "output_type": "stream",
     "text": [
      "\n",
      "1st matrix of random single digit number\n",
      "----------\n",
      " [[8 8 1]\n",
      " [5 5 6]\n",
      " [5 9 3]]\n",
      "\n",
      "2nd matrix of random single digit number\n",
      "----------\n",
      " [[8 2 8]\n",
      " [1 5 9]\n",
      " [6 4 7]]\n"
     ]
    }
   ],
   "source": [
    "mat1 = np.array(ri(1,10,9)). reshape(3,3)\n",
    "\n",
    "mat2 = np.array(ri(1,10,9)). reshape(3,3)\n",
    "\n",
    "print(\"\\n1st matrix of random single digit number\\n----------\\n\", mat1)\n",
    "print(\"\\n2nd matrix of random single digit number\\n----------\\n\", mat2)"
   ]
  },
  {
   "cell_type": "code",
   "execution_count": 67,
   "id": "7385d2ea",
   "metadata": {},
   "outputs": [
    {
     "name": "stdout",
     "output_type": "stream",
     "text": [
      "\n",
      "Addition\n",
      "-----------\n",
      " [[16 10  9]\n",
      " [ 6 10 15]\n",
      " [11 13 10]]\n"
     ]
    }
   ],
   "source": [
    "print(\"\\nAddition\\n-----------\\n\",mat1+mat2)"
   ]
  },
  {
   "cell_type": "code",
   "execution_count": 68,
   "id": "feaa43d3",
   "metadata": {},
   "outputs": [
    {
     "name": "stdout",
     "output_type": "stream",
     "text": [
      "\n",
      "Multiplication\n",
      "------\n",
      " [[64 16  8]\n",
      " [ 5 25 54]\n",
      " [30 36 21]]\n"
     ]
    }
   ],
   "source": [
    "print(\"\\nMultiplication\\n------\\n\", mat1*mat2)"
   ]
  },
  {
   "cell_type": "code",
   "execution_count": null,
   "id": "317c5e9d",
   "metadata": {},
   "outputs": [],
   "source": [
    "Broadcasting"
   ]
  },
  {
   "cell_type": "code",
   "execution_count": 70,
   "id": "9b9fc4ce",
   "metadata": {},
   "outputs": [
    {
     "name": "stdout",
     "output_type": "stream",
     "text": [
      "[[0. 0. 0.]\n",
      " [0. 0. 0.]\n",
      " [0. 0. 0.]]\n"
     ]
    }
   ],
   "source": [
    "start = np.zeros((3,3))\n",
    "print (start)"
   ]
  },
  {
   "cell_type": "code",
   "execution_count": 71,
   "id": "043534a9",
   "metadata": {},
   "outputs": [
    {
     "name": "stdout",
     "output_type": "stream",
     "text": [
      "[1 0 2]\n"
     ]
    }
   ],
   "source": [
    "add_rows = np.array([1,0,2])\n",
    "print(add_rows)"
   ]
  },
  {
   "cell_type": "code",
   "execution_count": 75,
   "id": "f1083a56",
   "metadata": {},
   "outputs": [
    {
     "data": {
      "text/plain": [
       "array([[1., 0., 2.],\n",
       "       [1., 0., 2.],\n",
       "       [1., 0., 2.]])"
      ]
     },
     "execution_count": 75,
     "metadata": {},
     "output_type": "execute_result"
    }
   ],
   "source": [
    "y = start + add_rows #add to each row of start using broadcasting\n",
    "print(y)"
   ]
  },
  {
   "cell_type": "code",
   "execution_count": 76,
   "id": "0609552a",
   "metadata": {},
   "outputs": [
    {
     "data": {
      "text/plain": [
       "array([1, 0, 2])"
      ]
     },
     "execution_count": 76,
     "metadata": {},
     "output_type": "execute_result"
    }
   ],
   "source": [
    "new_row=add_rows.T\n",
    "new_row"
   ]
  },
  {
   "cell_type": "code",
   "execution_count": 78,
   "id": "4eea8e1a",
   "metadata": {},
   "outputs": [
    {
     "name": "stdout",
     "output_type": "stream",
     "text": [
      "[[1. 0. 2.]\n",
      " [1. 0. 2.]\n",
      " [1. 0. 2.]]\n"
     ]
    }
   ],
   "source": [
    "test = start + new_row\n",
    "print (test)"
   ]
  },
  {
   "cell_type": "code",
   "execution_count": null,
   "id": "2c9e3691",
   "metadata": {},
   "outputs": [],
   "source": []
  }
 ],
 "metadata": {
  "kernelspec": {
   "display_name": "Python 3 (ipykernel)",
   "language": "python",
   "name": "python3"
  },
  "language_info": {
   "codemirror_mode": {
    "name": "ipython",
    "version": 3
   },
   "file_extension": ".py",
   "mimetype": "text/x-python",
   "name": "python",
   "nbconvert_exporter": "python",
   "pygments_lexer": "ipython3",
   "version": "3.10.9"
  }
 },
 "nbformat": 4,
 "nbformat_minor": 5
}
