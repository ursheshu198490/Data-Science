{
 "cells": [
  {
   "cell_type": "code",
   "execution_count": 1,
   "id": "885fda6a",
   "metadata": {},
   "outputs": [
    {
     "name": "stdout",
     "output_type": "stream",
     "text": [
      "120\n"
     ]
    }
   ],
   "source": [
    "def factorial (n):\n",
    "    if n == 0:\n",
    "        return 1 # Base case factorial 0 is 1\n",
    "    else:\n",
    "        return n * factorial (n-1) #Recursive case: factorial(n)= n * n-1\n",
    "    \n",
    "result = factorial (5) # 5! = 5 * 4 * 3 * 2 * 1 = 120\n",
    "print (result)"
   ]
  },
  {
   "cell_type": "code",
   "execution_count": 8,
   "id": "ce7dd6a3",
   "metadata": {},
   "outputs": [
    {
     "name": "stdout",
     "output_type": "stream",
     "text": [
      "15\n"
     ]
    }
   ],
   "source": [
    "def recursive_sum (arr, n):\n",
    "    if n == 0:\n",
    "        return 0 # Base case when there are no elements to add, return 0\n",
    "    else:\n",
    "        return arr [n-1] + recursive_sum(arr, n-1) # Recursive case: Add the last element and call with\n",
    "    \n",
    "# Example usage\n",
    "my_array = [1, 2, 3, 4, 5]\n",
    "result = recursive_sum(my_array,len(my_array))\n",
    "print(result)"
   ]
  },
  {
   "cell_type": "code",
   "execution_count": 7,
   "id": "de8e5774",
   "metadata": {},
   "outputs": [
    {
     "name": "stdout",
     "output_type": "stream",
     "text": [
      "35\n"
     ]
    }
   ],
   "source": [
    "def recursive_sum (arr,n):\n",
    "    if n== 0:\n",
    "        return 0\n",
    "    else:\n",
    "        return arr[n-1] + recursive_sum(arr, n-1)\n",
    "    \n",
    "my_array = [5, 6, 7, 8, 9]\n",
    "result = recursive_sum (my_array, len(my_array))\n",
    "print (result)"
   ]
  },
  {
   "cell_type": "code",
   "execution_count": 10,
   "id": "0d4ae610",
   "metadata": {},
   "outputs": [
    {
     "name": "stdout",
     "output_type": "stream",
     "text": [
      "35\n"
     ]
    }
   ],
   "source": [
    "def iterative_sum(arr):\n",
    "    sum_result = 0\n",
    "    for num in arr:\n",
    "        sum_result = sum_result + num\n",
    "    return sum_result\n",
    "\n",
    "my_array = [5, 6, 7, 8, 9]\n",
    "result = iterative_sum(my_array)\n",
    "print (result)"
   ]
  },
  {
   "cell_type": "code",
   "execution_count": null,
   "id": "d7b268c4",
   "metadata": {},
   "outputs": [],
   "source": [
    "Disadvantages of Recursion"
   ]
  },
  {
   "cell_type": "code",
   "execution_count": null,
   "id": "bd2e243b",
   "metadata": {},
   "outputs": [],
   "source": [
    "Storing the numbers and can give Recursion error"
   ]
  },
  {
   "cell_type": "code",
   "execution_count": 2,
   "id": "571be121",
   "metadata": {},
   "outputs": [
    {
     "ename": "NameError",
     "evalue": "name 'factorial' is not defined",
     "output_type": "error",
     "traceback": [
      "\u001b[1;31m---------------------------------------------------------------------------\u001b[0m",
      "\u001b[1;31mNameError\u001b[0m                                 Traceback (most recent call last)",
      "Cell \u001b[1;32mIn[2], line 1\u001b[0m\n\u001b[1;32m----> 1\u001b[0m \u001b[43mfactorial\u001b[49m(\u001b[38;5;241m10000\u001b[39m)\n",
      "\u001b[1;31mNameError\u001b[0m: name 'factorial' is not defined"
     ]
    }
   ],
   "source": [
    "factorial(10000)"
   ]
  },
  {
   "cell_type": "code",
   "execution_count": null,
   "id": "247945ac",
   "metadata": {},
   "outputs": [],
   "source": []
  }
 ],
 "metadata": {
  "kernelspec": {
   "display_name": "Python 3 (ipykernel)",
   "language": "python",
   "name": "python3"
  },
  "language_info": {
   "codemirror_mode": {
    "name": "ipython",
    "version": 3
   },
   "file_extension": ".py",
   "mimetype": "text/x-python",
   "name": "python",
   "nbconvert_exporter": "python",
   "pygments_lexer": "ipython3",
   "version": "3.10.9"
  }
 },
 "nbformat": 4,
 "nbformat_minor": 5
}
