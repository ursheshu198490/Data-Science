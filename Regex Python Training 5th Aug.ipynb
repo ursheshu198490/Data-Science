{
 "cells": [
  {
   "cell_type": "code",
   "execution_count": null,
   "id": "8438f454",
   "metadata": {},
   "outputs": [],
   "source": [
    "Findall - Returns a list containing all matches"
   ]
  },
  {
   "cell_type": "code",
   "execution_count": 3,
   "id": "21871a1a",
   "metadata": {},
   "outputs": [
    {
     "name": "stdout",
     "output_type": "stream",
     "text": [
      "['Data Science', 'Data Science']\n"
     ]
    }
   ],
   "source": [
    "import re\n",
    "\n",
    "pattern = \"Data Science\"\n",
    "text = \"Data Science is a stream and it is a part of AI. You can solve many complex problems using Data Science tools and techs\"\n",
    "\n",
    "matches = re.findall(pattern, text)\n",
    "print (matches)"
   ]
  },
  {
   "cell_type": "code",
   "execution_count": null,
   "id": "f545e0c7",
   "metadata": {},
   "outputs": [],
   "source": [
    "Extracting digits from a string"
   ]
  },
  {
   "cell_type": "code",
   "execution_count": 4,
   "id": "983b2cf3",
   "metadata": {},
   "outputs": [
    {
     "name": "stdout",
     "output_type": "stream",
     "text": [
      "['123', '456']\n"
     ]
    }
   ],
   "source": [
    "pattern = \"\\d+\"\n",
    "text = \"There are 123 apples and 456 oranges.\"\n",
    "\n",
    "matches = re.findall(pattern,text)\n",
    "print(matches)"
   ]
  },
  {
   "cell_type": "code",
   "execution_count": 5,
   "id": "6cc82f3c",
   "metadata": {},
   "outputs": [
    {
     "name": "stdout",
     "output_type": "stream",
     "text": [
      "['50']\n",
      "['60']\n",
      "['150']\n"
     ]
    }
   ],
   "source": [
    "# Extract digits from a list of string\n",
    "\n",
    "price = ['Apple costs Rs 50', 'Pineapple costs Rs 60', 'Watermelon cost Rs 150']\n",
    "for msg in price:\n",
    "    matches = re.findall(\"\\d+\",msg)\n",
    "    print(matches)"
   ]
  },
  {
   "cell_type": "code",
   "execution_count": 6,
   "id": "8df2a29c",
   "metadata": {},
   "outputs": [
    {
     "name": "stdout",
     "output_type": "stream",
     "text": [
      "<re.Match object; span=(6, 11), match='China'>\n"
     ]
    }
   ],
   "source": [
    "test = \"India China USA\"\n",
    "x = re.search(\"China\",test)\n",
    "print(x)"
   ]
  },
  {
   "cell_type": "code",
   "execution_count": 10,
   "id": "3ca54cd8",
   "metadata": {},
   "outputs": [
    {
     "name": "stdout",
     "output_type": "stream",
     "text": [
      "None\n",
      "None\n",
      "<re.Match object; span=(11, 17), match='banana'>\n",
      "<re.Match object; span=(63, 69), match='banana'>\n",
      "None\n"
     ]
    }
   ],
   "source": [
    "msges = ['Bananas are not only very delicious pieces of fruit',\n",
    "         'they are also super healthy',\n",
    "         'Eating two bananas a day can do wonders to your health.',\n",
    "         'for example. But did you ever think of putting a needle into a bananas. Probably not?',\n",
    "         'but you should, because its super handy']\n",
    "\n",
    "for msg in msges:\n",
    "    search = re.search(\"banana\", msg)\n",
    "    print (search)"
   ]
  },
  {
   "cell_type": "code",
   "execution_count": 16,
   "id": "5e9af7a8",
   "metadata": {},
   "outputs": [
    {
     "name": "stdout",
     "output_type": "stream",
     "text": [
      "<re.Match object; span=(0, 28), match='This product is really Great'>\n"
     ]
    }
   ],
   "source": [
    "msg1 = 'This product is really Great'\n",
    "\n",
    "msg2 = 'This product is really not that great right'\n",
    "\n",
    "search = re.search(\"^This.*Great$\",msg1)\n",
    "print(search)"
   ]
  },
  {
   "cell_type": "code",
   "execution_count": null,
   "id": "0d351d05",
   "metadata": {},
   "outputs": [],
   "source": [
    "Split"
   ]
  },
  {
   "cell_type": "code",
   "execution_count": 17,
   "id": "64a440d5",
   "metadata": {},
   "outputs": [
    {
     "name": "stdout",
     "output_type": "stream",
     "text": [
      "['India', 'is', 'a', 'beautiful', 'country']\n"
     ]
    }
   ],
   "source": [
    "#Split at each white space character(\\s is split by space)\n",
    "\n",
    "text = 'India is a beautiful country'\n",
    "x = re.split(\"\\s\",text)\n",
    "print (x)"
   ]
  },
  {
   "cell_type": "code",
   "execution_count": 18,
   "id": "b8b3c3ce",
   "metadata": {},
   "outputs": [
    {
     "name": "stdout",
     "output_type": "stream",
     "text": [
      "['How', 'is this possible']\n"
     ]
    }
   ],
   "source": [
    "# Start splitting by position\n",
    "\n",
    "split_by_position = \"How is this possible\"\n",
    "x = re.split(\"\\s\", split_by_position,1)\n",
    "print (x)"
   ]
  },
  {
   "cell_type": "code",
   "execution_count": null,
   "id": "d88500ad",
   "metadata": {},
   "outputs": [],
   "source": [
    "sub means substitute"
   ]
  },
  {
   "cell_type": "code",
   "execution_count": 19,
   "id": "13fadcde",
   "metadata": {},
   "outputs": [
    {
     "name": "stdout",
     "output_type": "stream",
     "text": [
      "This===function===replaces===spaces===by===assigned===char\n"
     ]
    }
   ],
   "source": [
    "sub_ = \"This function replaces spaces by assigned char\"\n",
    "x = re.sub(\"\\s\", '===', sub_)\n",
    "print(x)"
   ]
  },
  {
   "cell_type": "code",
   "execution_count": 20,
   "id": "4895ca5e",
   "metadata": {},
   "outputs": [
    {
     "name": "stdout",
     "output_type": "stream",
     "text": [
      "This item costs $ 2500\n"
     ]
    }
   ],
   "source": [
    "y = 'Rs'\n",
    "z = r\"[oe]\"\n",
    "text = \"This item costs Rs 2500\"\n",
    "\n",
    "replaced_text = re.sub(y,\"$\",text)\n",
    "print(replaced_text)"
   ]
  },
  {
   "cell_type": "code",
   "execution_count": 21,
   "id": "5f5da9e5",
   "metadata": {},
   "outputs": [
    {
     "name": "stdout",
     "output_type": "stream",
     "text": [
      "This it$m c$sts Rs 2500\n"
     ]
    }
   ],
   "source": [
    "y = 'Rs'\n",
    "z = r\"[oe]\"\n",
    "text = \"This item costs Rs 2500\"\n",
    "\n",
    "replaced_text1 = re.sub(z,\"$\",text)\n",
    "print(replaced_text1)"
   ]
  },
  {
   "cell_type": "code",
   "execution_count": null,
   "id": "77bb429a",
   "metadata": {},
   "outputs": [],
   "source": []
  }
 ],
 "metadata": {
  "kernelspec": {
   "display_name": "Python 3 (ipykernel)",
   "language": "python",
   "name": "python3"
  },
  "language_info": {
   "codemirror_mode": {
    "name": "ipython",
    "version": 3
   },
   "file_extension": ".py",
   "mimetype": "text/x-python",
   "name": "python",
   "nbconvert_exporter": "python",
   "pygments_lexer": "ipython3",
   "version": "3.10.9"
  }
 },
 "nbformat": 4,
 "nbformat_minor": 5
}
