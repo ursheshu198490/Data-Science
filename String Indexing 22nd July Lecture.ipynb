{
 "cells": [
  {
   "cell_type": "code",
   "execution_count": 1,
   "id": "85d9ace8",
   "metadata": {},
   "outputs": [
    {
     "name": "stdout",
     "output_type": "stream",
     "text": [
      "This Batch Rocks\n"
     ]
    }
   ],
   "source": [
    "s= 'This Batch Rocks'\n",
    "\n",
    "print (s)"
   ]
  },
  {
   "cell_type": "code",
   "execution_count": 2,
   "id": "2f504e93",
   "metadata": {},
   "outputs": [
    {
     "data": {
      "text/plain": [
       "'T'"
      ]
     },
     "execution_count": 2,
     "metadata": {},
     "output_type": "execute_result"
    }
   ],
   "source": [
    "s [0]"
   ]
  },
  {
   "cell_type": "code",
   "execution_count": 3,
   "id": "dafa3872",
   "metadata": {},
   "outputs": [
    {
     "data": {
      "text/plain": [
       "'his Batch Rocks'"
      ]
     },
     "execution_count": 3,
     "metadata": {},
     "output_type": "execute_result"
    }
   ],
   "source": [
    "s [1:]"
   ]
  },
  {
   "cell_type": "code",
   "execution_count": 4,
   "id": "1b9a2192",
   "metadata": {},
   "outputs": [
    {
     "data": {
      "text/plain": [
       "'s Bat'"
      ]
     },
     "execution_count": 4,
     "metadata": {},
     "output_type": "execute_result"
    }
   ],
   "source": [
    "s[3:8]"
   ]
  },
  {
   "cell_type": "code",
   "execution_count": 5,
   "id": "dbc0f3a0",
   "metadata": {},
   "outputs": [
    {
     "data": {
      "text/plain": [
       "'s'"
      ]
     },
     "execution_count": 5,
     "metadata": {},
     "output_type": "execute_result"
    }
   ],
   "source": [
    "s[-1]"
   ]
  },
  {
   "cell_type": "code",
   "execution_count": 6,
   "id": "19e7c5c4",
   "metadata": {},
   "outputs": [
    {
     "data": {
      "text/plain": [
       "'This Batch Rock'"
      ]
     },
     "execution_count": 6,
     "metadata": {},
     "output_type": "execute_result"
    }
   ],
   "source": [
    "s[:-1]"
   ]
  },
  {
   "cell_type": "code",
   "execution_count": 8,
   "id": "b0f50376",
   "metadata": {},
   "outputs": [
    {
     "data": {
      "text/plain": [
       "'h Ro'"
      ]
     },
     "execution_count": 8,
     "metadata": {},
     "output_type": "execute_result"
    }
   ],
   "source": [
    "s[9:13]"
   ]
  },
  {
   "cell_type": "code",
   "execution_count": 9,
   "id": "cd7c1b3d",
   "metadata": {},
   "outputs": [
    {
     "data": {
      "text/plain": [
       "'Ti ac ok'"
      ]
     },
     "execution_count": 9,
     "metadata": {},
     "output_type": "execute_result"
    }
   ],
   "source": [
    "s [::2]"
   ]
  },
  {
   "cell_type": "code",
   "execution_count": 10,
   "id": "96590077",
   "metadata": {},
   "outputs": [
    {
     "data": {
      "text/plain": [
       "'scRhtBsh'"
      ]
     },
     "execution_count": 10,
     "metadata": {},
     "output_type": "execute_result"
    }
   ],
   "source": [
    "s[::-2]"
   ]
  },
  {
   "cell_type": "code",
   "execution_count": 11,
   "id": "c0573b4e",
   "metadata": {},
   "outputs": [
    {
     "data": {
      "text/plain": [
       "'This Batch Rocks'"
      ]
     },
     "execution_count": 11,
     "metadata": {},
     "output_type": "execute_result"
    }
   ],
   "source": [
    "s[::]"
   ]
  },
  {
   "cell_type": "code",
   "execution_count": null,
   "id": "d7d6425e",
   "metadata": {},
   "outputs": [],
   "source": []
  }
 ],
 "metadata": {
  "kernelspec": {
   "display_name": "Python 3 (ipykernel)",
   "language": "python",
   "name": "python3"
  },
  "language_info": {
   "codemirror_mode": {
    "name": "ipython",
    "version": 3
   },
   "file_extension": ".py",
   "mimetype": "text/x-python",
   "name": "python",
   "nbconvert_exporter": "python",
   "pygments_lexer": "ipython3",
   "version": "3.10.9"
  }
 },
 "nbformat": 4,
 "nbformat_minor": 5
}
