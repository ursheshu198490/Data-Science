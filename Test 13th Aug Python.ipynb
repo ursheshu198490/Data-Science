{
 "cells": [
  {
   "cell_type": "code",
   "execution_count": 1,
   "id": "462088e6",
   "metadata": {},
   "outputs": [],
   "source": [
    "import pandas as pd\n",
    "import numpy as np"
   ]
  },
  {
   "cell_type": "markdown",
   "id": "323098e4",
   "metadata": {},
   "source": [
    "Question 1:\n",
    "\n",
    "A company employees getting salary as 22500, 50005, 45000, 19350, 25000, 10250, 15505. Write a program to store only \n",
    "those salary which are less than 25000 and display all the saved salary"
   ]
  },
  {
   "cell_type": "code",
   "execution_count": 2,
   "id": "20b7d7bb",
   "metadata": {},
   "outputs": [],
   "source": [
    "salary = [22500, 50005, 45000, 19350, 25000, 10250, 15505]"
   ]
  },
  {
   "cell_type": "code",
   "execution_count": 3,
   "id": "6d1e3e83",
   "metadata": {},
   "outputs": [
    {
     "name": "stdout",
     "output_type": "stream",
     "text": [
      "[22500, 19350, 10250, 15505]\n"
     ]
    }
   ],
   "source": [
    "less_salary = [] #empty list to store data in future\n",
    "\n",
    "for sal in salary:\n",
    "    if sal<25000:\n",
    "        less_salary.append(sal) #adding salary to list\n",
    "        \n",
    "print(less_salary)"
   ]
  },
  {
   "cell_type": "markdown",
   "id": "ec4fefaf",
   "metadata": {},
   "source": [
    "Question 2"
   ]
  },
  {
   "cell_type": "markdown",
   "id": "85d0dbd1",
   "metadata": {},
   "source": [
    "In a startup company one of the employee Rohit forgot his salary and request HR to tell his salary. Write a program to\n",
    "fetch only Rohit's salary and print below output from python code\n",
    "\n",
    "Dear Rohit your salary is 5000.\n",
    "Employee name and their salaries respectively.\n",
    "\n",
    "emp_salary = [2000, 4000, 5000, 6000, 6500, 5200]\n",
    "emp_Name = [\"Farhad\",\"Shankar\",\"Rohit\",\"Astha\",\"Shital\",\"Abhishek\"] "
   ]
  },
  {
   "cell_type": "code",
   "execution_count": 9,
   "id": "ee819d4f",
   "metadata": {},
   "outputs": [
    {
     "name": "stdout",
     "output_type": "stream",
     "text": [
      "Dear Rohit your slary is 5000\n"
     ]
    }
   ],
   "source": [
    "emp_salary = [2000, 4000, 5000, 6000, 6500, 5200]\n",
    "\n",
    "emp_Name = ['Farhad','Shankar','Rohit','Astha','Shital','Abhishek']\n",
    "\n",
    "for val in emp_Name:\n",
    "    if val == 'Rohit':\n",
    "        name_index = emp_Name.index(val) #identify the index number using index method\n",
    "        print('Dear ' + val +  \" your slary is\",emp_salary[name_index]) #using the index number and fetching the same"
   ]
  },
  {
   "cell_type": "markdown",
   "id": "e9dc6abd",
   "metadata": {},
   "source": [
    "Question 3:\n",
    "\n",
    "Write python code to calculate health premium.\n",
    "\n",
    "a Gender Male and Female only\n",
    "b Date of Birth - year only (no date and month)\n",
    "c Smoker yes and no only\n",
    "\n",
    "Premium Criteria should be\n",
    "\n",
    "a For male born between 1990 - 2000 and if he is a smoker, print as \"Your annual premium is 35000\" and for non smoker apply discount 10% to 35000 and print final discounted price \n",
    "\n",
    "b Born between 1970-1990 and smoker, premium is 40000 and for non smoker apply 5% discount to 40000 and print final price\n",
    "\n",
    "c For female born between 1990 - 2000 and if she is a smoker, premium is 30000 and for non smoker apply discount 10% to 30000 and print final discounted price\n",
    "\n",
    "d If born between 1970 - 1990 and smoker, premium is 35000 and for non smoker apply 5% discount to 35000 and print final price."
   ]
  },
  {
   "cell_type": "code",
   "execution_count": 3,
   "id": "4bc7eb12",
   "metadata": {},
   "outputs": [],
   "source": [
    "def check_premium(gender,year_of_birth,smoker):\n",
    "    \n",
    "    smoker_text = 'Your annual premium is = Rs '\n",
    "    non_smoker_text = 'Your discounted annual premium is = Rs '\n",
    "    \n",
    "    if gender == 'Male':\n",
    "        if year_of_birth>1990 and year_of_birth<=2000:\n",
    "            if smoker == 'Yes':\n",
    "                print(smoker_text, 35000)\n",
    "            else:\n",
    "                print(non_smoker_text, 35000 - (35000 * 0.1))\n",
    "                \n",
    "        elif year_of_birth>1970 and year_of_birth<=1990:\n",
    "            if smoker == 'Yes':\n",
    "                print(smoker_text, 40000)\n",
    "            else:\n",
    "                print(non_smoker_text,40000 - (40000 * 0.05))\n",
    "                \n",
    "    elif gender == 'Female':\n",
    "        if year_of_birth>1990 and year_of_birth<=2000:\n",
    "            if smoker == 'Yes':\n",
    "                print(smoker_text,30000)\n",
    "            else:\n",
    "                print(non_smoker_text,30000 - (30000 * 0.1))\n",
    "                \n",
    "        elif year_of_birth>1970 and year_of_birth<=1990:\n",
    "            if smoker == 'Yes':\n",
    "                print(smoker_text,35000)\n",
    "            else:\n",
    "                print(non_smoker_text,35000 - (35000 * 0.05))"
   ]
  },
  {
   "cell_type": "code",
   "execution_count": 6,
   "id": "d76a2ae1",
   "metadata": {},
   "outputs": [
    {
     "name": "stdout",
     "output_type": "stream",
     "text": [
      "Select Male or Female = Female\n",
      "Enter your birth year = 1995\n",
      "Select Yes or No =Yes\n",
      "Your annual premium is = Rs  30000\n"
     ]
    }
   ],
   "source": [
    "gender = input('Select Male or Female = ')\n",
    "dob = int(input('Enter your birth year = '))\n",
    "smoker = input('Select Yes or No =')\n",
    "check_premium(gender,dob,smoker)"
   ]
  },
  {
   "cell_type": "code",
   "execution_count": null,
   "id": "d86ca05c",
   "metadata": {},
   "outputs": [],
   "source": []
  }
 ],
 "metadata": {
  "kernelspec": {
   "display_name": "Python 3 (ipykernel)",
   "language": "python",
   "name": "python3"
  },
  "language_info": {
   "codemirror_mode": {
    "name": "ipython",
    "version": 3
   },
   "file_extension": ".py",
   "mimetype": "text/x-python",
   "name": "python",
   "nbconvert_exporter": "python",
   "pygments_lexer": "ipython3",
   "version": "3.10.9"
  }
 },
 "nbformat": 4,
 "nbformat_minor": 5
}
