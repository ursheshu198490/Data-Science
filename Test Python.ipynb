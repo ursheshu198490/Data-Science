{
 "cells": [
  {
   "cell_type": "code",
   "execution_count": null,
   "id": "6df35006",
   "metadata": {},
   "outputs": [],
   "source": [
    "Question 1"
   ]
  },
  {
   "cell_type": "code",
   "execution_count": 1,
   "id": "881c1450",
   "metadata": {},
   "outputs": [
    {
     "data": {
      "text/plain": [
       "[22500, 50005, 45000, 19350, 25000, 10250, 15505]"
      ]
     },
     "execution_count": 1,
     "metadata": {},
     "output_type": "execute_result"
    }
   ],
   "source": [
    "salary = [22500, 50005, 45000, 19350, 25000, 10250, 15505]\n",
    "salary"
   ]
  },
  {
   "cell_type": "code",
   "execution_count": 30,
   "id": "1aa07008",
   "metadata": {},
   "outputs": [
    {
     "name": "stdout",
     "output_type": "stream",
     "text": [
      "22500\n",
      "19350\n",
      "10250\n",
      "15505\n"
     ]
    }
   ],
   "source": [
    "for val in salary:\n",
    "    if val >=25000:\n",
    "        continue\n",
    "    print (val) "
   ]
  },
  {
   "cell_type": "code",
   "execution_count": null,
   "id": "b46adb36",
   "metadata": {},
   "outputs": [],
   "source": [
    "Question 2"
   ]
  },
  {
   "cell_type": "code",
   "execution_count": 15,
   "id": "e2baf091",
   "metadata": {},
   "outputs": [],
   "source": [
    "emp_salary = [2000,4000,5000,6000,6500,5200]\n",
    "empl_name = ['Farhad', 'Shankar', 'Rohit', 'Astha', 'Shital', 'Abhishek']"
   ]
  },
  {
   "cell_type": "code",
   "execution_count": 16,
   "id": "dcbb5e81",
   "metadata": {},
   "outputs": [],
   "source": [
    "employee_price = list(zip(emp_salary,empl_name))"
   ]
  },
  {
   "cell_type": "code",
   "execution_count": 12,
   "id": "29d9a2be",
   "metadata": {},
   "outputs": [
    {
     "data": {
      "text/plain": [
       "[(2000, 'Farhad'),\n",
       " (4000, 'Shankar'),\n",
       " (5000, 'Rohit'),\n",
       " (6000, 'Astha'),\n",
       " (6500, 'Shital'),\n",
       " (5200, 'Abhishek')]"
      ]
     },
     "execution_count": 12,
     "metadata": {},
     "output_type": "execute_result"
    }
   ],
   "source": [
    "employee_price"
   ]
  },
  {
   "cell_type": "code",
   "execution_count": 22,
   "id": "fa5966ac",
   "metadata": {},
   "outputs": [
    {
     "data": {
      "text/plain": [
       "[2000, 4000, 5000, 6000, 6500, 5200]"
      ]
     },
     "execution_count": 22,
     "metadata": {},
     "output_type": "execute_result"
    }
   ],
   "source": [
    "emp_salary"
   ]
  },
  {
   "cell_type": "code",
   "execution_count": 23,
   "id": "eef7f4d1",
   "metadata": {},
   "outputs": [
    {
     "data": {
      "text/plain": [
       "['Farhad', 'Shankar', 'Rohit', 'Astha', 'Shital', 'Abhishek']"
      ]
     },
     "execution_count": 23,
     "metadata": {},
     "output_type": "execute_result"
    }
   ],
   "source": [
    "empl_name"
   ]
  },
  {
   "cell_type": "code",
   "execution_count": null,
   "id": "3bf9afaf",
   "metadata": {},
   "outputs": [],
   "source": [
    "print (\"Dear\",empl_name(2) \"your salary is\", emp_salary (2)) - not getting the 2nd answer"
   ]
  },
  {
   "cell_type": "code",
   "execution_count": null,
   "id": "11ee6c12",
   "metadata": {},
   "outputs": [],
   "source": [
    "Question 3"
   ]
  },
  {
   "cell_type": "code",
   "execution_count": null,
   "id": "bef3f4fc",
   "metadata": {},
   "outputs": [],
   "source": [
    "def health_premium (Gender, DOB, Smoker):\n",
    "    if Gender == 'Male':\n",
    "        if 1990<DOB<=2000:\n",
    "            if Smoker = 'yes':\n",
    "                print ('Your annual premium is Rs 35000')\n",
    "            elif:\n",
    "                print ('Apply discount 10% to Rs 35000')\n",
    "    \n",
    "    elif 1970<DOB<=1990:\n",
    "        if Smoker = 'yes':\n",
    "            print ('Premium is Rs 40000')\n",
    "        else:\n",
    "            print('Premium is 5% discount on Rs 40000')\n",
    "            \n",
    "    else:\n",
    "        print ('Not eligible for Insurance')\n",
    "        \n",
    "    elif Gender = 'Female':\n",
    "        if 1990<DOB<=2000:\n",
    "            if Smoker = 'yes':\n",
    "                print ('Your annual premium is Rs 30000')\n",
    "            elif:\n",
    "                print ('Apply 10% discount on Rs 30000')\n",
    "        \n",
    "        elif 1970<DOB<=1990:\n",
    "            if Smoker = 'yes':\n",
    "                print ('Premium ')\n",
    "        \n",
    "        "
   ]
  }
 ],
 "metadata": {
  "kernelspec": {
   "display_name": "Python 3 (ipykernel)",
   "language": "python",
   "name": "python3"
  },
  "language_info": {
   "codemirror_mode": {
    "name": "ipython",
    "version": 3
   },
   "file_extension": ".py",
   "mimetype": "text/x-python",
   "name": "python",
   "nbconvert_exporter": "python",
   "pygments_lexer": "ipython3",
   "version": "3.10.9"
  }
 },
 "nbformat": 4,
 "nbformat_minor": 5
}
