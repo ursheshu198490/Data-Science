{
 "cells": [
  {
   "cell_type": "code",
   "execution_count": null,
   "id": "40dcd89b",
   "metadata": {},
   "outputs": [],
   "source": [
    "import numpy as np\n",
    "import pandas as pd"
   ]
  },
  {
   "cell_type": "code",
   "execution_count": null,
   "id": "7b6926de",
   "metadata": {},
   "outputs": [],
   "source": [
    "print(np.random.randint(15,60,(4,6)))"
   ]
  },
  {
   "cell_type": "code",
   "execution_count": null,
   "id": "c4d878b9",
   "metadata": {},
   "outputs": [],
   "source": [
    "class Account():\n",
    "    def __init__(self, user_id   = input ('Enter your Userid - '),\n",
    "                       password  = input ('Enter your password = ')):\n",
    "                       \n",
    "        \n",
    "        self.user_id   = user_id\n",
    "        self.password  = password\n",
    "\n",
    "        \n",
    "    def login(self):\n",
    "        attempts = 1\n",
    "        \n",
    "        while True:\n",
    "            signin = input ('Enter your Userid -')\n",
    "            password = input ('Enter your password =')\n",
    "            \n",
    "            if signin == self.user_id and password == self.password:\n",
    "                print ('Successfully logged in')\n",
    "                break\n",
    "                \n",
    "            else:\n",
    "                \n",
    "                if attempts==3:\n",
    "                    print ('Maximum attempts reached, please contact Customer care')\n",
    "                    break\n",
    "                    \n",
    "                else:\n",
    "                    print('Userid or Password is invalid')\n",
    "                    attempts +=1\n",
    "                    continue\n"
   ]
  },
  {
   "cell_type": "code",
   "execution_count": null,
   "id": "9b6c134d",
   "metadata": {},
   "outputs": [],
   "source": [
    "bank = Account()"
   ]
  },
  {
   "cell_type": "code",
   "execution_count": null,
   "id": "f07cf745",
   "metadata": {},
   "outputs": [],
   "source": [
    "bank.login()"
   ]
  },
  {
   "cell_type": "code",
   "execution_count": null,
   "id": "ea128dee",
   "metadata": {},
   "outputs": [],
   "source": []
  }
 ],
 "metadata": {
  "kernelspec": {
   "display_name": "Python 3 (ipykernel)",
   "language": "python",
   "name": "python3"
  },
  "language_info": {
   "codemirror_mode": {
    "name": "ipython",
    "version": 3
   },
   "file_extension": ".py",
   "mimetype": "text/x-python",
   "name": "python",
   "nbconvert_exporter": "python",
   "pygments_lexer": "ipython3",
   "version": "3.10.9"
  }
 },
 "nbformat": 4,
 "nbformat_minor": 5
}
